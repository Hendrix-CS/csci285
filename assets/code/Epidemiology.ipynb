{
 "cells": [
  {
   "cell_type": "code",
   "execution_count": 1,
   "metadata": {},
   "outputs": [],
   "source": [
    "%matplotlib inline\n",
    "import pandas as pd\n",
    "from plotnine import *\n",
    "import numpy as np"
   ]
  },
  {
   "cell_type": "code",
   "execution_count": 2,
   "metadata": {},
   "outputs": [],
   "source": [
    "def rk4(func, initial, deltas):\n",
    "    ys = [initial]\n",
    "    for i in range(1, len(xs)):\n",
    "        old = np.array(ys[-1][:])\n",
    "        dt = xs[i] - xs[i - 1]\n",
    "        d1 = np.array(func(old, xs[i])) * dt\n",
    "        d2 = np.array(func(old + 0.5 * d1, xs[i] + 0.5 * dt)) * dt\n",
    "        d3 = np.array(func(old + 0.5 * d2, xs[i] + 0.5 * dt)) * dt\n",
    "        d4 = np.array(func(old + d3, xs[i] + dt)) * dt\n",
    "        better = old + ((d1 + 2 * d2 + 2 * d3 + d4) / 6.0)\n",
    "        ys.append(better)\n",
    "    return np.array(ys)"
   ]
  },
  {
   "cell_type": "code",
   "execution_count": 94,
   "metadata": {},
   "outputs": [
    {
     "data": {
      "text/plain": [
       "4.499999999999999"
      ]
     },
     "execution_count": 94,
     "metadata": {},
     "output_type": "execute_result"
    }
   ],
   "source": [
    "I = 0.001\n",
    "S = 1 - I\n",
    "R = 0\n",
    "\n",
    "num_contacts = 15\n",
    "prob_trans = 0.03\n",
    "duration = 10\n",
    "\n",
    "beta = num_contacts * prob_trans\n",
    "gamma = 1 / duration\n",
    "\n",
    "sim_length = 120\n",
    "\n",
    "r_0 = beta / gamma\n",
    "r_0"
   ]
  },
  {
   "cell_type": "markdown",
   "metadata": {},
   "source": [
    "$R_0$"
   ]
  },
  {
   "cell_type": "code",
   "execution_count": 100,
   "metadata": {},
   "outputs": [],
   "source": [
    "def SIR(u, t):\n",
    "    S, I, R = u\n",
    "    dS = -beta * I * S \n",
    "    dI = beta * I * S - gamma * I\n",
    "    dR = gamma * I\n",
    "    return np.array([dS, dI, dR])"
   ]
  },
  {
   "cell_type": "code",
   "execution_count": 101,
   "metadata": {},
   "outputs": [],
   "source": [
    "xs = np.linspace(0, sim_length, sim_length * 300)\n",
    "ys = rk4(SIR, [S, I, R], xs)"
   ]
  },
  {
   "cell_type": "code",
   "execution_count": 102,
   "metadata": {},
   "outputs": [],
   "source": [
    "df = pd.DataFrame(ys, columns=[\"Susceptible\", \"Infected\", \"Recovered\"])\n",
    "df[\"Time\"] = xs"
   ]
  },
  {
   "cell_type": "code",
   "execution_count": 103,
   "metadata": {
    "scrolled": true
   },
   "outputs": [
    {
     "data": {
      "text/html": [
       "<div>\n",
       "<style scoped>\n",
       "    .dataframe tbody tr th:only-of-type {\n",
       "        vertical-align: middle;\n",
       "    }\n",
       "\n",
       "    .dataframe tbody tr th {\n",
       "        vertical-align: top;\n",
       "    }\n",
       "\n",
       "    .dataframe thead th {\n",
       "        text-align: right;\n",
       "    }\n",
       "</style>\n",
       "<table border=\"1\" class=\"dataframe\">\n",
       "  <thead>\n",
       "    <tr style=\"text-align: right;\">\n",
       "      <th></th>\n",
       "      <th>Time</th>\n",
       "      <th>Categories</th>\n",
       "      <th>Population</th>\n",
       "    </tr>\n",
       "  </thead>\n",
       "  <tbody>\n",
       "    <tr>\n",
       "      <th>0</th>\n",
       "      <td>0.000000</td>\n",
       "      <td>Susceptible</td>\n",
       "      <td>0.999000</td>\n",
       "    </tr>\n",
       "    <tr>\n",
       "      <th>1</th>\n",
       "      <td>0.003333</td>\n",
       "      <td>Susceptible</td>\n",
       "      <td>0.998999</td>\n",
       "    </tr>\n",
       "    <tr>\n",
       "      <th>2</th>\n",
       "      <td>0.006667</td>\n",
       "      <td>Susceptible</td>\n",
       "      <td>0.998997</td>\n",
       "    </tr>\n",
       "    <tr>\n",
       "      <th>3</th>\n",
       "      <td>0.010000</td>\n",
       "      <td>Susceptible</td>\n",
       "      <td>0.998995</td>\n",
       "    </tr>\n",
       "    <tr>\n",
       "      <th>4</th>\n",
       "      <td>0.013334</td>\n",
       "      <td>Susceptible</td>\n",
       "      <td>0.998994</td>\n",
       "    </tr>\n",
       "    <tr>\n",
       "      <th>...</th>\n",
       "      <td>...</td>\n",
       "      <td>...</td>\n",
       "      <td>...</td>\n",
       "    </tr>\n",
       "    <tr>\n",
       "      <th>107995</th>\n",
       "      <td>119.986666</td>\n",
       "      <td>Recovered</td>\n",
       "      <td>0.988216</td>\n",
       "    </tr>\n",
       "    <tr>\n",
       "      <th>107996</th>\n",
       "      <td>119.990000</td>\n",
       "      <td>Recovered</td>\n",
       "      <td>0.988216</td>\n",
       "    </tr>\n",
       "    <tr>\n",
       "      <th>107997</th>\n",
       "      <td>119.993333</td>\n",
       "      <td>Recovered</td>\n",
       "      <td>0.988216</td>\n",
       "    </tr>\n",
       "    <tr>\n",
       "      <th>107998</th>\n",
       "      <td>119.996667</td>\n",
       "      <td>Recovered</td>\n",
       "      <td>0.988216</td>\n",
       "    </tr>\n",
       "    <tr>\n",
       "      <th>107999</th>\n",
       "      <td>120.000000</td>\n",
       "      <td>Recovered</td>\n",
       "      <td>0.988216</td>\n",
       "    </tr>\n",
       "  </tbody>\n",
       "</table>\n",
       "<p>108000 rows × 3 columns</p>\n",
       "</div>"
      ],
      "text/plain": [
       "              Time   Categories  Population\n",
       "0         0.000000  Susceptible    0.999000\n",
       "1         0.003333  Susceptible    0.998999\n",
       "2         0.006667  Susceptible    0.998997\n",
       "3         0.010000  Susceptible    0.998995\n",
       "4         0.013334  Susceptible    0.998994\n",
       "...            ...          ...         ...\n",
       "107995  119.986666    Recovered    0.988216\n",
       "107996  119.990000    Recovered    0.988216\n",
       "107997  119.993333    Recovered    0.988216\n",
       "107998  119.996667    Recovered    0.988216\n",
       "107999  120.000000    Recovered    0.988216\n",
       "\n",
       "[108000 rows x 3 columns]"
      ]
     },
     "execution_count": 103,
     "metadata": {},
     "output_type": "execute_result"
    }
   ],
   "source": [
    "dfmelt=pd.melt(df, id_vars=['Time'], \n",
    "               value_vars=[\"Susceptible\", \"Infected\", \"Recovered\"], \n",
    "               var_name='Categories', value_name='Population')\n",
    "dfmelt"
   ]
  },
  {
   "cell_type": "code",
   "execution_count": 104,
   "metadata": {},
   "outputs": [
    {
     "data": {
      "image/png": "[encoded data removed]",
      "text/plain": [
       "<Figure size 640x480 with 1 Axes>"
      ]
     },
     "metadata": {},
     "output_type": "display_data"
    },
    {
     "data": {
      "text/plain": [
       "<ggplot: (8785662814808)>"
      ]
     },
     "execution_count": 104,
     "metadata": {},
     "output_type": "execute_result"
    }
   ],
   "source": [
    "ggplot(dfmelt, aes(x=\"Time\", y=\"Population\", color=\"Categories\")) \\\n",
    "+ geom_line() \\\n",
    "+ labs(title=\"SIR Model\")"
   ]
  },
  {
   "cell_type": "code",
   "execution_count": null,
   "metadata": {},
   "outputs": [],
   "source": []
  },
  {
   "cell_type": "code",
   "execution_count": null,
   "metadata": {},
   "outputs": [],
   "source": []
  }
 ],
 "metadata": {
  "kernelspec": {
   "display_name": "Python 3",
   "language": "python",
   "name": "python3"
  },
  "language_info": {
   "codemirror_mode": {
    "name": "ipython",
    "version": 3
   },
   "file_extension": ".py",
   "mimetype": "text/x-python",
   "name": "python",
   "nbconvert_exporter": "python",
   "pygments_lexer": "ipython3",
   "version": "3.8.3"
  }
 },
 "nbformat": 4,
 "nbformat_minor": 4
}
