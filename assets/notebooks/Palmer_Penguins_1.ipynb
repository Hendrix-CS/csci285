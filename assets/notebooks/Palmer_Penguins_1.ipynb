{
 "cells": [
  {
   "cell_type": "code",
   "execution_count": 1,
   "id": "33ecd4d2-0fbd-48a9-a9d5-03267132bad6",
   "metadata": {},
   "outputs": [],
   "source": [
    "%matplotlib inline\n",
    "import pandas as pd"
   ]
  },
  {
   "cell_type": "markdown",
   "id": "75d324be-6741-474e-a177-af8bd46531d6",
   "metadata": {},
   "source": [
    "# Loading up the data with pandas\n",
    "The [Palmer Penguins dataset](https://github.com/allisonhorst/palmerpenguins) is composed of two CSV files: One with \"raw\" data and one, presumably, less \"raw\". Here is a data dictionary I found on [Kaggle](https://www.kaggle.com/datasets/parulpandey/palmer-archipelago-antarctica-penguin-data). \n",
    "\n",
    "* species: penguin species (Chinstrap, Adélie, or Gentoo)\n",
    "* culmen_length_mm: culmen length (mm)\n",
    "* culmen_depth_mm: culmen depth (mm)\n",
    "* flipper_length_mm: flipper length (mm)\n",
    "* body_mass_g: body mass (g)\n",
    "* island: island name (Dream, Torgersen, or Biscoe) in the Palmer Archipelago (Antarctica)\n",
    "* sex: penguin sex\n",
    "* year: the year the observation was made\n",
    "\n",
    "Pandas lets me load this up in a DataFrame object, capturing the rows and columns of a csv file."
   ]
  },
  {
   "cell_type": "code",
   "execution_count": 31,
   "id": "273f430b-a9cd-4c7f-9efc-336e83964861",
   "metadata": {},
   "outputs": [
    {
     "data": {
      "text/plain": [
       "['studyName',\n",
       " 'Sample Number',\n",
       " 'Species',\n",
       " 'Region',\n",
       " 'Island',\n",
       " 'Stage',\n",
       " 'Individual ID',\n",
       " 'Clutch Completion',\n",
       " 'Date Egg',\n",
       " 'Culmen Length (mm)',\n",
       " 'Culmen Depth (mm)',\n",
       " 'Flipper Length (mm)',\n",
       " 'Body Mass (g)',\n",
       " 'Sex',\n",
       " 'Delta 15 N (o/oo)',\n",
       " 'Delta 13 C (o/oo)',\n",
       " 'Comments']"
      ]
     },
     "execution_count": 31,
     "metadata": {},
     "output_type": "execute_result"
    }
   ],
   "source": [
    "raw_df = pd.read_csv('data/palmerpenguins/inst/extdata/penguins_raw.csv')\n",
    "raw_df.columns.tolist()"
   ]
  },
  {
   "cell_type": "code",
   "execution_count": 36,
   "id": "dabaaebb-3457-4b9c-a859-51caa245f44f",
   "metadata": {},
   "outputs": [
    {
     "data": {
      "text/plain": [
       "['species',\n",
       " 'island',\n",
       " 'bill_length_mm',\n",
       " 'bill_depth_mm',\n",
       " 'flipper_length_mm',\n",
       " 'body_mass_g',\n",
       " 'sex',\n",
       " 'year']"
      ]
     },
     "execution_count": 36,
     "metadata": {},
     "output_type": "execute_result"
    }
   ],
   "source": [
    "df = pd.read_csv('data/palmerpenguins/inst/extdata/penguins.csv')\n",
    "list(df.columns)"
   ]
  },
  {
   "cell_type": "code",
   "execution_count": 25,
   "id": "6ded3974-b9bf-400d-bef6-fab1b254c177",
   "metadata": {},
   "outputs": [],
   "source": [
    "# for i in df['island'].unique().tolist():\n",
    "#     print(i)"
   ]
  },
  {
   "cell_type": "code",
   "execution_count": 32,
   "id": "0ff015f2-ff1a-44c3-a8cf-fe8f5b9128d7",
   "metadata": {},
   "outputs": [
    {
     "data": {
      "text/html": [
       "<div>\n",
       "<style scoped>\n",
       "    .dataframe tbody tr th:only-of-type {\n",
       "        vertical-align: middle;\n",
       "    }\n",
       "\n",
       "    .dataframe tbody tr th {\n",
       "        vertical-align: top;\n",
       "    }\n",
       "\n",
       "    .dataframe thead th {\n",
       "        text-align: right;\n",
       "    }\n",
       "</style>\n",
       "<table border=\"1\" class=\"dataframe\">\n",
       "  <thead>\n",
       "    <tr style=\"text-align: right;\">\n",
       "      <th></th>\n",
       "      <th>species</th>\n",
       "      <th>island</th>\n",
       "      <th>bill_length_mm</th>\n",
       "      <th>bill_depth_mm</th>\n",
       "      <th>flipper_length_mm</th>\n",
       "      <th>body_mass_g</th>\n",
       "      <th>sex</th>\n",
       "      <th>year</th>\n",
       "    </tr>\n",
       "  </thead>\n",
       "  <tbody>\n",
       "    <tr>\n",
       "      <th>0</th>\n",
       "      <td>Adelie</td>\n",
       "      <td>Torgersen</td>\n",
       "      <td>39.1</td>\n",
       "      <td>18.7</td>\n",
       "      <td>181.0</td>\n",
       "      <td>3750.0</td>\n",
       "      <td>male</td>\n",
       "      <td>2007</td>\n",
       "    </tr>\n",
       "    <tr>\n",
       "      <th>1</th>\n",
       "      <td>Adelie</td>\n",
       "      <td>Torgersen</td>\n",
       "      <td>39.5</td>\n",
       "      <td>17.4</td>\n",
       "      <td>186.0</td>\n",
       "      <td>3800.0</td>\n",
       "      <td>female</td>\n",
       "      <td>2007</td>\n",
       "    </tr>\n",
       "    <tr>\n",
       "      <th>2</th>\n",
       "      <td>Adelie</td>\n",
       "      <td>Torgersen</td>\n",
       "      <td>40.3</td>\n",
       "      <td>18.0</td>\n",
       "      <td>195.0</td>\n",
       "      <td>3250.0</td>\n",
       "      <td>female</td>\n",
       "      <td>2007</td>\n",
       "    </tr>\n",
       "    <tr>\n",
       "      <th>3</th>\n",
       "      <td>Adelie</td>\n",
       "      <td>Torgersen</td>\n",
       "      <td>NaN</td>\n",
       "      <td>NaN</td>\n",
       "      <td>NaN</td>\n",
       "      <td>NaN</td>\n",
       "      <td>NaN</td>\n",
       "      <td>2007</td>\n",
       "    </tr>\n",
       "    <tr>\n",
       "      <th>4</th>\n",
       "      <td>Adelie</td>\n",
       "      <td>Torgersen</td>\n",
       "      <td>36.7</td>\n",
       "      <td>19.3</td>\n",
       "      <td>193.0</td>\n",
       "      <td>3450.0</td>\n",
       "      <td>female</td>\n",
       "      <td>2007</td>\n",
       "    </tr>\n",
       "  </tbody>\n",
       "</table>\n",
       "</div>"
      ],
      "text/plain": [
       "  species     island  bill_length_mm  bill_depth_mm  flipper_length_mm  \\\n",
       "0  Adelie  Torgersen            39.1           18.7              181.0   \n",
       "1  Adelie  Torgersen            39.5           17.4              186.0   \n",
       "2  Adelie  Torgersen            40.3           18.0              195.0   \n",
       "3  Adelie  Torgersen             NaN            NaN                NaN   \n",
       "4  Adelie  Torgersen            36.7           19.3              193.0   \n",
       "\n",
       "   body_mass_g     sex  year  \n",
       "0       3750.0    male  2007  \n",
       "1       3800.0  female  2007  \n",
       "2       3250.0  female  2007  \n",
       "3          NaN     NaN  2007  \n",
       "4       3450.0  female  2007  "
      ]
     },
     "execution_count": 32,
     "metadata": {},
     "output_type": "execute_result"
    }
   ],
   "source": [
    "df.head()"
   ]
  },
  {
   "cell_type": "code",
   "execution_count": null,
   "id": "8b664ce6-ad65-4ecf-8d29-c6736c3b1f94",
   "metadata": {},
   "outputs": [],
   "source": []
  },
  {
   "cell_type": "code",
   "execution_count": 34,
   "id": "9d01027c-084b-4d89-9bef-1514a2e5fa02",
   "metadata": {},
   "outputs": [],
   "source": [
    "raw_df = raw_df[[\n",
    "    'Species', \n",
    "    'Island', \n",
    "    'Date Egg', \n",
    "    'Culmen Length (mm)', \n",
    "    'Culmen Depth (mm)', \n",
    "    'Flipper Length (mm)',\n",
    "    'Body Mass (g)',\n",
    "    'Sex']]"
   ]
  },
  {
   "cell_type": "code",
   "execution_count": 37,
   "id": "fe676076-b68f-42d5-abcf-a183b81eb541",
   "metadata": {},
   "outputs": [],
   "source": [
    "raw_df.columns = ['species',\n",
    " 'island',\n",
    " 'date',\n",
    " 'bill_length_mm',\n",
    " 'bill_depth_mm',\n",
    " 'flipper_length_mm',\n",
    " 'body_mass_g',\n",
    " 'sex']"
   ]
  },
  {
   "cell_type": "code",
   "execution_count": 41,
   "id": "ee2fb254-acee-4f9f-af21-3c8d50a5cfab",
   "metadata": {},
   "outputs": [],
   "source": [
    "#raw_df['date'] = pd.to_datetime(raw_df['date'])\n",
    "raw_df['year'] = raw_df['date'].apply(lambda x: x.year)"
   ]
  },
  {
   "cell_type": "code",
   "execution_count": 43,
   "id": "98e43025-2b99-407b-adcd-8b474c3fdb08",
   "metadata": {},
   "outputs": [],
   "source": [
    "raw_df = raw_df.drop('date',axis=1)"
   ]
  },
  {
   "cell_type": "code",
   "execution_count": 45,
   "id": "27b707ee-e463-4d55-969a-22f49a56dcfc",
   "metadata": {},
   "outputs": [
    {
     "data": {
      "text/html": [
       "<div>\n",
       "<style scoped>\n",
       "    .dataframe tbody tr th:only-of-type {\n",
       "        vertical-align: middle;\n",
       "    }\n",
       "\n",
       "    .dataframe tbody tr th {\n",
       "        vertical-align: top;\n",
       "    }\n",
       "\n",
       "    .dataframe thead th {\n",
       "        text-align: right;\n",
       "    }\n",
       "</style>\n",
       "<table border=\"1\" class=\"dataframe\">\n",
       "  <thead>\n",
       "    <tr style=\"text-align: right;\">\n",
       "      <th></th>\n",
       "      <th>species</th>\n",
       "      <th>island</th>\n",
       "      <th>bill_length_mm</th>\n",
       "      <th>bill_depth_mm</th>\n",
       "      <th>flipper_length_mm</th>\n",
       "      <th>body_mass_g</th>\n",
       "      <th>sex</th>\n",
       "      <th>year</th>\n",
       "    </tr>\n",
       "  </thead>\n",
       "  <tbody>\n",
       "    <tr>\n",
       "      <th>0</th>\n",
       "      <td>Adelie Penguin (Pygoscelis adeliae)</td>\n",
       "      <td>Torgersen</td>\n",
       "      <td>39.1</td>\n",
       "      <td>18.7</td>\n",
       "      <td>181.0</td>\n",
       "      <td>3750.0</td>\n",
       "      <td>MALE</td>\n",
       "      <td>2007</td>\n",
       "    </tr>\n",
       "  </tbody>\n",
       "</table>\n",
       "</div>"
      ],
      "text/plain": [
       "                               species     island  bill_length_mm  \\\n",
       "0  Adelie Penguin (Pygoscelis adeliae)  Torgersen            39.1   \n",
       "\n",
       "   bill_depth_mm  flipper_length_mm  body_mass_g   sex  year  \n",
       "0           18.7              181.0       3750.0  MALE  2007  "
      ]
     },
     "execution_count": 45,
     "metadata": {},
     "output_type": "execute_result"
    }
   ],
   "source": [
    "raw_df.head(1)"
   ]
  },
  {
   "cell_type": "code",
   "execution_count": 46,
   "id": "90b10b0e-4f02-4478-ad47-ed716765153c",
   "metadata": {},
   "outputs": [
    {
     "data": {
      "text/html": [
       "<div>\n",
       "<style scoped>\n",
       "    .dataframe tbody tr th:only-of-type {\n",
       "        vertical-align: middle;\n",
       "    }\n",
       "\n",
       "    .dataframe tbody tr th {\n",
       "        vertical-align: top;\n",
       "    }\n",
       "\n",
       "    .dataframe thead th {\n",
       "        text-align: right;\n",
       "    }\n",
       "</style>\n",
       "<table border=\"1\" class=\"dataframe\">\n",
       "  <thead>\n",
       "    <tr style=\"text-align: right;\">\n",
       "      <th></th>\n",
       "      <th>species</th>\n",
       "      <th>island</th>\n",
       "      <th>bill_length_mm</th>\n",
       "      <th>bill_depth_mm</th>\n",
       "      <th>flipper_length_mm</th>\n",
       "      <th>body_mass_g</th>\n",
       "      <th>sex</th>\n",
       "      <th>year</th>\n",
       "    </tr>\n",
       "  </thead>\n",
       "  <tbody>\n",
       "    <tr>\n",
       "      <th>0</th>\n",
       "      <td>Adelie</td>\n",
       "      <td>Torgersen</td>\n",
       "      <td>39.1</td>\n",
       "      <td>18.7</td>\n",
       "      <td>181.0</td>\n",
       "      <td>3750.0</td>\n",
       "      <td>male</td>\n",
       "      <td>2007</td>\n",
       "    </tr>\n",
       "  </tbody>\n",
       "</table>\n",
       "</div>"
      ],
      "text/plain": [
       "  species     island  bill_length_mm  bill_depth_mm  flipper_length_mm  \\\n",
       "0  Adelie  Torgersen            39.1           18.7              181.0   \n",
       "\n",
       "   body_mass_g   sex  year  \n",
       "0       3750.0  male  2007  "
      ]
     },
     "execution_count": 46,
     "metadata": {},
     "output_type": "execute_result"
    }
   ],
   "source": [
    "df.head(1)"
   ]
  },
  {
   "cell_type": "code",
   "execution_count": 47,
   "id": "19deebf0-f472-4f81-bd9b-fc8b998d929d",
   "metadata": {},
   "outputs": [
    {
     "data": {
      "text/plain": [
       "array(['Adelie Penguin (Pygoscelis adeliae)',\n",
       "       'Gentoo penguin (Pygoscelis papua)',\n",
       "       'Chinstrap penguin (Pygoscelis antarctica)'], dtype=object)"
      ]
     },
     "execution_count": 47,
     "metadata": {},
     "output_type": "execute_result"
    }
   ],
   "source": [
    "raw_df['species'].unique()"
   ]
  },
  {
   "cell_type": "code",
   "execution_count": 48,
   "id": "df10c97e-887c-41d9-9f35-97346b3a57cc",
   "metadata": {},
   "outputs": [],
   "source": [
    "def clean_species(x):\n",
    "    if 'Adelie' in x:\n",
    "        return 'Adelie'\n",
    "    if 'Gentoo' in x:\n",
    "        return 'Gentoo'\n",
    "    if 'Chinstrap' in x:\n",
    "        return 'Chinstrap'"
   ]
  },
  {
   "cell_type": "code",
   "execution_count": 49,
   "id": "61f132d6-10a7-4947-9728-e4bf54d7e5cc",
   "metadata": {},
   "outputs": [
    {
     "data": {
      "text/plain": [
       "'Adelie'"
      ]
     },
     "execution_count": 49,
     "metadata": {},
     "output_type": "execute_result"
    }
   ],
   "source": [
    "clean_species('Adelie Penguin (Pygoscelis adeliae)')"
   ]
  },
  {
   "cell_type": "code",
   "execution_count": 52,
   "id": "3ededc0f-e4bb-4ec0-9c94-08b471be11ba",
   "metadata": {},
   "outputs": [],
   "source": [
    "raw_df['species'] = raw_df['species'].apply(clean_species)"
   ]
  },
  {
   "cell_type": "code",
   "execution_count": 62,
   "id": "96c75c20-0f4b-49e5-aaba-7c12f8e222f0",
   "metadata": {},
   "outputs": [],
   "source": [
    "\n",
    "raw_df['sex'] = raw_df['sex'].fillna('')"
   ]
  },
  {
   "cell_type": "code",
   "execution_count": 63,
   "id": "9e6ab86f-49a3-4793-8f8d-8b383f5863b1",
   "metadata": {},
   "outputs": [],
   "source": [
    "raw_df['sex'] = raw_df['sex'].apply(lambda x: x.lower())\n"
   ]
  },
  {
   "cell_type": "code",
   "execution_count": 64,
   "id": "cd686fdf-29ad-44e4-bf3e-2d2dde37bcda",
   "metadata": {},
   "outputs": [
    {
     "data": {
      "text/html": [
       "<div>\n",
       "<style scoped>\n",
       "    .dataframe tbody tr th:only-of-type {\n",
       "        vertical-align: middle;\n",
       "    }\n",
       "\n",
       "    .dataframe tbody tr th {\n",
       "        vertical-align: top;\n",
       "    }\n",
       "\n",
       "    .dataframe thead th {\n",
       "        text-align: right;\n",
       "    }\n",
       "</style>\n",
       "<table border=\"1\" class=\"dataframe\">\n",
       "  <thead>\n",
       "    <tr style=\"text-align: right;\">\n",
       "      <th></th>\n",
       "      <th>species</th>\n",
       "      <th>island</th>\n",
       "      <th>bill_length_mm</th>\n",
       "      <th>bill_depth_mm</th>\n",
       "      <th>flipper_length_mm</th>\n",
       "      <th>body_mass_g</th>\n",
       "      <th>sex</th>\n",
       "      <th>year</th>\n",
       "    </tr>\n",
       "  </thead>\n",
       "  <tbody>\n",
       "    <tr>\n",
       "      <th>0</th>\n",
       "      <td>Adelie</td>\n",
       "      <td>Torgersen</td>\n",
       "      <td>39.1</td>\n",
       "      <td>18.7</td>\n",
       "      <td>181.0</td>\n",
       "      <td>3750.0</td>\n",
       "      <td>male</td>\n",
       "      <td>2007</td>\n",
       "    </tr>\n",
       "  </tbody>\n",
       "</table>\n",
       "</div>"
      ],
      "text/plain": [
       "  species     island  bill_length_mm  bill_depth_mm  flipper_length_mm  \\\n",
       "0  Adelie  Torgersen            39.1           18.7              181.0   \n",
       "\n",
       "   body_mass_g   sex  year  \n",
       "0       3750.0  male  2007  "
      ]
     },
     "execution_count": 64,
     "metadata": {},
     "output_type": "execute_result"
    }
   ],
   "source": [
    "raw_df.head(1)"
   ]
  },
  {
   "cell_type": "code",
   "execution_count": 65,
   "id": "696e71f6-8cb4-4501-93ac-0b1ee09d76ec",
   "metadata": {},
   "outputs": [
    {
     "data": {
      "text/html": [
       "<div>\n",
       "<style scoped>\n",
       "    .dataframe tbody tr th:only-of-type {\n",
       "        vertical-align: middle;\n",
       "    }\n",
       "\n",
       "    .dataframe tbody tr th {\n",
       "        vertical-align: top;\n",
       "    }\n",
       "\n",
       "    .dataframe thead th {\n",
       "        text-align: right;\n",
       "    }\n",
       "</style>\n",
       "<table border=\"1\" class=\"dataframe\">\n",
       "  <thead>\n",
       "    <tr style=\"text-align: right;\">\n",
       "      <th></th>\n",
       "      <th>species</th>\n",
       "      <th>island</th>\n",
       "      <th>bill_length_mm</th>\n",
       "      <th>bill_depth_mm</th>\n",
       "      <th>flipper_length_mm</th>\n",
       "      <th>body_mass_g</th>\n",
       "      <th>sex</th>\n",
       "      <th>year</th>\n",
       "    </tr>\n",
       "  </thead>\n",
       "  <tbody>\n",
       "    <tr>\n",
       "      <th>0</th>\n",
       "      <td>Adelie</td>\n",
       "      <td>Torgersen</td>\n",
       "      <td>39.1</td>\n",
       "      <td>18.7</td>\n",
       "      <td>181.0</td>\n",
       "      <td>3750.0</td>\n",
       "      <td>male</td>\n",
       "      <td>2007</td>\n",
       "    </tr>\n",
       "  </tbody>\n",
       "</table>\n",
       "</div>"
      ],
      "text/plain": [
       "  species     island  bill_length_mm  bill_depth_mm  flipper_length_mm  \\\n",
       "0  Adelie  Torgersen            39.1           18.7              181.0   \n",
       "\n",
       "   body_mass_g   sex  year  \n",
       "0       3750.0  male  2007  "
      ]
     },
     "execution_count": 65,
     "metadata": {},
     "output_type": "execute_result"
    }
   ],
   "source": [
    "df.head(1)"
   ]
  },
  {
   "cell_type": "markdown",
   "id": "79d0bd41-32a4-4b27-9b5c-5a0c855aba91",
   "metadata": {},
   "source": [
    "### Functions\n",
    "1. nunique\n",
    "2. unique\n",
    "3. column selection\n",
    "4. row selection (df.loc[0])\n",
    "6. df.columns\n",
    "7. pd.to_datetime(raw_df['Date Egg']).apply(lambda x: x.year)\n",
    "8. df.dtypes\n",
    "9. groupby\n",
    "10. value_counts\n",
    "11. filtering / greater than / inclusion."
   ]
  },
  {
   "cell_type": "markdown",
   "id": "3db19c29-824b-4b40-9cb9-3ff8dfc732f9",
   "metadata": {},
   "source": []
  },
  {
   "cell_type": "code",
   "execution_count": null,
   "id": "ca1b5db3-e0e3-48eb-9633-fad3ced22df9",
   "metadata": {},
   "outputs": [],
   "source": []
  }
 ],
 "metadata": {
  "kernelspec": {
   "display_name": "Python 3 (ipykernel)",
   "language": "python",
   "name": "python3"
  },
  "language_info": {
   "codemirror_mode": {
    "name": "ipython",
    "version": 3
   },
   "file_extension": ".py",
   "mimetype": "text/x-python",
   "name": "python",
   "nbconvert_exporter": "python",
   "pygments_lexer": "ipython3",
   "version": "3.9.12"
  }
 },
 "nbformat": 4,
 "nbformat_minor": 5
}
