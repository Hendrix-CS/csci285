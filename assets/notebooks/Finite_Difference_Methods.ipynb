{
 "cells": [
  {
   "cell_type": "markdown",
   "id": "7581afee",
   "metadata": {},
   "source": [
    "# Finite Difference Methods\n",
    "* Derive eulers method using a taylor expansion\n",
    "* https://en.wikipedia.org/wiki/Finite_difference_method\n",
    "* https://en.wikipedia.org/wiki/Euler_method\n",
    "* https://en.wikipedia.org/wiki/Runge%E2%80%93Kutta_methods\n",
    "* https://en.wikipedia.org/wiki/FTCS_scheme\n"
   ]
  },
  {
   "cell_type": "markdown",
   "id": "5a7ba633",
   "metadata": {},
   "source": [
    "## Notes\n",
    "* http://nbviewer.org/github/waltherg/notebooks/blob/master/2013-12-03-Crank_Nicolson.ipynb\n",
    "* http://people.maths.ox.ac.uk/trefethen/pdetext.html\n",
    "* http://people.maths.ox.ac.uk/trefethen/3all.pdf\n",
    "* http://nbviewer.org/github/waltherg/notebooks/blob/master/2013-12-03-Crank_Nicolson.ipynb\n",
    "* https://georg.io/2014/01/09/Crank_Nicolson_Runge_Kutta\n",
    "* https://georg.io/2013/12/03/Crank_Nicolson"
   ]
  },
  {
   "cell_type": "code",
   "execution_count": null,
   "id": "45d641ed",
   "metadata": {},
   "outputs": [],
   "source": []
  }
 ],
 "metadata": {
  "kernelspec": {
   "display_name": "Python 3 (ipykernel)",
   "language": "python",
   "name": "python3"
  },
  "language_info": {
   "codemirror_mode": {
    "name": "ipython",
    "version": 3
   },
   "file_extension": ".py",
   "mimetype": "text/x-python",
   "name": "python",
   "nbconvert_exporter": "python",
   "pygments_lexer": "ipython3",
   "version": "3.9.12"
  }
 },
 "nbformat": 4,
 "nbformat_minor": 5
}
