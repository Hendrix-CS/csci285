{
 "cells": [
  {
   "cell_type": "code",
   "execution_count": 59,
   "id": "97807694-857e-4ce9-9819-0a9bad1deab9",
   "metadata": {},
   "outputs": [],
   "source": [
    "import pandas as pd"
   ]
  },
  {
   "cell_type": "markdown",
   "id": "c002b29e-6066-45aa-b43d-dc892a12b068",
   "metadata": {},
   "source": [
    "# Working with `pd.Series`"
   ]
  },
  {
   "cell_type": "code",
   "execution_count": 60,
   "id": "44721c07-ce0d-4442-8dfe-7d97500f4225",
   "metadata": {},
   "outputs": [],
   "source": [
    "# strings\n",
    "fruits = pd.Series([\"apples\", \"oranges\", \"bananas\", \"cherries\"])"
   ]
  },
  {
   "cell_type": "code",
   "execution_count": 61,
   "id": "1df6d68f-85f2-4c82-80f6-ff0322fc4970",
   "metadata": {},
   "outputs": [
    {
     "data": {
      "text/plain": [
       "0      apples\n",
       "1     oranges\n",
       "2     bananas\n",
       "3    cherries\n",
       "dtype: object"
      ]
     },
     "execution_count": 61,
     "metadata": {},
     "output_type": "execute_result"
    }
   ],
   "source": [
    "fruits"
   ]
  },
  {
   "cell_type": "code",
   "execution_count": 62,
   "id": "c5277d32-7b17-40e6-aa6c-082701f69d02",
   "metadata": {},
   "outputs": [
    {
     "name": "stdout",
     "output_type": "stream",
     "text": [
      "apples\n",
      "oranges\n",
      "bananas\n",
      "cherries\n"
     ]
    }
   ],
   "source": [
    "for fruit in fruits:\n",
    "    print(fruit)"
   ]
  },
  {
   "cell_type": "markdown",
   "id": "bf96f533-80e8-4982-b682-cd46bd9bef39",
   "metadata": {},
   "source": [
    "## Getting & setting"
   ]
  },
  {
   "cell_type": "code",
   "execution_count": 63,
   "id": "4396918a-017d-4314-802d-dc976c704805",
   "metadata": {},
   "outputs": [
    {
     "data": {
      "text/plain": [
       "'bananas'"
      ]
     },
     "execution_count": 63,
     "metadata": {},
     "output_type": "execute_result"
    }
   ],
   "source": [
    "fruits[2]"
   ]
  },
  {
   "cell_type": "code",
   "execution_count": 64,
   "id": "7784e6f8-4f1b-4a61-9971-fbf67810c7f7",
   "metadata": {},
   "outputs": [],
   "source": [
    "fruits[2] = 'kiwi'"
   ]
  },
  {
   "cell_type": "code",
   "execution_count": 65,
   "id": "425fdfc8-3651-4292-94bd-1f7c5d9442d6",
   "metadata": {},
   "outputs": [
    {
     "data": {
      "text/plain": [
       "0      apples\n",
       "1     oranges\n",
       "2        kiwi\n",
       "3    cherries\n",
       "dtype: object"
      ]
     },
     "execution_count": 65,
     "metadata": {},
     "output_type": "execute_result"
    }
   ],
   "source": [
    "fruits"
   ]
  },
  {
   "cell_type": "code",
   "execution_count": null,
   "id": "3094d025-8a5d-47ab-93e7-2daa7ee61129",
   "metadata": {},
   "outputs": [],
   "source": []
  },
  {
   "cell_type": "code",
   "execution_count": null,
   "id": "6e6435c1-e992-482d-935d-99325fe51c1d",
   "metadata": {},
   "outputs": [],
   "source": []
  },
  {
   "cell_type": "code",
   "execution_count": null,
   "id": "e62ecd16-cf62-4550-90e7-0c0e25183dd4",
   "metadata": {},
   "outputs": [],
   "source": []
  },
  {
   "cell_type": "markdown",
   "id": "760192f1-b0b2-4af6-b8c7-de0aa2f89a47",
   "metadata": {},
   "source": [
    "## `pd.Series` constructor\n",
    "https://pandas.pydata.org/pandas-docs/stable/reference/api/pandas.Series.html"
   ]
  },
  {
   "cell_type": "code",
   "execution_count": 66,
   "id": "cd3e3b77-b4a6-4fad-8c28-76dbe66c7940",
   "metadata": {},
   "outputs": [],
   "source": [
    "# floats\n",
    "temperature = pd.Series([32.6, 34.1, 28.0, 35.9], index = [\"a\",\"b\",\"c\",\"d\"], name=\"temperatures of fruit\")"
   ]
  },
  {
   "cell_type": "code",
   "execution_count": 67,
   "id": "4247c383-de39-4a74-857d-e3eab73d40a9",
   "metadata": {},
   "outputs": [
    {
     "data": {
      "text/plain": [
       "a    32.6\n",
       "b    34.1\n",
       "c    28.0\n",
       "d    35.9\n",
       "Name: temperatures of fruit, dtype: float64"
      ]
     },
     "execution_count": 67,
     "metadata": {},
     "output_type": "execute_result"
    }
   ],
   "source": [
    "temperature"
   ]
  },
  {
   "cell_type": "markdown",
   "id": "4347a260-fe22-43c2-816a-4ec832a7b35b",
   "metadata": {},
   "source": [
    "## Getting & setting"
   ]
  },
  {
   "cell_type": "code",
   "execution_count": 68,
   "id": "df937291-dc63-4fd6-bc64-c7ec0e79af18",
   "metadata": {},
   "outputs": [
    {
     "data": {
      "text/plain": [
       "28.0"
      ]
     },
     "execution_count": 68,
     "metadata": {},
     "output_type": "execute_result"
    }
   ],
   "source": [
    "temperature[2]"
   ]
  },
  {
   "cell_type": "code",
   "execution_count": 69,
   "id": "c5a78972",
   "metadata": {},
   "outputs": [
    {
     "data": {
      "text/plain": [
       "28.0"
      ]
     },
     "execution_count": 69,
     "metadata": {},
     "output_type": "execute_result"
    }
   ],
   "source": [
    "temperature['c']"
   ]
  },
  {
   "cell_type": "code",
   "execution_count": null,
   "id": "9cfe9573",
   "metadata": {},
   "outputs": [],
   "source": []
  },
  {
   "cell_type": "code",
   "execution_count": null,
   "id": "366d5245",
   "metadata": {},
   "outputs": [],
   "source": []
  },
  {
   "cell_type": "code",
   "execution_count": null,
   "id": "d1b30e70",
   "metadata": {},
   "outputs": [],
   "source": []
  },
  {
   "cell_type": "code",
   "execution_count": null,
   "id": "c77e57fd",
   "metadata": {},
   "outputs": [],
   "source": []
  },
  {
   "cell_type": "markdown",
   "id": "e3f43c78",
   "metadata": {},
   "source": [
    "# Working with `pd.DataFrame`"
   ]
  },
  {
   "cell_type": "code",
   "execution_count": 70,
   "id": "df425449",
   "metadata": {},
   "outputs": [
    {
     "data": {
      "text/plain": [
       "Index(['a', 'b', 'c', 'd'], dtype='object')"
      ]
     },
     "execution_count": 70,
     "metadata": {},
     "output_type": "execute_result"
    }
   ],
   "source": [
    "temperature.index"
   ]
  },
  {
   "cell_type": "code",
   "execution_count": 71,
   "id": "099c496f",
   "metadata": {},
   "outputs": [
    {
     "data": {
      "text/plain": [
       "RangeIndex(start=0, stop=4, step=1)"
      ]
     },
     "execution_count": 71,
     "metadata": {},
     "output_type": "execute_result"
    }
   ],
   "source": [
    "fruits.index"
   ]
  },
  {
   "cell_type": "code",
   "execution_count": null,
   "id": "e81a6710",
   "metadata": {},
   "outputs": [],
   "source": []
  },
  {
   "cell_type": "markdown",
   "id": "6884ef31",
   "metadata": {},
   "source": [
    "## Changing an index"
   ]
  },
  {
   "cell_type": "code",
   "execution_count": 72,
   "id": "9607457e",
   "metadata": {},
   "outputs": [],
   "source": [
    "fruits.index = temperature.index"
   ]
  },
  {
   "cell_type": "code",
   "execution_count": 73,
   "id": "ac3de6a4",
   "metadata": {},
   "outputs": [
    {
     "data": {
      "text/plain": [
       "Index(['a', 'b', 'c', 'd'], dtype='object')"
      ]
     },
     "execution_count": 73,
     "metadata": {},
     "output_type": "execute_result"
    }
   ],
   "source": [
    "temperature.index"
   ]
  },
  {
   "cell_type": "code",
   "execution_count": 74,
   "id": "bb78c050",
   "metadata": {},
   "outputs": [
    {
     "data": {
      "text/plain": [
       "Index(['a', 'b', 'c', 'd'], dtype='object')"
      ]
     },
     "execution_count": 74,
     "metadata": {},
     "output_type": "execute_result"
    }
   ],
   "source": [
    "fruits.index"
   ]
  },
  {
   "cell_type": "code",
   "execution_count": null,
   "id": "c975ce03",
   "metadata": {},
   "outputs": [],
   "source": []
  },
  {
   "cell_type": "markdown",
   "id": "506fb44f",
   "metadata": {},
   "source": [
    "## Creating a DataFrame from multiple Series"
   ]
  },
  {
   "cell_type": "code",
   "execution_count": 75,
   "id": "5d9caa68",
   "metadata": {},
   "outputs": [],
   "source": [
    "data = {\n",
    "    'fruit': fruits,\n",
    "    'temps': temperature,\n",
    "}\n",
    "\n",
    "df = pd.DataFrame(data, index=fruits.index)"
   ]
  },
  {
   "cell_type": "code",
   "execution_count": 76,
   "id": "c88afd59",
   "metadata": {},
   "outputs": [
    {
     "data": {
      "text/html": [
       "<div>\n",
       "<style scoped>\n",
       "    .dataframe tbody tr th:only-of-type {\n",
       "        vertical-align: middle;\n",
       "    }\n",
       "\n",
       "    .dataframe tbody tr th {\n",
       "        vertical-align: top;\n",
       "    }\n",
       "\n",
       "    .dataframe thead th {\n",
       "        text-align: right;\n",
       "    }\n",
       "</style>\n",
       "<table border=\"1\" class=\"dataframe\">\n",
       "  <thead>\n",
       "    <tr style=\"text-align: right;\">\n",
       "      <th></th>\n",
       "      <th>fruit</th>\n",
       "      <th>temps</th>\n",
       "    </tr>\n",
       "  </thead>\n",
       "  <tbody>\n",
       "    <tr>\n",
       "      <th>a</th>\n",
       "      <td>apples</td>\n",
       "      <td>32.6</td>\n",
       "    </tr>\n",
       "    <tr>\n",
       "      <th>b</th>\n",
       "      <td>oranges</td>\n",
       "      <td>34.1</td>\n",
       "    </tr>\n",
       "    <tr>\n",
       "      <th>c</th>\n",
       "      <td>kiwi</td>\n",
       "      <td>28.0</td>\n",
       "    </tr>\n",
       "    <tr>\n",
       "      <th>d</th>\n",
       "      <td>cherries</td>\n",
       "      <td>35.9</td>\n",
       "    </tr>\n",
       "  </tbody>\n",
       "</table>\n",
       "</div>"
      ],
      "text/plain": [
       "      fruit  temps\n",
       "a    apples   32.6\n",
       "b   oranges   34.1\n",
       "c      kiwi   28.0\n",
       "d  cherries   35.9"
      ]
     },
     "execution_count": 76,
     "metadata": {},
     "output_type": "execute_result"
    }
   ],
   "source": [
    "df"
   ]
  },
  {
   "cell_type": "code",
   "execution_count": null,
   "id": "6b45e356",
   "metadata": {},
   "outputs": [],
   "source": []
  },
  {
   "cell_type": "markdown",
   "id": "1936624d",
   "metadata": {},
   "source": [
    "### Renaming columns in a DataFrame"
   ]
  },
  {
   "cell_type": "code",
   "execution_count": 77,
   "id": "aa516b50",
   "metadata": {},
   "outputs": [
    {
     "data": {
      "text/plain": [
       "Index(['fruit', 'temps'], dtype='object')"
      ]
     },
     "execution_count": 77,
     "metadata": {},
     "output_type": "execute_result"
    }
   ],
   "source": [
    "df.columns"
   ]
  },
  {
   "cell_type": "code",
   "execution_count": null,
   "id": "6ac93e22",
   "metadata": {},
   "outputs": [],
   "source": []
  },
  {
   "cell_type": "code",
   "execution_count": 78,
   "id": "7074c4e2",
   "metadata": {},
   "outputs": [],
   "source": [
    "df.columns = [x.upper() for x in df.columns]"
   ]
  },
  {
   "cell_type": "code",
   "execution_count": 79,
   "id": "0e53c54c",
   "metadata": {},
   "outputs": [
    {
     "data": {
      "text/html": [
       "<div>\n",
       "<style scoped>\n",
       "    .dataframe tbody tr th:only-of-type {\n",
       "        vertical-align: middle;\n",
       "    }\n",
       "\n",
       "    .dataframe tbody tr th {\n",
       "        vertical-align: top;\n",
       "    }\n",
       "\n",
       "    .dataframe thead th {\n",
       "        text-align: right;\n",
       "    }\n",
       "</style>\n",
       "<table border=\"1\" class=\"dataframe\">\n",
       "  <thead>\n",
       "    <tr style=\"text-align: right;\">\n",
       "      <th></th>\n",
       "      <th>FRUIT</th>\n",
       "      <th>TEMPS</th>\n",
       "    </tr>\n",
       "  </thead>\n",
       "  <tbody>\n",
       "    <tr>\n",
       "      <th>a</th>\n",
       "      <td>apples</td>\n",
       "      <td>32.6</td>\n",
       "    </tr>\n",
       "    <tr>\n",
       "      <th>b</th>\n",
       "      <td>oranges</td>\n",
       "      <td>34.1</td>\n",
       "    </tr>\n",
       "    <tr>\n",
       "      <th>c</th>\n",
       "      <td>kiwi</td>\n",
       "      <td>28.0</td>\n",
       "    </tr>\n",
       "    <tr>\n",
       "      <th>d</th>\n",
       "      <td>cherries</td>\n",
       "      <td>35.9</td>\n",
       "    </tr>\n",
       "  </tbody>\n",
       "</table>\n",
       "</div>"
      ],
      "text/plain": [
       "      FRUIT  TEMPS\n",
       "a    apples   32.6\n",
       "b   oranges   34.1\n",
       "c      kiwi   28.0\n",
       "d  cherries   35.9"
      ]
     },
     "execution_count": 79,
     "metadata": {},
     "output_type": "execute_result"
    }
   ],
   "source": [
    "df"
   ]
  },
  {
   "cell_type": "code",
   "execution_count": null,
   "id": "c144e448",
   "metadata": {},
   "outputs": [],
   "source": []
  },
  {
   "cell_type": "markdown",
   "id": "26a30fc2",
   "metadata": {},
   "source": [
    "## Converting DataFrames"
   ]
  },
  {
   "cell_type": "code",
   "execution_count": 80,
   "id": "df40110a",
   "metadata": {},
   "outputs": [
    {
     "data": {
      "text/plain": [
       "a      apples\n",
       "b     oranges\n",
       "c        kiwi\n",
       "d    cherries\n",
       "Name: FRUIT, dtype: object"
      ]
     },
     "execution_count": 80,
     "metadata": {},
     "output_type": "execute_result"
    }
   ],
   "source": [
    "# convert DataFrame into Series\n",
    "df['FRUIT']"
   ]
  },
  {
   "cell_type": "code",
   "execution_count": 81,
   "id": "87dd376e",
   "metadata": {},
   "outputs": [
    {
     "data": {
      "text/html": [
       "<div>\n",
       "<style scoped>\n",
       "    .dataframe tbody tr th:only-of-type {\n",
       "        vertical-align: middle;\n",
       "    }\n",
       "\n",
       "    .dataframe tbody tr th {\n",
       "        vertical-align: top;\n",
       "    }\n",
       "\n",
       "    .dataframe thead th {\n",
       "        text-align: right;\n",
       "    }\n",
       "</style>\n",
       "<table border=\"1\" class=\"dataframe\">\n",
       "  <thead>\n",
       "    <tr style=\"text-align: right;\">\n",
       "      <th></th>\n",
       "      <th>FRUIT</th>\n",
       "    </tr>\n",
       "  </thead>\n",
       "  <tbody>\n",
       "    <tr>\n",
       "      <th>a</th>\n",
       "      <td>apples</td>\n",
       "    </tr>\n",
       "    <tr>\n",
       "      <th>b</th>\n",
       "      <td>oranges</td>\n",
       "    </tr>\n",
       "    <tr>\n",
       "      <th>c</th>\n",
       "      <td>kiwi</td>\n",
       "    </tr>\n",
       "    <tr>\n",
       "      <th>d</th>\n",
       "      <td>cherries</td>\n",
       "    </tr>\n",
       "  </tbody>\n",
       "</table>\n",
       "</div>"
      ],
      "text/plain": [
       "      FRUIT\n",
       "a    apples\n",
       "b   oranges\n",
       "c      kiwi\n",
       "d  cherries"
      ]
     },
     "execution_count": 81,
     "metadata": {},
     "output_type": "execute_result"
    }
   ],
   "source": [
    "# make new DataFrame (subset) of another DataFrame\n",
    "columns = ['FRUIT']\n",
    "\n",
    "df[columns]"
   ]
  },
  {
   "cell_type": "code",
   "execution_count": null,
   "id": "76c43fec",
   "metadata": {},
   "outputs": [],
   "source": []
  },
  {
   "cell_type": "code",
   "execution_count": null,
   "id": "2d01b60a",
   "metadata": {},
   "outputs": [],
   "source": []
  },
  {
   "cell_type": "markdown",
   "id": "b696a74f",
   "metadata": {},
   "source": [
    "## Filtering DataFrames\n",
    "https://chrisalbon.com/code/python/data_wrangling/filter_dataframes/"
   ]
  },
  {
   "cell_type": "code",
   "execution_count": 82,
   "id": "bb4a3b90",
   "metadata": {},
   "outputs": [
    {
     "data": {
      "text/html": [
       "<div>\n",
       "<style scoped>\n",
       "    .dataframe tbody tr th:only-of-type {\n",
       "        vertical-align: middle;\n",
       "    }\n",
       "\n",
       "    .dataframe tbody tr th {\n",
       "        vertical-align: top;\n",
       "    }\n",
       "\n",
       "    .dataframe thead th {\n",
       "        text-align: right;\n",
       "    }\n",
       "</style>\n",
       "<table border=\"1\" class=\"dataframe\">\n",
       "  <thead>\n",
       "    <tr style=\"text-align: right;\">\n",
       "      <th></th>\n",
       "      <th>FRUIT</th>\n",
       "      <th>TEMPS</th>\n",
       "    </tr>\n",
       "  </thead>\n",
       "  <tbody>\n",
       "    <tr>\n",
       "      <th>a</th>\n",
       "      <td>apples</td>\n",
       "      <td>32.6</td>\n",
       "    </tr>\n",
       "    <tr>\n",
       "      <th>b</th>\n",
       "      <td>oranges</td>\n",
       "      <td>34.1</td>\n",
       "    </tr>\n",
       "    <tr>\n",
       "      <th>c</th>\n",
       "      <td>kiwi</td>\n",
       "      <td>28.0</td>\n",
       "    </tr>\n",
       "    <tr>\n",
       "      <th>d</th>\n",
       "      <td>cherries</td>\n",
       "      <td>35.9</td>\n",
       "    </tr>\n",
       "  </tbody>\n",
       "</table>\n",
       "</div>"
      ],
      "text/plain": [
       "      FRUIT  TEMPS\n",
       "a    apples   32.6\n",
       "b   oranges   34.1\n",
       "c      kiwi   28.0\n",
       "d  cherries   35.9"
      ]
     },
     "execution_count": 82,
     "metadata": {},
     "output_type": "execute_result"
    }
   ],
   "source": [
    "df"
   ]
  },
  {
   "cell_type": "code",
   "execution_count": 83,
   "id": "b0e9b632",
   "metadata": {},
   "outputs": [
    {
     "data": {
      "text/plain": [
       "a    False\n",
       "b    False\n",
       "c     True\n",
       "d    False\n",
       "Name: TEMPS, dtype: bool"
      ]
     },
     "execution_count": 83,
     "metadata": {},
     "output_type": "execute_result"
    }
   ],
   "source": [
    "df['TEMPS'] < 30"
   ]
  },
  {
   "cell_type": "code",
   "execution_count": 84,
   "id": "52e7f93c",
   "metadata": {},
   "outputs": [],
   "source": [
    "temps_under_30 = df['TEMPS'] < 30"
   ]
  },
  {
   "cell_type": "code",
   "execution_count": null,
   "id": "9f44d3c6",
   "metadata": {},
   "outputs": [],
   "source": []
  },
  {
   "cell_type": "code",
   "execution_count": 85,
   "id": "ea1e5257",
   "metadata": {},
   "outputs": [
    {
     "data": {
      "text/html": [
       "<div>\n",
       "<style scoped>\n",
       "    .dataframe tbody tr th:only-of-type {\n",
       "        vertical-align: middle;\n",
       "    }\n",
       "\n",
       "    .dataframe tbody tr th {\n",
       "        vertical-align: top;\n",
       "    }\n",
       "\n",
       "    .dataframe thead th {\n",
       "        text-align: right;\n",
       "    }\n",
       "</style>\n",
       "<table border=\"1\" class=\"dataframe\">\n",
       "  <thead>\n",
       "    <tr style=\"text-align: right;\">\n",
       "      <th></th>\n",
       "      <th>FRUIT</th>\n",
       "      <th>TEMPS</th>\n",
       "    </tr>\n",
       "  </thead>\n",
       "  <tbody>\n",
       "    <tr>\n",
       "      <th>c</th>\n",
       "      <td>kiwi</td>\n",
       "      <td>28.0</td>\n",
       "    </tr>\n",
       "  </tbody>\n",
       "</table>\n",
       "</div>"
      ],
      "text/plain": [
       "  FRUIT  TEMPS\n",
       "c  kiwi   28.0"
      ]
     },
     "execution_count": 85,
     "metadata": {},
     "output_type": "execute_result"
    }
   ],
   "source": [
    "df[ temps_under_30  ]"
   ]
  },
  {
   "cell_type": "code",
   "execution_count": null,
   "id": "2061fcb2",
   "metadata": {},
   "outputs": [],
   "source": []
  },
  {
   "cell_type": "code",
   "execution_count": null,
   "id": "569c4b04",
   "metadata": {},
   "outputs": [],
   "source": []
  },
  {
   "cell_type": "code",
   "execution_count": null,
   "id": "7247ce98",
   "metadata": {},
   "outputs": [],
   "source": []
  },
  {
   "cell_type": "code",
   "execution_count": null,
   "id": "5b423da8",
   "metadata": {},
   "outputs": [],
   "source": []
  }
 ],
 "metadata": {
  "kernelspec": {
   "display_name": "Python 3 (ipykernel)",
   "language": "python",
   "name": "python3"
  },
  "language_info": {
   "codemirror_mode": {
    "name": "ipython",
    "version": 3
   },
   "file_extension": ".py",
   "mimetype": "text/x-python",
   "name": "python",
   "nbconvert_exporter": "python",
   "pygments_lexer": "ipython3",
   "version": "3.9.12"
  }
 },
 "nbformat": 4,
 "nbformat_minor": 5
}
