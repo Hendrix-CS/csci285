{
 "cells": [
  {
   "cell_type": "markdown",
   "id": "782071a1",
   "metadata": {},
   "source": [
    "# CSCI 285 Lab 1 \n",
    "Written by: Lab Partner #1 and Lab Partner #2"
   ]
  },
  {
   "cell_type": "markdown",
   "id": "c330c768",
   "metadata": {},
   "source": [
    "## Dataset Explanation\n",
    "This [data set](https://alaska.usgs.gov/products/data.php?dataid=306) documents the width of annual otolith growth increments from Lake Trout collected in lakes within Lake Clark National Park and Preserve, Alaska. The analysis of this data was published in von Biela et al. 2020 (DOI: 10.1111/eff.12566)\n",
    "\n",
    "Author(s): von Biela, V. R.; Black, B. A.; van der Sleen, P.\n",
    "\n",
    "\n",
    "| Feature | Type | Description |\n",
    "|:--------------|:--------------|:-----------|\n",
    "| FishID     | string| a unique identifier assigned to each fish | \n",
    "| ReplicateID| string| a unique identifier assigned to each replicate measuremnet transect| \n",
    "| Axis       | string| the axis along which measurements are made. Axis can either be `'S'` or `'L'`.| \n",
    "| Lake       | string| where the fish was captured.| \n",
    "| Year       | int   | the year when the growth increment was formed. Year is in the range `[1979, 2012]`.| \n",
    "| Age        | int   | the age of the individual fish in years. Age is in the range `[1, 29]`.| \n",
    "| Width      | float | the width of the annual growth increments in millimeters. Width is in the range `[0.013, 0.186]`|\n",
    "\n",
    "\n",
    "### Data Quality\n",
    "The only known omissions from this report were the 171 of 251 total lake trout caught that were not included because they had otolith growth increments that were not clear enough for growth measurements.\n"
   ]
  },
  {
   "cell_type": "code",
   "execution_count": 1,
   "id": "a337d937",
   "metadata": {},
   "outputs": [],
   "source": [
    "import pandas as pd"
   ]
  },
  {
   "cell_type": "markdown",
   "id": "6f3b2604",
   "metadata": {},
   "source": [
    "## Understanding the data"
   ]
  },
  {
   "cell_type": "code",
   "execution_count": 5,
   "id": "9c8afbe9-ede7-4f7b-a14f-22f25f1f748b",
   "metadata": {},
   "outputs": [],
   "source": [
    "df = pd.read_csv('../data/lakeTrout.csv')"
   ]
  },
  {
   "cell_type": "code",
   "execution_count": 6,
   "id": "e6c16b84",
   "metadata": {},
   "outputs": [
    {
     "data": {
      "text/plain": [
       "pandas.core.frame.DataFrame"
      ]
     },
     "execution_count": 6,
     "metadata": {},
     "output_type": "execute_result"
    }
   ],
   "source": [
    "type(df)"
   ]
  },
  {
   "cell_type": "code",
   "execution_count": 7,
   "id": "33466fc0-4562-4910-8b1f-f35b5f8cbd50",
   "metadata": {},
   "outputs": [
    {
     "data": {
      "text/plain": [
       "(2403, 7)"
      ]
     },
     "execution_count": 7,
     "metadata": {},
     "output_type": "execute_result"
    }
   ],
   "source": [
    "df.shape"
   ]
  },
  {
   "cell_type": "code",
   "execution_count": 8,
   "id": "9afc8a25-f920-49bb-a371-b456ea4c15ea",
   "metadata": {},
   "outputs": [
    {
     "data": {
      "text/html": [
       "<div>\n",
       "<style scoped>\n",
       "    .dataframe tbody tr th:only-of-type {\n",
       "        vertical-align: middle;\n",
       "    }\n",
       "\n",
       "    .dataframe tbody tr th {\n",
       "        vertical-align: top;\n",
       "    }\n",
       "\n",
       "    .dataframe thead th {\n",
       "        text-align: right;\n",
       "    }\n",
       "</style>\n",
       "<table border=\"1\" class=\"dataframe\">\n",
       "  <thead>\n",
       "    <tr style=\"text-align: right;\">\n",
       "      <th></th>\n",
       "      <th>FishID</th>\n",
       "      <th>ReplicateID</th>\n",
       "      <th>Axis</th>\n",
       "      <th>Lake</th>\n",
       "      <th>Year</th>\n",
       "      <th>Age</th>\n",
       "      <th>Width</th>\n",
       "    </tr>\n",
       "  </thead>\n",
       "  <tbody>\n",
       "    <tr>\n",
       "      <th>0</th>\n",
       "      <td>LLC_LT028</td>\n",
       "      <td>LT028A</td>\n",
       "      <td>S</td>\n",
       "      <td>Little Lake Clark</td>\n",
       "      <td>1987</td>\n",
       "      <td>4</td>\n",
       "      <td>0.048</td>\n",
       "    </tr>\n",
       "    <tr>\n",
       "      <th>1</th>\n",
       "      <td>LLC_LT028</td>\n",
       "      <td>LT028A</td>\n",
       "      <td>S</td>\n",
       "      <td>Little Lake Clark</td>\n",
       "      <td>1988</td>\n",
       "      <td>5</td>\n",
       "      <td>0.038</td>\n",
       "    </tr>\n",
       "    <tr>\n",
       "      <th>2</th>\n",
       "      <td>LLC_LT028</td>\n",
       "      <td>LT028A</td>\n",
       "      <td>S</td>\n",
       "      <td>Little Lake Clark</td>\n",
       "      <td>1989</td>\n",
       "      <td>6</td>\n",
       "      <td>0.046</td>\n",
       "    </tr>\n",
       "    <tr>\n",
       "      <th>3</th>\n",
       "      <td>LLC_LT028</td>\n",
       "      <td>LT028A</td>\n",
       "      <td>S</td>\n",
       "      <td>Little Lake Clark</td>\n",
       "      <td>1990</td>\n",
       "      <td>7</td>\n",
       "      <td>0.037</td>\n",
       "    </tr>\n",
       "    <tr>\n",
       "      <th>4</th>\n",
       "      <td>LLC_LT028</td>\n",
       "      <td>LT028A</td>\n",
       "      <td>S</td>\n",
       "      <td>Little Lake Clark</td>\n",
       "      <td>1991</td>\n",
       "      <td>8</td>\n",
       "      <td>0.040</td>\n",
       "    </tr>\n",
       "  </tbody>\n",
       "</table>\n",
       "</div>"
      ],
      "text/plain": [
       "      FishID ReplicateID Axis               Lake  Year  Age  Width\n",
       "0  LLC_LT028      LT028A    S  Little Lake Clark  1987    4  0.048\n",
       "1  LLC_LT028      LT028A    S  Little Lake Clark  1988    5  0.038\n",
       "2  LLC_LT028      LT028A    S  Little Lake Clark  1989    6  0.046\n",
       "3  LLC_LT028      LT028A    S  Little Lake Clark  1990    7  0.037\n",
       "4  LLC_LT028      LT028A    S  Little Lake Clark  1991    8  0.040"
      ]
     },
     "execution_count": 8,
     "metadata": {},
     "output_type": "execute_result"
    }
   ],
   "source": [
    "df.head()"
   ]
  },
  {
   "cell_type": "markdown",
   "id": "d71e36b8",
   "metadata": {},
   "source": [
    "<br />\n",
    "To convert the column names to lowercase, a list comprehension can be used to apply the `str.lower()` method to all the column names:"
   ]
  },
  {
   "cell_type": "code",
   "execution_count": 9,
   "id": "803206dd-0422-466e-abd6-c7bd8571de5f",
   "metadata": {},
   "outputs": [
    {
     "data": {
      "text/plain": [
       "Index(['fishid', 'replicateid', 'axis', 'lake', 'year', 'age', 'width'], dtype='object')"
      ]
     },
     "execution_count": 9,
     "metadata": {},
     "output_type": "execute_result"
    }
   ],
   "source": [
    "df.columns = [x.lower() for x in df.columns]\n",
    "df.columns"
   ]
  },
  {
   "cell_type": "markdown",
   "id": "8a1eaaf5",
   "metadata": {},
   "source": [
    "<br />\n",
    "The number of distinct fish can be obtained by using `nunqiue()` on the `fishid` column. Each row in the data set corresponds to a measurement - not a fish. So one fish may show up more than once in the data. "
   ]
  },
  {
   "cell_type": "code",
   "execution_count": 10,
   "id": "81775f24-9122-43db-ae4c-5a5441f141a1",
   "metadata": {},
   "outputs": [
    {
     "data": {
      "text/plain": [
       "80"
      ]
     },
     "execution_count": 10,
     "metadata": {},
     "output_type": "execute_result"
    }
   ],
   "source": [
    "df['fishid'].nunique()"
   ]
  },
  {
   "cell_type": "markdown",
   "id": "142b3a51",
   "metadata": {},
   "source": [
    "<br />\n",
    "There seems to be 4 duplicated rows of data. One explanation for this is an error on the part of the person entering the data. Since the rows are adjacent, perhaps this was overlooked. Recording fish measurements while handling fish sounds like a dirty job!"
   ]
  },
  {
   "cell_type": "code",
   "execution_count": 11,
   "id": "326586cc",
   "metadata": {},
   "outputs": [
    {
     "data": {
      "text/html": [
       "<div>\n",
       "<style scoped>\n",
       "    .dataframe tbody tr th:only-of-type {\n",
       "        vertical-align: middle;\n",
       "    }\n",
       "\n",
       "    .dataframe tbody tr th {\n",
       "        vertical-align: top;\n",
       "    }\n",
       "\n",
       "    .dataframe thead th {\n",
       "        text-align: right;\n",
       "    }\n",
       "</style>\n",
       "<table border=\"1\" class=\"dataframe\">\n",
       "  <thead>\n",
       "    <tr style=\"text-align: right;\">\n",
       "      <th></th>\n",
       "      <th>fishid</th>\n",
       "      <th>replicateid</th>\n",
       "      <th>axis</th>\n",
       "      <th>lake</th>\n",
       "      <th>year</th>\n",
       "      <th>age</th>\n",
       "      <th>width</th>\n",
       "    </tr>\n",
       "  </thead>\n",
       "  <tbody>\n",
       "    <tr>\n",
       "      <th>1198</th>\n",
       "      <td>LT0126</td>\n",
       "      <td>LT126.2B</td>\n",
       "      <td>S</td>\n",
       "      <td>Lake Clark</td>\n",
       "      <td>2006</td>\n",
       "      <td>10</td>\n",
       "      <td>0.028</td>\n",
       "    </tr>\n",
       "    <tr>\n",
       "      <th>1199</th>\n",
       "      <td>LT0126</td>\n",
       "      <td>LT126.2B</td>\n",
       "      <td>S</td>\n",
       "      <td>Lake Clark</td>\n",
       "      <td>2006</td>\n",
       "      <td>10</td>\n",
       "      <td>0.028</td>\n",
       "    </tr>\n",
       "    <tr>\n",
       "      <th>1204</th>\n",
       "      <td>LT0126</td>\n",
       "      <td>LT126.2B</td>\n",
       "      <td>S</td>\n",
       "      <td>Lake Clark</td>\n",
       "      <td>2009</td>\n",
       "      <td>13</td>\n",
       "      <td>0.035</td>\n",
       "    </tr>\n",
       "    <tr>\n",
       "      <th>1205</th>\n",
       "      <td>LT0126</td>\n",
       "      <td>LT126.2B</td>\n",
       "      <td>S</td>\n",
       "      <td>Lake Clark</td>\n",
       "      <td>2009</td>\n",
       "      <td>13</td>\n",
       "      <td>0.035</td>\n",
       "    </tr>\n",
       "    <tr>\n",
       "      <th>2001</th>\n",
       "      <td>LT0223</td>\n",
       "      <td>LT223.2A</td>\n",
       "      <td>S</td>\n",
       "      <td>Lachbuna</td>\n",
       "      <td>2005</td>\n",
       "      <td>13</td>\n",
       "      <td>0.046</td>\n",
       "    </tr>\n",
       "    <tr>\n",
       "      <th>2002</th>\n",
       "      <td>LT0223</td>\n",
       "      <td>LT223.2A</td>\n",
       "      <td>S</td>\n",
       "      <td>Lachbuna</td>\n",
       "      <td>2005</td>\n",
       "      <td>13</td>\n",
       "      <td>0.046</td>\n",
       "    </tr>\n",
       "    <tr>\n",
       "      <th>2005</th>\n",
       "      <td>LT0223</td>\n",
       "      <td>LT223.2A</td>\n",
       "      <td>S</td>\n",
       "      <td>Lachbuna</td>\n",
       "      <td>2007</td>\n",
       "      <td>15</td>\n",
       "      <td>0.038</td>\n",
       "    </tr>\n",
       "    <tr>\n",
       "      <th>2006</th>\n",
       "      <td>LT0223</td>\n",
       "      <td>LT223.2A</td>\n",
       "      <td>S</td>\n",
       "      <td>Lachbuna</td>\n",
       "      <td>2007</td>\n",
       "      <td>15</td>\n",
       "      <td>0.038</td>\n",
       "    </tr>\n",
       "  </tbody>\n",
       "</table>\n",
       "</div>"
      ],
      "text/plain": [
       "      fishid replicateid axis        lake  year  age  width\n",
       "1198  LT0126    LT126.2B    S  Lake Clark  2006   10  0.028\n",
       "1199  LT0126    LT126.2B    S  Lake Clark  2006   10  0.028\n",
       "1204  LT0126    LT126.2B    S  Lake Clark  2009   13  0.035\n",
       "1205  LT0126    LT126.2B    S  Lake Clark  2009   13  0.035\n",
       "2001  LT0223    LT223.2A    S    Lachbuna  2005   13  0.046\n",
       "2002  LT0223    LT223.2A    S    Lachbuna  2005   13  0.046\n",
       "2005  LT0223    LT223.2A    S    Lachbuna  2007   15  0.038\n",
       "2006  LT0223    LT223.2A    S    Lachbuna  2007   15  0.038"
      ]
     },
     "execution_count": 11,
     "metadata": {},
     "output_type": "execute_result"
    }
   ],
   "source": [
    "df[ df.duplicated(keep=False) ]"
   ]
  },
  {
   "cell_type": "markdown",
   "id": "590fa672",
   "metadata": {},
   "source": [
    "### Dropping Duplicates\n",
    "For our analysis, we want to drop any duplicate rows that seem to stem from data entry errors. "
   ]
  },
  {
   "cell_type": "code",
   "execution_count": 12,
   "id": "737e6c54-2b76-44ba-ad53-49b60f522753",
   "metadata": {},
   "outputs": [],
   "source": [
    "df = df.drop_duplicates()"
   ]
  },
  {
   "cell_type": "markdown",
   "id": "8eb9fd46",
   "metadata": {},
   "source": [
    "### Descriptive Statistics\n",
    "Let's perform some common descriptive statistics on the data. "
   ]
  },
  {
   "cell_type": "code",
   "execution_count": 13,
   "id": "7450cad4-b5fd-446a-a7c7-24892c6ae119",
   "metadata": {},
   "outputs": [
    {
     "data": {
      "text/html": [
       "<div>\n",
       "<style scoped>\n",
       "    .dataframe tbody tr th:only-of-type {\n",
       "        vertical-align: middle;\n",
       "    }\n",
       "\n",
       "    .dataframe tbody tr th {\n",
       "        vertical-align: top;\n",
       "    }\n",
       "\n",
       "    .dataframe thead th {\n",
       "        text-align: right;\n",
       "    }\n",
       "</style>\n",
       "<table border=\"1\" class=\"dataframe\">\n",
       "  <thead>\n",
       "    <tr style=\"text-align: right;\">\n",
       "      <th></th>\n",
       "      <th>year</th>\n",
       "      <th>age</th>\n",
       "      <th>width</th>\n",
       "    </tr>\n",
       "  </thead>\n",
       "  <tbody>\n",
       "    <tr>\n",
       "      <th>count</th>\n",
       "      <td>2399.000000</td>\n",
       "      <td>2399.000000</td>\n",
       "      <td>2399.000000</td>\n",
       "    </tr>\n",
       "    <tr>\n",
       "      <th>mean</th>\n",
       "      <td>2001.581492</td>\n",
       "      <td>10.235932</td>\n",
       "      <td>0.042745</td>\n",
       "    </tr>\n",
       "    <tr>\n",
       "      <th>std</th>\n",
       "      <td>5.834735</td>\n",
       "      <td>4.619846</td>\n",
       "      <td>0.020507</td>\n",
       "    </tr>\n",
       "    <tr>\n",
       "      <th>min</th>\n",
       "      <td>1979.000000</td>\n",
       "      <td>1.000000</td>\n",
       "      <td>0.013000</td>\n",
       "    </tr>\n",
       "    <tr>\n",
       "      <th>25%</th>\n",
       "      <td>1998.000000</td>\n",
       "      <td>7.000000</td>\n",
       "      <td>0.028000</td>\n",
       "    </tr>\n",
       "    <tr>\n",
       "      <th>50%</th>\n",
       "      <td>2002.000000</td>\n",
       "      <td>10.000000</td>\n",
       "      <td>0.038000</td>\n",
       "    </tr>\n",
       "    <tr>\n",
       "      <th>75%</th>\n",
       "      <td>2006.000000</td>\n",
       "      <td>13.000000</td>\n",
       "      <td>0.052000</td>\n",
       "    </tr>\n",
       "    <tr>\n",
       "      <th>max</th>\n",
       "      <td>2012.000000</td>\n",
       "      <td>29.000000</td>\n",
       "      <td>0.186000</td>\n",
       "    </tr>\n",
       "  </tbody>\n",
       "</table>\n",
       "</div>"
      ],
      "text/plain": [
       "              year          age        width\n",
       "count  2399.000000  2399.000000  2399.000000\n",
       "mean   2001.581492    10.235932     0.042745\n",
       "std       5.834735     4.619846     0.020507\n",
       "min    1979.000000     1.000000     0.013000\n",
       "25%    1998.000000     7.000000     0.028000\n",
       "50%    2002.000000    10.000000     0.038000\n",
       "75%    2006.000000    13.000000     0.052000\n",
       "max    2012.000000    29.000000     0.186000"
      ]
     },
     "execution_count": 13,
     "metadata": {},
     "output_type": "execute_result"
    }
   ],
   "source": [
    "df.describe()"
   ]
  },
  {
   "cell_type": "markdown",
   "id": "ace9901e",
   "metadata": {},
   "source": [
    "<br />\n",
    "There are other methods available that extract smaller pieces of the above data, such as `.min()` and `.max()`:"
   ]
  },
  {
   "cell_type": "code",
   "execution_count": 14,
   "id": "5a9f35a8",
   "metadata": {},
   "outputs": [
    {
     "data": {
      "text/plain": [
       "1"
      ]
     },
     "execution_count": 14,
     "metadata": {},
     "output_type": "execute_result"
    }
   ],
   "source": [
    "df['age'].min()"
   ]
  },
  {
   "cell_type": "code",
   "execution_count": 15,
   "id": "82bc3c59",
   "metadata": {},
   "outputs": [
    {
     "data": {
      "text/plain": [
       "29"
      ]
     },
     "execution_count": 15,
     "metadata": {},
     "output_type": "execute_result"
    }
   ],
   "source": [
    "df['age'].max()"
   ]
  },
  {
   "cell_type": "markdown",
   "id": "ca7abbab",
   "metadata": {},
   "source": [
    "<br />\n",
    "To visually present a range of data, such as that in the `'year'` column, multiple approaches can be taken:\n",
    "\n",
    "* The `.value_counts()` method creates a series of all included years indexing the number of times they appear.\n",
    "* The `.hist()` method creates a histogram graphic of the data."
   ]
  },
  {
   "cell_type": "code",
   "execution_count": 16,
   "id": "2e166274",
   "metadata": {},
   "outputs": [
    {
     "data": {
      "text/plain": [
       "2001    173\n",
       "2002    165\n",
       "2000    160\n",
       "1999    142\n",
       "2006    138\n",
       "2007    138\n",
       "2008    137\n",
       "2005    136\n",
       "2003    135\n",
       "2004    131\n",
       "1998    126\n",
       "2009    126\n",
       "1997    100\n",
       "1996     89\n",
       "2010     83\n",
       "1995     68\n",
       "2011     60\n",
       "1994     57\n",
       "1993     48\n",
       "1992     39\n",
       "1991     32\n",
       "1990     26\n",
       "1989     19\n",
       "1988     15\n",
       "2012     13\n",
       "1987     12\n",
       "1986      8\n",
       "1985      4\n",
       "1984      4\n",
       "1983      4\n",
       "1982      4\n",
       "1981      3\n",
       "1980      2\n",
       "1979      2\n",
       "Name: year, dtype: int64"
      ]
     },
     "execution_count": 16,
     "metadata": {},
     "output_type": "execute_result"
    }
   ],
   "source": [
    "df['year'].value_counts()"
   ]
  },
  {
   "cell_type": "code",
   "execution_count": 17,
   "id": "3c1e5de9",
   "metadata": {},
   "outputs": [
    {
     "data": {
      "text/plain": [
       "<AxesSubplot:>"
      ]
     },
     "execution_count": 17,
     "metadata": {},
     "output_type": "execute_result"
    },
    {
     "data": {
      "image/png": "[encoded data removed]",
      "text/plain": [
       "<Figure size 432x288 with 1 Axes>"
      ]
     },
     "metadata": {
      "needs_background": "light"
     },
     "output_type": "display_data"
    }
   ],
   "source": [
    "df['year'].hist()"
   ]
  },
  {
   "cell_type": "markdown",
   "id": "23703062",
   "metadata": {},
   "source": [
    "The difference between `.value_counts()` and `.hist()` is that `.value_counts()` gives you a table of each year and how many entries were in that year, whereas `.hist()` gives a graph that visually shows the range of entries. In `.hist()`, it is less percise because we cannot tell the exact range of the entries, but it is easier for humans to analyze.\n",
    "\n",
    "Here are histograms of the `'age'` and `'width'` columns:"
   ]
  },
  {
   "cell_type": "code",
   "execution_count": 18,
   "id": "3f9598d0-81dd-4ae7-9a9b-44f876185551",
   "metadata": {},
   "outputs": [
    {
     "data": {
      "text/plain": [
       "<AxesSubplot:>"
      ]
     },
     "execution_count": 18,
     "metadata": {},
     "output_type": "execute_result"
    },
    {
     "data": {
      "image/png": "[encoded data removed]",
      "text/plain": [
       "<Figure size 432x288 with 1 Axes>"
      ]
     },
     "metadata": {
      "needs_background": "light"
     },
     "output_type": "display_data"
    }
   ],
   "source": [
    "df['age'].hist()"
   ]
  },
  {
   "cell_type": "code",
   "execution_count": 19,
   "id": "eb0bd9e9-f4e0-4040-8a32-dda2e4fa2141",
   "metadata": {},
   "outputs": [
    {
     "data": {
      "text/plain": [
       "<AxesSubplot:>"
      ]
     },
     "execution_count": 19,
     "metadata": {},
     "output_type": "execute_result"
    },
    {
     "data": {
      "image/png": "[encoded data removed]",
      "text/plain": [
       "<Figure size 432x288 with 1 Axes>"
      ]
     },
     "metadata": {
      "needs_background": "light"
     },
     "output_type": "display_data"
    }
   ],
   "source": [
    "df['width'].hist()"
   ]
  },
  {
   "cell_type": "markdown",
   "id": "c119187b",
   "metadata": {},
   "source": [
    "`.value_counts()` is more useful on categorical data, especially when there are very few categories. For example, here are the value counts for the `'lake'` column:"
   ]
  },
  {
   "cell_type": "code",
   "execution_count": 20,
   "id": "5377ac0c",
   "metadata": {},
   "outputs": [
    {
     "data": {
      "text/plain": [
       "Telaquana            431\n",
       "Kontrashibuna        409\n",
       "Portage              373\n",
       "Fishtrap             358\n",
       "Lake Clark           329\n",
       "Lachbuna             197\n",
       "Little Lake Clark    161\n",
       "Kijik                141\n",
       "Name: lake, dtype: int64"
      ]
     },
     "execution_count": 20,
     "metadata": {},
     "output_type": "execute_result"
    }
   ],
   "source": [
    "df['lake'].value_counts()"
   ]
  },
  {
   "cell_type": "code",
   "execution_count": null,
   "id": "6c5889dd",
   "metadata": {},
   "outputs": [],
   "source": []
  },
  {
   "cell_type": "code",
   "execution_count": null,
   "id": "7983ce6b-e2c9-4649-988f-fccfc4845abf",
   "metadata": {},
   "outputs": [],
   "source": []
  },
  {
   "cell_type": "markdown",
   "id": "4ea9c0d0",
   "metadata": {},
   "source": [
    "## Aggregating the data\n",
    "Let's see how many fish were studied per lake. We know there were 80 fish studied overall, but having a breakdown per lake will help us get a better sense of this distrubution. In this case, there are only two columns, `'fishid'` and `'lake'`."
   ]
  },
  {
   "cell_type": "code",
   "execution_count": 21,
   "id": "1cb6d5cf",
   "metadata": {},
   "outputs": [
    {
     "data": {
      "text/html": [
       "<div>\n",
       "<style scoped>\n",
       "    .dataframe tbody tr th:only-of-type {\n",
       "        vertical-align: middle;\n",
       "    }\n",
       "\n",
       "    .dataframe tbody tr th {\n",
       "        vertical-align: top;\n",
       "    }\n",
       "\n",
       "    .dataframe thead th {\n",
       "        text-align: right;\n",
       "    }\n",
       "</style>\n",
       "<table border=\"1\" class=\"dataframe\">\n",
       "  <thead>\n",
       "    <tr style=\"text-align: right;\">\n",
       "      <th></th>\n",
       "      <th>fishid</th>\n",
       "      <th>lake</th>\n",
       "    </tr>\n",
       "  </thead>\n",
       "  <tbody>\n",
       "    <tr>\n",
       "      <th>0</th>\n",
       "      <td>LLC_LT028</td>\n",
       "      <td>Little Lake Clark</td>\n",
       "    </tr>\n",
       "    <tr>\n",
       "      <th>44</th>\n",
       "      <td>LLC_LT033</td>\n",
       "      <td>Little Lake Clark</td>\n",
       "    </tr>\n",
       "    <tr>\n",
       "      <th>79</th>\n",
       "      <td>LLC_LT036</td>\n",
       "      <td>Little Lake Clark</td>\n",
       "    </tr>\n",
       "    <tr>\n",
       "      <th>99</th>\n",
       "      <td>LLC_LT039</td>\n",
       "      <td>Little Lake Clark</td>\n",
       "    </tr>\n",
       "    <tr>\n",
       "      <th>122</th>\n",
       "      <td>LLC_LT040</td>\n",
       "      <td>Little Lake Clark</td>\n",
       "    </tr>\n",
       "    <tr>\n",
       "      <th>...</th>\n",
       "      <td>...</td>\n",
       "      <td>...</td>\n",
       "    </tr>\n",
       "    <tr>\n",
       "      <th>2160</th>\n",
       "      <td>LT0233</td>\n",
       "      <td>Portage</td>\n",
       "    </tr>\n",
       "    <tr>\n",
       "      <th>2205</th>\n",
       "      <td>LT0235</td>\n",
       "      <td>Portage</td>\n",
       "    </tr>\n",
       "    <tr>\n",
       "      <th>2260</th>\n",
       "      <td>LT0238</td>\n",
       "      <td>Portage</td>\n",
       "    </tr>\n",
       "    <tr>\n",
       "      <th>2320</th>\n",
       "      <td>LT0245</td>\n",
       "      <td>Portage</td>\n",
       "    </tr>\n",
       "    <tr>\n",
       "      <th>2361</th>\n",
       "      <td>LT0248</td>\n",
       "      <td>Portage</td>\n",
       "    </tr>\n",
       "  </tbody>\n",
       "</table>\n",
       "<p>80 rows × 2 columns</p>\n",
       "</div>"
      ],
      "text/plain": [
       "         fishid               lake\n",
       "0     LLC_LT028  Little Lake Clark\n",
       "44    LLC_LT033  Little Lake Clark\n",
       "79    LLC_LT036  Little Lake Clark\n",
       "99    LLC_LT039  Little Lake Clark\n",
       "122   LLC_LT040  Little Lake Clark\n",
       "...         ...                ...\n",
       "2160     LT0233            Portage\n",
       "2205     LT0235            Portage\n",
       "2260     LT0238            Portage\n",
       "2320     LT0245            Portage\n",
       "2361     LT0248            Portage\n",
       "\n",
       "[80 rows x 2 columns]"
      ]
     },
     "execution_count": 21,
     "metadata": {},
     "output_type": "execute_result"
    }
   ],
   "source": [
    "new_df = df[['fishid', 'lake']].drop_duplicates()\n",
    "new_df"
   ]
  },
  {
   "cell_type": "markdown",
   "id": "f83d17f5",
   "metadata": {},
   "source": [
    "Now, the multiple rows of data are too much, the only thing that matters is getting the amount of fish in a specific lake. By using `.groupby('lake').count()`, it is now able to group by the amount of unique fish in the data by each lake."
   ]
  },
  {
   "cell_type": "code",
   "execution_count": 22,
   "id": "e378be63",
   "metadata": {},
   "outputs": [
    {
     "data": {
      "text/html": [
       "<div>\n",
       "<style scoped>\n",
       "    .dataframe tbody tr th:only-of-type {\n",
       "        vertical-align: middle;\n",
       "    }\n",
       "\n",
       "    .dataframe tbody tr th {\n",
       "        vertical-align: top;\n",
       "    }\n",
       "\n",
       "    .dataframe thead th {\n",
       "        text-align: right;\n",
       "    }\n",
       "</style>\n",
       "<table border=\"1\" class=\"dataframe\">\n",
       "  <thead>\n",
       "    <tr style=\"text-align: right;\">\n",
       "      <th></th>\n",
       "      <th>fish_count</th>\n",
       "    </tr>\n",
       "    <tr>\n",
       "      <th>lake</th>\n",
       "      <th></th>\n",
       "    </tr>\n",
       "  </thead>\n",
       "  <tbody>\n",
       "    <tr>\n",
       "      <th>Fishtrap</th>\n",
       "      <td>9</td>\n",
       "    </tr>\n",
       "    <tr>\n",
       "      <th>Kijik</th>\n",
       "      <td>7</td>\n",
       "    </tr>\n",
       "    <tr>\n",
       "      <th>Kontrashibuna</th>\n",
       "      <td>15</td>\n",
       "    </tr>\n",
       "    <tr>\n",
       "      <th>Lachbuna</th>\n",
       "      <td>10</td>\n",
       "    </tr>\n",
       "    <tr>\n",
       "      <th>Lake Clark</th>\n",
       "      <td>9</td>\n",
       "    </tr>\n",
       "    <tr>\n",
       "      <th>Little Lake Clark</th>\n",
       "      <td>6</td>\n",
       "    </tr>\n",
       "    <tr>\n",
       "      <th>Portage</th>\n",
       "      <td>9</td>\n",
       "    </tr>\n",
       "    <tr>\n",
       "      <th>Telaquana</th>\n",
       "      <td>15</td>\n",
       "    </tr>\n",
       "  </tbody>\n",
       "</table>\n",
       "</div>"
      ],
      "text/plain": [
       "                   fish_count\n",
       "lake                         \n",
       "Fishtrap                    9\n",
       "Kijik                       7\n",
       "Kontrashibuna              15\n",
       "Lachbuna                   10\n",
       "Lake Clark                  9\n",
       "Little Lake Clark           6\n",
       "Portage                     9\n",
       "Telaquana                  15"
      ]
     },
     "execution_count": 22,
     "metadata": {},
     "output_type": "execute_result"
    }
   ],
   "source": [
    "agg = new_df.groupby('lake').count()\n",
    "agg.columns = ['fish_count']\n",
    "agg"
   ]
  },
  {
   "cell_type": "markdown",
   "id": "ec9d9372",
   "metadata": {},
   "source": [
    "Write out these results to a CSV:"
   ]
  },
  {
   "cell_type": "code",
   "execution_count": 23,
   "id": "2bd815ee",
   "metadata": {},
   "outputs": [],
   "source": [
    "agg.to_csv('lake.csv')"
   ]
  },
  {
   "cell_type": "code",
   "execution_count": null,
   "id": "15609855",
   "metadata": {},
   "outputs": [],
   "source": []
  },
  {
   "cell_type": "markdown",
   "id": "7acbaf02",
   "metadata": {},
   "source": [
    "## Step 3\n",
    "Performing this in vanilla Python would be a challenging task for anyone. For example, the code below performs a function similar to `df['lake'].value_counts()`:"
   ]
  },
  {
   "cell_type": "code",
   "execution_count": 24,
   "id": "c9f311e1",
   "metadata": {},
   "outputs": [
    {
     "ename": "FileNotFoundError",
     "evalue": "[Errno 2] No such file or directory: 'trout.csv'",
     "output_type": "error",
     "traceback": [
      "\u001b[0;31m---------------------------------------------------------------------------\u001b[0m",
      "\u001b[0;31mFileNotFoundError\u001b[0m                         Traceback (most recent call last)",
      "Input \u001b[0;32mIn [24]\u001b[0m, in \u001b[0;36m<cell line: 3>\u001b[0;34m()\u001b[0m\n\u001b[1;32m      1\u001b[0m \u001b[38;5;28;01mimport\u001b[39;00m \u001b[38;5;21;01mcsv\u001b[39;00m\n\u001b[1;32m      2\u001b[0m fish_counts \u001b[38;5;241m=\u001b[39m \u001b[38;5;28mdict\u001b[39m()\n\u001b[0;32m----> 3\u001b[0m \u001b[38;5;28;01mwith\u001b[39;00m \u001b[38;5;28;43mopen\u001b[39;49m\u001b[43m(\u001b[49m\u001b[38;5;124;43m'\u001b[39;49m\u001b[38;5;124;43mtrout.csv\u001b[39;49m\u001b[38;5;124;43m'\u001b[39;49m\u001b[43m,\u001b[49m\u001b[43m \u001b[49m\u001b[43mnewline\u001b[49m\u001b[38;5;241;43m=\u001b[39;49m\u001b[38;5;124;43m'\u001b[39;49m\u001b[38;5;124;43m'\u001b[39;49m\u001b[43m)\u001b[49m \u001b[38;5;28;01mas\u001b[39;00m csvfile:\n\u001b[1;32m      4\u001b[0m     file_reader \u001b[38;5;241m=\u001b[39m csv\u001b[38;5;241m.\u001b[39mreader(csvfile, delimiter\u001b[38;5;241m=\u001b[39m\u001b[38;5;124m'\u001b[39m\u001b[38;5;124m,\u001b[39m\u001b[38;5;124m'\u001b[39m)\n\u001b[1;32m      5\u001b[0m     \u001b[38;5;28mnext\u001b[39m(file_reader)\n",
      "\u001b[0;31mFileNotFoundError\u001b[0m: [Errno 2] No such file or directory: 'trout.csv'"
     ]
    }
   ],
   "source": [
    "import csv\n",
    "fish_counts = dict()\n",
    "with open('trout.csv', newline='') as csvfile:\n",
    "    file_reader = csv.reader(csvfile, delimiter=',')\n",
    "    next(file_reader)\n",
    "\n",
    "    lake_index = 3\n",
    "    fish_counts = {\n",
    "        'Telaquana': 0,\n",
    "        'Kontrashibuna': 0,\n",
    "        'Portage': 0,\n",
    "        'Fishtrap': 0,\n",
    "        'Lake Clark': 0,\n",
    "        'Lachbuna': 0,\n",
    "        'Little Lake Clark': 0,\n",
    "        'Kijik': 0\n",
    "    }\n",
    "    \n",
    "    for row in file_reader:\n",
    "        fish_counts[row[lake_index]] += 1\n",
    "    \n",
    "print(fish_counts)"
   ]
  },
  {
   "cell_type": "markdown",
   "id": "364875bb",
   "metadata": {},
   "source": [
    "<br />\n",
    "Comparing results to what we get with pandas to confirm the code is correct. "
   ]
  },
  {
   "cell_type": "code",
   "execution_count": 25,
   "id": "8bd180ed",
   "metadata": {},
   "outputs": [
    {
     "data": {
      "text/plain": [
       "Telaquana            431\n",
       "Kontrashibuna        409\n",
       "Portage              373\n",
       "Fishtrap             358\n",
       "Lake Clark           329\n",
       "Lachbuna             197\n",
       "Little Lake Clark    161\n",
       "Kijik                141\n",
       "Name: lake, dtype: int64"
      ]
     },
     "execution_count": 25,
     "metadata": {},
     "output_type": "execute_result"
    }
   ],
   "source": [
    "df['lake'].value_counts()"
   ]
  },
  {
   "cell_type": "markdown",
   "id": "fe722553",
   "metadata": {},
   "source": [
    "## Conclusion\n",
    "\n",
    "`pandas` is a powerful tool for reading, writing, storing, manipulating, and analyzing data. Starting from raw USGS field data and a data dictionary, it only took a few steps to find the number of fish in each lake and store it in a new CSV file."
   ]
  },
  {
   "cell_type": "code",
   "execution_count": null,
   "id": "7610b6d6",
   "metadata": {},
   "outputs": [],
   "source": []
  },
  {
   "cell_type": "code",
   "execution_count": null,
   "id": "479f2c9d",
   "metadata": {},
   "outputs": [],
   "source": []
  },
  {
   "cell_type": "code",
   "execution_count": null,
   "id": "3b77f99c",
   "metadata": {},
   "outputs": [],
   "source": []
  },
  {
   "cell_type": "code",
   "execution_count": null,
   "id": "f1e7a139",
   "metadata": {},
   "outputs": [],
   "source": []
  }
 ],
 "metadata": {
  "kernelspec": {
   "display_name": "Python 3 (ipykernel)",
   "language": "python",
   "name": "python3"
  },
  "language_info": {
   "codemirror_mode": {
    "name": "ipython",
    "version": 3
   },
   "file_extension": ".py",
   "mimetype": "text/x-python",
   "name": "python",
   "nbconvert_exporter": "python",
   "pygments_lexer": "ipython3",
   "version": "3.9.12"
  }
 },
 "nbformat": 4,
 "nbformat_minor": 5
}
