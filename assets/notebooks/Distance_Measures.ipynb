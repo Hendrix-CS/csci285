{
 "cells": [
  {
   "cell_type": "markdown",
   "id": "0c85812a",
   "metadata": {},
   "source": [
    "# Distance Measures"
   ]
  },
  {
   "cell_type": "markdown",
   "id": "caa4a955",
   "metadata": {},
   "source": [
    "Suppose we have a set of points, called a $\\textit{space}$. A $\\textit{distance measure}$ on this space is a function $\\textit{d(x,y)}$ that takes two points in the space as arguments and produces a real number that satisfies the following axioms:\n",
    "\n",
    "1. $d(x,y) \\ge 0$ (no negative distances)\n",
    "2. $d(x,y) = 0$ if and only if $x = y$ (distances are positive, except for the distance from a point to itself)\n",
    "3. $d(x,y) = d(y,x)$ (distance is symmetric)\n",
    "4. $d(x,y) \\le d(x,z) + d(z,y)$ (the triangle inequality)\n",
    "\n",
    "The triangle inequality is the most complex condition. It says, intuitively, that to travel from x to y, we cannot obtain any benefit if we are forced to travel via some other point z. This axiom is what makes all distance measures behave as if distance describes the length of the shortest path from one point to another. \n",
    "\n",
    "<br />\n"
   ]
  },
  {
   "cell_type": "markdown",
   "id": "6cdcdb66",
   "metadata": {},
   "source": [
    "## Euclidean Distance"
   ]
  },
  {
   "cell_type": "markdown",
   "id": "0176c471",
   "metadata": {},
   "source": [
    "<img src=\"../images/euclid_distance.png\" alt=\"\" width=\"300\"/>"
   ]
  },
  {
   "cell_type": "markdown",
   "id": "21e47fe2",
   "metadata": {},
   "source": [
    "The most familiar distance measure is the one we normally think of as \"distance\". An $\\textit{n-dimensional Euclidean space}$ is one where points are vectors of $\\textit{n}$ real numbers. The conventional distance measure in this space, which we shall refer to as the $\\textit{L}_{2}\\textit{-norm}$, is defined:\n",
    "\n",
    "<br />\n",
    "\n",
    "$$\n",
    "d([x_{1},x_{2},...,x_{n}], [y_{1},y_{2},...,y_{n}]) = \\sqrt{\\sum_{i=1}^{n} |x_{i} - y_{i}|^2}\n",
    "\\\\\n",
    "$$\n",
    "\n",
    "<br />\n",
    "\n",
    "That is, we square the distance in each dimension, sum the squares, and take the positive square root. There are other distance measures that have been used for Euclidean spaces. For any constant $\\textit{r}$, we can define the $\\textit{L}_{r}\\textit{-norm}$ to be the distance measure $\\textit{d}$ defined by:\n",
    "\n",
    "<br />\n",
    "\n",
    "$$\n",
    "d([x_{1},x_{2},...,x_{n}], [y_{1},y_{2},...,y_{n}]) = (\\sum_{i=1}^{n} |x_{i} - y_{i}|^r)^\\frac{1}{r}\n",
    "\\\\\n",
    "$$\n",
    "\n",
    "<br />\n",
    "\n",
    "Another common distance measure is the $\\textit{L}_{1}\\textit{-norm}$, or $\\textit{Manhattan distance}$. \n",
    "\n",
    "<br />\n",
    "\n",
    "$$\n",
    "d([x_{1},x_{2},...,x_{n}], [y_{1},y_{2},...,y_{n}]) = \\sum_{i=1}^{n} |x_{i} - y_{i}|\n",
    "\\\\\n",
    "$$\n",
    "\n",
    "<br />"
   ]
  },
  {
   "cell_type": "code",
   "execution_count": 12,
   "id": "bbef26a4",
   "metadata": {},
   "outputs": [],
   "source": [
    "import numpy as np\n",
    "\n",
    "# https://scikit-learn.org/stable/modules/generated/sklearn.metrics.DistanceMetric.html\n",
    "from sklearn.metrics import DistanceMetric\n",
    "\n",
    "p1 = np.array([0., 0.])\n",
    "p2 = np.array([1., 2.])"
   ]
  },
  {
   "cell_type": "code",
   "execution_count": 13,
   "id": "8af76359",
   "metadata": {},
   "outputs": [
    {
     "data": {
      "text/plain": [
       "array([0., 0.])"
      ]
     },
     "execution_count": 13,
     "metadata": {},
     "output_type": "execute_result"
    }
   ],
   "source": [
    "p1"
   ]
  },
  {
   "cell_type": "code",
   "execution_count": 14,
   "id": "d987e80a",
   "metadata": {},
   "outputs": [
    {
     "data": {
      "text/plain": [
       "array([1., 2.])"
      ]
     },
     "execution_count": 14,
     "metadata": {},
     "output_type": "execute_result"
    }
   ],
   "source": [
    "p2"
   ]
  },
  {
   "cell_type": "markdown",
   "id": "eef314c9",
   "metadata": {},
   "source": [
    "### Calculate L1 or \"Manhattan\" distance"
   ]
  },
  {
   "cell_type": "code",
   "execution_count": 15,
   "id": "a17e54dc",
   "metadata": {},
   "outputs": [
    {
     "data": {
      "text/plain": [
       "3.0"
      ]
     },
     "execution_count": 15,
     "metadata": {},
     "output_type": "execute_result"
    }
   ],
   "source": [
    "np.sum(abs(p1 - p2))"
   ]
  },
  {
   "cell_type": "code",
   "execution_count": 16,
   "id": "511d678a",
   "metadata": {},
   "outputs": [
    {
     "data": {
      "text/plain": [
       "array([[0., 3.],\n",
       "       [3., 0.]])"
      ]
     },
     "execution_count": 16,
     "metadata": {},
     "output_type": "execute_result"
    }
   ],
   "source": [
    "dist = DistanceMetric.get_metric(\"manhattan\")\n",
    "dist.pairwise(np.vstack((p1, p2)))"
   ]
  },
  {
   "cell_type": "markdown",
   "id": "ec18115d",
   "metadata": {},
   "source": [
    "### Calculate L2 or standard Euclidean distance"
   ]
  },
  {
   "cell_type": "code",
   "execution_count": 17,
   "id": "62603735",
   "metadata": {},
   "outputs": [
    {
     "data": {
      "text/plain": [
       "2.23606797749979"
      ]
     },
     "execution_count": 17,
     "metadata": {},
     "output_type": "execute_result"
    }
   ],
   "source": [
    "np.sqrt(np.sum(np.square(abs(p1 - p2))))"
   ]
  },
  {
   "cell_type": "code",
   "execution_count": 18,
   "id": "485f1368",
   "metadata": {},
   "outputs": [
    {
     "data": {
      "text/plain": [
       "array([[0.        , 2.23606798],\n",
       "       [2.23606798, 0.        ]])"
      ]
     },
     "execution_count": 18,
     "metadata": {},
     "output_type": "execute_result"
    }
   ],
   "source": [
    "dist = DistanceMetric.get_metric(\"euclidean\")\n",
    "dist.pairwise(np.vstack((p1, p2)))"
   ]
  },
  {
   "cell_type": "markdown",
   "id": "482ded79",
   "metadata": {},
   "source": [
    "## Non-Euclidean Space\n",
    "There is an assumption being made when computing $\\textit{L}_{r}\\textit{-norm}$. Restated from above, \n",
    "\n",
    "> An $\\textit{n-dimensional Euclidean space}$ is one where points are vectors of $\\textit{n}$ real numbers. \n",
    "\n",
    "The assumption is that values between points exist and are real numbers. For many clustering and regression algorithms, average of points are needed, which is not possible on non-euclidean spaces. \n"
   ]
  },
  {
   "cell_type": "code",
   "execution_count": 19,
   "id": "df5904d2",
   "metadata": {},
   "outputs": [],
   "source": [
    "import random\n",
    "import string"
   ]
  },
  {
   "cell_type": "code",
   "execution_count": 20,
   "id": "150279d4",
   "metadata": {},
   "outputs": [
    {
     "data": {
      "text/plain": [
       "array([[ True,  True, False],\n",
       "       [ True,  True,  True],\n",
       "       [ True, False, False]])"
      ]
     },
     "execution_count": 20,
     "metadata": {},
     "output_type": "execute_result"
    }
   ],
   "source": [
    "random_booleans = np.array([bool(random.getrandbits(1)) for _ in range(9)])\n",
    "random_booleans.reshape(3,3)"
   ]
  },
  {
   "cell_type": "code",
   "execution_count": 21,
   "id": "35e9871a",
   "metadata": {},
   "outputs": [
    {
     "data": {
      "text/plain": [
       "array([[ 65,  95, 100,  24],\n",
       "       [ 81,  16,  78,  75],\n",
       "       [ 90,  80,  26,   1],\n",
       "       [ 75,  44,  76,  99]])"
      ]
     },
     "execution_count": 21,
     "metadata": {},
     "output_type": "execute_result"
    }
   ],
   "source": [
    "random_ints = np.array([random.randint(0, 100) for _ in range(16)])\n",
    "random_ints.reshape(4, 4)"
   ]
  },
  {
   "cell_type": "code",
   "execution_count": 22,
   "id": "caa10a38",
   "metadata": {},
   "outputs": [
    {
     "data": {
      "text/plain": [
       "array([['W', 'y', 'B', 'K', 'X'],\n",
       "       ['X', 'U', 'b', 'R', 'G'],\n",
       "       ['z', 'T', 'R', 'C', 'm'],\n",
       "       ['P', 'I', 'K', 'M', 'X'],\n",
       "       ['d', 'n', 'p', 'L', 'Y']], dtype='<U1')"
      ]
     },
     "execution_count": 22,
     "metadata": {},
     "output_type": "execute_result"
    }
   ],
   "source": [
    "random_letters = np.array([random.choice(string.ascii_letters) for _ in range(25)])\n",
    "random_letters.reshape(5,5)"
   ]
  },
  {
   "cell_type": "markdown",
   "id": "46f51194",
   "metadata": {},
   "source": [
    "## Jaccard Distance\n",
    "https://en.wikipedia.org/wiki/Jaccard_index\n",
    "\n",
    "We define the $\\textit{Jaccard distance}$ of sets as the inverse of $\\textit{Jaccard similarity}$, or 1 minus the ratio of the sizes of the intersection and union of sets $\\textit{A}$ and $\\textit{B}$.\n",
    "\n",
    "<br />\n",
    "<br />\n",
    "<div class=\"row\" style=\"float: center; display: flex;\">\n",
    "    <img src=\"../images/union.png\" alt=\"\" width=\"300\"/>\n",
    "    <img src=\"../images/intersection.png\" alt=\"\" width=\"300\"/>\n",
    "</div>\n",
    "<br />"
   ]
  },
  {
   "cell_type": "code",
   "execution_count": 23,
   "id": "a263e8cb",
   "metadata": {},
   "outputs": [],
   "source": [
    "set_a = np.array([bool(random.getrandbits(1)) for _ in range(9)])\n",
    "set_b = np.array([bool(random.getrandbits(1)) for _ in range(9)])"
   ]
  },
  {
   "cell_type": "code",
   "execution_count": null,
   "id": "9712bbeb",
   "metadata": {},
   "outputs": [],
   "source": []
  },
  {
   "cell_type": "code",
   "execution_count": 24,
   "id": "1a52bd4e",
   "metadata": {},
   "outputs": [
    {
     "data": {
      "text/plain": [
       "array([ True, False,  True,  True, False, False,  True, False,  True])"
      ]
     },
     "execution_count": 24,
     "metadata": {},
     "output_type": "execute_result"
    }
   ],
   "source": [
    "set_a"
   ]
  },
  {
   "cell_type": "code",
   "execution_count": 25,
   "id": "dfe9a28b",
   "metadata": {},
   "outputs": [
    {
     "data": {
      "text/plain": [
       "array([ True, False,  True,  True,  True,  True, False,  True, False])"
      ]
     },
     "execution_count": 25,
     "metadata": {},
     "output_type": "execute_result"
    }
   ],
   "source": [
    "set_b"
   ]
  },
  {
   "cell_type": "code",
   "execution_count": 26,
   "id": "3603c346",
   "metadata": {},
   "outputs": [
    {
     "data": {
      "text/plain": [
       "array([[0.   , 0.625],\n",
       "       [0.625, 0.   ]])"
      ]
     },
     "execution_count": 26,
     "metadata": {},
     "output_type": "execute_result"
    }
   ],
   "source": [
    "dist = DistanceMetric.get_metric(\"jaccard\")\n",
    "dist.pairwise(np.vstack((set_a, set_b)))"
   ]
  },
  {
   "cell_type": "code",
   "execution_count": null,
   "id": "8e52d377",
   "metadata": {},
   "outputs": [],
   "source": []
  },
  {
   "cell_type": "markdown",
   "id": "9c95f9f8",
   "metadata": {},
   "source": [
    "## Edit Distance\n",
    "https://en.wikipedia.org/wiki/Edit_distance\n",
    "\n",
    "We define $\\textit{Edit distance}$ as the distance between two strings ($x=x_1x_2...x_n$ and $y=y_1y_2...y_n$). There are many ways to measure \"distance\" here. One simple way is to measure the number of insertions and deletions needed to convert $x$ to $y$. "
   ]
  },
  {
   "cell_type": "code",
   "execution_count": 32,
   "id": "4f6bf037",
   "metadata": {},
   "outputs": [],
   "source": [
    "# pip install fuzzywuzzy\n",
    "from fuzzywuzzy import fuzz"
   ]
  },
  {
   "cell_type": "code",
   "execution_count": 33,
   "id": "13f8a8ab",
   "metadata": {},
   "outputs": [],
   "source": [
    "word_1 = \"bat\"\n",
    "word_2 = \"cat\"\n",
    "word_3 = \"dog\"\n",
    "word_4 = \"map\""
   ]
  },
  {
   "cell_type": "code",
   "execution_count": 34,
   "id": "d8b2dcec",
   "metadata": {},
   "outputs": [
    {
     "data": {
      "text/plain": [
       "67"
      ]
     },
     "execution_count": 34,
     "metadata": {},
     "output_type": "execute_result"
    }
   ],
   "source": [
    "fuzz.ratio(word_1, word_2)"
   ]
  },
  {
   "cell_type": "code",
   "execution_count": 35,
   "id": "073f1bd8",
   "metadata": {},
   "outputs": [
    {
     "data": {
      "text/plain": [
       "0"
      ]
     },
     "execution_count": 35,
     "metadata": {},
     "output_type": "execute_result"
    }
   ],
   "source": [
    "fuzz.ratio(word_1, word_3)"
   ]
  },
  {
   "cell_type": "code",
   "execution_count": 36,
   "id": "41082502",
   "metadata": {},
   "outputs": [
    {
     "data": {
      "text/plain": [
       "33"
      ]
     },
     "execution_count": 36,
     "metadata": {},
     "output_type": "execute_result"
    }
   ],
   "source": [
    "fuzz.ratio(word_1, word_4)"
   ]
  },
  {
   "cell_type": "code",
   "execution_count": null,
   "id": "b497e1dc",
   "metadata": {},
   "outputs": [],
   "source": []
  },
  {
   "cell_type": "code",
   "execution_count": null,
   "id": "f0dbdb8c",
   "metadata": {},
   "outputs": [],
   "source": []
  }
 ],
 "metadata": {
  "kernelspec": {
   "display_name": "Python 3 (ipykernel)",
   "language": "python",
   "name": "python3"
  },
  "language_info": {
   "codemirror_mode": {
    "name": "ipython",
    "version": 3
   },
   "file_extension": ".py",
   "mimetype": "text/x-python",
   "name": "python",
   "nbconvert_exporter": "python",
   "pygments_lexer": "ipython3",
   "version": "3.9.12"
  }
 },
 "nbformat": 4,
 "nbformat_minor": 5
}
