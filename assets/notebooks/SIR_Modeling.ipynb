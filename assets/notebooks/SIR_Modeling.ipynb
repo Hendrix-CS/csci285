{
 "cells": [
  {
   "cell_type": "markdown",
   "id": "88f0697c",
   "metadata": {},
   "source": [
    "# SIR Modeling\n",
    "SIR Modeling is a simple form of [compartmental modeling](https://en.wikipedia.org/wiki/Compartmental_models_in_epidemiology). From the wikipedia page, \n",
    "\n",
    "> Compartmental models are a very general modelling technique. They are often applied to the mathematical modelling of infectious diseases. The population is assigned to compartments with labels – for example, S, I, or R, (Susceptible, Infectious, or Recovered). People may progress between compartments. The order of the labels usually shows the flow patterns between the compartments; for example SEIS means susceptible, exposed, infectious, then susceptible again. The models are most often run with ordinary differential equations (which are **deterministic**), but can also be used with a **stochastic** (random) framework, which is more realistic but much more complicated to analyze.\n",
    "\n",
    "The three compartments are, \n",
    "\n",
    "* **S** - Susceptible individuals. Interactions with Infected result in individuals moving from S->I. \n",
    "* **I** - Infected individuals. Transitions from I->R due to either death or due to the disease running its course and taking the individual out of the S and I compartments.\n",
    "* **R** - Recovered / Removed / Resistant\n",
    "\n",
    "<br />\n",
    "\n",
    "It is helpful to draw out diagrams of the different compartments in order to derive the differential equations (and initial conditions) governing SIR. Here is a link to a [Figma diagram]() to help us draw out our compartments. The resulting **initial-value problem** is as follows, \n",
    "\n",
    "\n",
    "<br />\n",
    "\n",
    "$$\n",
    "\\begin{align}\n",
    "\\frac{\\partial S}{\\partial t} &= - \\beta \\cdot I \\cdot S && S(0) = S_0 \\\\ \\\\\n",
    "\\frac{\\partial I}{\\partial t} &= \\beta \\cdot I \\cdot S - \\gamma \\cdot I && I(0) = I_0 \\\\ \\\\ \n",
    "\\frac{\\partial R}{\\partial t} &=  \\gamma \\cdot I && R(0) = R_0 \\\\ \\\\ \n",
    "\\end{align}\n",
    "$$\n",
    "\n",
    "<br />"
   ]
  },
  {
   "cell_type": "code",
   "execution_count": 1,
   "id": "b94218da",
   "metadata": {},
   "outputs": [],
   "source": [
    "import numpy as np\n",
    "import pandas as pd\n",
    "import seaborn as sns"
   ]
  },
  {
   "cell_type": "markdown",
   "id": "0c831bdc",
   "metadata": {},
   "source": [
    "### % Population"
   ]
  },
  {
   "cell_type": "code",
   "execution_count": 2,
   "id": "1b9a83fb",
   "metadata": {},
   "outputs": [],
   "source": [
    "I_0 = 0.001\n",
    "S_0 = 1 - I_0\n",
    "R_0 = 0\n",
    "\n",
    "N = I_0 + S_0 + R_0\n",
    "assert N == 1"
   ]
  },
  {
   "cell_type": "markdown",
   "id": "8813cec6",
   "metadata": {},
   "source": [
    "### Interpreting time & coefficients\n",
    "<br />\n",
    "\n",
    "| Variable         | Description                                                                                   |\n",
    "|:-----------------|:----------------------------------------------------------------------------------------------|\n",
    "| \"t\" or \"time\"    | Non-specific (e.g. hours, days, years, etc). We associate this with simulation steps.         |\n",
    "| disease_duration | The number of simulation steps (e.g. \"time\") an individual is infected.                       |\n",
    "| $\\gamma$         | Coefficient for rate of recovery which is inversely proportional to `disease_duration`        | \n",
    "| num_contacts     | Avg number of contacts (with other people) per person per time                                |\n",
    "| prob_trans       | Probability of transmission between susceptible and infected persons                          |\n",
    "| $\\beta$          | Coefficient for rate of transmission which is proportional to `num_contacts` and `prob_trans` | \n",
    "| $R_0$            | basic reproduction number (speed of reproduction)                                             |\n",
    "\n",
    "\n",
    "<br />"
   ]
  },
  {
   "cell_type": "markdown",
   "id": "db66e323",
   "metadata": {},
   "source": [
    "### $R_0$\n",
    "https://en.wikipedia.org/wiki/Basic_reproduction_number\n",
    "\n",
    "The most important uses of $R_0$ are determining if an emerging infectious disease can spread in a population and determining what proportion of the population should be immunized through vaccination to eradicate a disease. \n",
    "\n",
    "In commonly used infection models, when $R_0 > 1$ the infection will be able to start spreading in a population, but not if $R_0 < 1$. Generally, the larger the value of $R_0$, the harder it is to control the epidemic. \n",
    "<br />"
   ]
  },
  {
   "cell_type": "code",
   "execution_count": 12,
   "id": "eaaade19",
   "metadata": {},
   "outputs": [],
   "source": [
    "disease_duration = 14\n",
    "\n",
    "r_0 = 9.5\n",
    "\n",
    "gamma = 1 / disease_duration\n",
    "\n",
    "# num_contacts = 15\n",
    "# prob_trans = 0.03\n",
    "# beta = num_contacts * prob_trans\n",
    "beta = r_0 * gamma"
   ]
  },
  {
   "cell_type": "markdown",
   "id": "7efb1cdb",
   "metadata": {},
   "source": [
    "### Model Definition"
   ]
  },
  {
   "cell_type": "code",
   "execution_count": 13,
   "id": "ebbc5701",
   "metadata": {},
   "outputs": [],
   "source": [
    "days = 100"
   ]
  },
  {
   "cell_type": "code",
   "execution_count": 14,
   "id": "a96913a7",
   "metadata": {},
   "outputs": [],
   "source": [
    "def SIR():\n",
    "    \n",
    "    ## define time domain\n",
    "    t = np.linspace(0, days, days)\n",
    "    dt = t[1] - t[0]\n",
    "    \n",
    "    ## define initial conditions\n",
    "    S = np.zeros(days)\n",
    "    S[0] = S_0\n",
    "\n",
    "    I = np.zeros(days)\n",
    "    I[0] = I_0\n",
    "    \n",
    "    R = np.zeros(days)\n",
    "    R[0] = R_0\n",
    "\n",
    "    \n",
    "    for n in range(0, days - 1):\n",
    "        \n",
    "        ## calculate derivatives\n",
    "        dI = beta * I[n] * S[n] - gamma * I[n]\n",
    "        dS = -beta * I[n] * S [n]\n",
    "        dR = gamma * I[n]\n",
    "        \n",
    "        ## calculate step forward\n",
    "        S[n+1] = S[n] + (dS * dt)\n",
    "        I[n+1] = I[n] + (dI * dt)\n",
    "        R[n+1] = R[n] + (dR * dt)\n",
    "        \n",
    "    return pd.DataFrame({\n",
    "        'susceptible': S, \n",
    "        'infected': I, \n",
    "        'recovered': R, \n",
    "        'days': t\n",
    "    })"
   ]
  },
  {
   "cell_type": "code",
   "execution_count": 15,
   "id": "8a19189c",
   "metadata": {},
   "outputs": [],
   "source": [
    "df = SIR()"
   ]
  },
  {
   "cell_type": "code",
   "execution_count": 16,
   "id": "a59e308c",
   "metadata": {},
   "outputs": [
    {
     "data": {
      "text/html": [
       "<div>\n",
       "<style scoped>\n",
       "    .dataframe tbody tr th:only-of-type {\n",
       "        vertical-align: middle;\n",
       "    }\n",
       "\n",
       "    .dataframe tbody tr th {\n",
       "        vertical-align: top;\n",
       "    }\n",
       "\n",
       "    .dataframe thead th {\n",
       "        text-align: right;\n",
       "    }\n",
       "</style>\n",
       "<table border=\"1\" class=\"dataframe\">\n",
       "  <thead>\n",
       "    <tr style=\"text-align: right;\">\n",
       "      <th></th>\n",
       "      <th>susceptible</th>\n",
       "      <th>infected</th>\n",
       "      <th>recovered</th>\n",
       "      <th>days</th>\n",
       "    </tr>\n",
       "  </thead>\n",
       "  <tbody>\n",
       "    <tr>\n",
       "      <th>0</th>\n",
       "      <td>0.999000</td>\n",
       "      <td>0.001000</td>\n",
       "      <td>0.000000</td>\n",
       "      <td>0.000000</td>\n",
       "    </tr>\n",
       "    <tr>\n",
       "      <th>1</th>\n",
       "      <td>0.998315</td>\n",
       "      <td>0.001613</td>\n",
       "      <td>0.000072</td>\n",
       "      <td>1.010101</td>\n",
       "    </tr>\n",
       "    <tr>\n",
       "      <th>2</th>\n",
       "      <td>0.997212</td>\n",
       "      <td>0.002600</td>\n",
       "      <td>0.000188</td>\n",
       "      <td>2.020202</td>\n",
       "    </tr>\n",
       "    <tr>\n",
       "      <th>3</th>\n",
       "      <td>0.995435</td>\n",
       "      <td>0.004189</td>\n",
       "      <td>0.000376</td>\n",
       "      <td>3.030303</td>\n",
       "    </tr>\n",
       "    <tr>\n",
       "      <th>4</th>\n",
       "      <td>0.992577</td>\n",
       "      <td>0.006745</td>\n",
       "      <td>0.000678</td>\n",
       "      <td>4.040404</td>\n",
       "    </tr>\n",
       "  </tbody>\n",
       "</table>\n",
       "</div>"
      ],
      "text/plain": [
       "   susceptible  infected  recovered      days\n",
       "0     0.999000  0.001000   0.000000  0.000000\n",
       "1     0.998315  0.001613   0.000072  1.010101\n",
       "2     0.997212  0.002600   0.000188  2.020202\n",
       "3     0.995435  0.004189   0.000376  3.030303\n",
       "4     0.992577  0.006745   0.000678  4.040404"
      ]
     },
     "execution_count": 16,
     "metadata": {},
     "output_type": "execute_result"
    }
   ],
   "source": [
    "df.head()"
   ]
  },
  {
   "cell_type": "code",
   "execution_count": 17,
   "id": "4e545d61",
   "metadata": {},
   "outputs": [
    {
     "data": {
      "image/png": "[encoded data removed]",
      "text/plain": [
       "<Figure size 848.75x504 with 1 Axes>"
      ]
     },
     "metadata": {
      "needs_background": "light"
     },
     "output_type": "display_data"
    }
   ],
   "source": [
    "line = sns.relplot(\n",
    "    data=pd.melt(df, id_vars=['days'], value_name='population', var_name='stage'),\n",
    "    x='days',\n",
    "    y='population',\n",
    "    hue='stage',\n",
    "    kind='line',\n",
    "    height=7,\n",
    "    aspect=1.5\n",
    ").set(\n",
    "    title=\"SIR Model\"\n",
    ")"
   ]
  },
  {
   "cell_type": "code",
   "execution_count": null,
   "id": "8861043e",
   "metadata": {},
   "outputs": [],
   "source": []
  },
  {
   "cell_type": "code",
   "execution_count": null,
   "id": "a2b4187c",
   "metadata": {},
   "outputs": [],
   "source": []
  },
  {
   "cell_type": "markdown",
   "id": "25822dae",
   "metadata": {},
   "source": [
    "# SIR Modeling for different values of $\\beta$ while holding $\\gamma$"
   ]
  },
  {
   "cell_type": "code",
   "execution_count": 18,
   "id": "f3c7ec5e",
   "metadata": {},
   "outputs": [
    {
     "data": {
      "text/plain": [
       "0.6785714285714285"
      ]
     },
     "execution_count": 18,
     "metadata": {},
     "output_type": "execute_result"
    }
   ],
   "source": [
    "r_0 = 9.5 # omicron variant of covid-19\n",
    "beta = r_0 * gamma\n",
    "beta"
   ]
  },
  {
   "cell_type": "code",
   "execution_count": 20,
   "id": "e13aaa2e",
   "metadata": {},
   "outputs": [
    {
     "data": {
      "text/plain": [
       "array([0.67857143, 0.53392857, 0.38928571, 0.24464286, 0.1       ])"
      ]
     },
     "execution_count": 20,
     "metadata": {},
     "output_type": "execute_result"
    }
   ],
   "source": [
    "betas = np.linspace(beta, 0.1, 5)\n",
    "betas"
   ]
  },
  {
   "cell_type": "code",
   "execution_count": 21,
   "id": "25b69f72",
   "metadata": {},
   "outputs": [],
   "source": [
    "dfs = []\n",
    "for beta in betas:\n",
    "    beta = beta\n",
    "    df = SIR()\n",
    "    dfs.append(df)"
   ]
  },
  {
   "cell_type": "code",
   "execution_count": 22,
   "id": "70c0a1ac",
   "metadata": {},
   "outputs": [
    {
     "data": {
      "application/javascript": [
       "IPython.OutputArea.auto_scroll_threshold = 9999;\n"
      ],
      "text/plain": [
       "<IPython.core.display.Javascript object>"
      ]
     },
     "metadata": {},
     "output_type": "display_data"
    }
   ],
   "source": [
    "%%javascript\n",
    "IPython.OutputArea.auto_scroll_threshold = 9999;"
   ]
  },
  {
   "cell_type": "code",
   "execution_count": 26,
   "id": "53e0059d",
   "metadata": {},
   "outputs": [],
   "source": [
    "# for idx, df in enumerate(dfs):\n",
    "#     line = sns.relplot(\n",
    "#         data=pd.melt(df, id_vars=['days'], value_name='population', var_name='stage'),\n",
    "#         x='days',\n",
    "#         y='population',\n",
    "#         hue='stage',\n",
    "#         kind='line',\n",
    "#         height=7,\n",
    "#         aspect=1.5\n",
    "#     ).set(\n",
    "#         title=f\"SIR Model (beta={betas[idx]:0.2f}, r_0={r_0:0.2f}, gamma={gamma:0.2f})\"\n",
    "#     )"
   ]
  },
  {
   "cell_type": "code",
   "execution_count": null,
   "id": "8d583ea7",
   "metadata": {},
   "outputs": [],
   "source": []
  },
  {
   "cell_type": "code",
   "execution_count": null,
   "id": "ecf8b7f1",
   "metadata": {},
   "outputs": [],
   "source": []
  },
  {
   "cell_type": "code",
   "execution_count": null,
   "id": "d60e94c5",
   "metadata": {},
   "outputs": [],
   "source": []
  },
  {
   "cell_type": "markdown",
   "id": "0f5fcd40",
   "metadata": {},
   "source": [
    "# SIRD Model\n",
    "This is an expansion on the basic SIR Model that differentiates between _Recovered_ (immune) and _Deceased_. \n",
    "\n",
    "<br />\n",
    "\n",
    "$$\n",
    "\\begin{align}\n",
    "\\frac{\\partial S}{\\partial t} &= - \\beta \\cdot I \\cdot S && S(0) = S_0 \\\\ \\\\\n",
    "\\frac{\\partial I}{\\partial t} &= \\beta \\cdot I \\cdot S - \\gamma \\cdot I - \\mu \\cdot I && I(0) = I_0 \\\\ \\\\ \n",
    "\\frac{\\partial R}{\\partial t} &=  \\gamma \\cdot I && R(0) = R_0 \\\\ \\\\ \n",
    "\\frac{\\partial D}{\\partial t} &=  \\mu \\cdot I && D(0) = D_0 \\\\ \\\\ \n",
    "\\end{align}\n",
    "$$\n",
    "\n",
    "<br />"
   ]
  },
  {
   "cell_type": "code",
   "execution_count": 25,
   "id": "77366a07",
   "metadata": {},
   "outputs": [],
   "source": [
    "disease_duration = 14\n",
    "\n",
    "r_0 = 9.5\n",
    "\n",
    "gamma = 1 / disease_duration\n",
    "\n",
    "# num_contacts = 15\n",
    "# prob_trans = 0.03\n",
    "# beta = num_contacts * prob_trans\n",
    "beta = r_0 * gamma"
   ]
  },
  {
   "cell_type": "code",
   "execution_count": 27,
   "id": "5f55d5c5",
   "metadata": {},
   "outputs": [],
   "source": [
    "days = 100"
   ]
  },
  {
   "cell_type": "code",
   "execution_count": 78,
   "id": "d85fee79",
   "metadata": {},
   "outputs": [],
   "source": [
    "D_0 = 0.01\n",
    "mu = 0.03"
   ]
  },
  {
   "cell_type": "code",
   "execution_count": 79,
   "id": "9252c68e",
   "metadata": {},
   "outputs": [],
   "source": [
    "def SIRD():\n",
    "    \n",
    "    ## define time domain\n",
    "    t = np.linspace(0, days, days)\n",
    "    dt = t[1] - t[0]\n",
    "    \n",
    "    ## define initial conditions\n",
    "    S = np.zeros(days)\n",
    "    S[0] = S_0\n",
    "\n",
    "    I = np.zeros(days)\n",
    "    I[0] = I_0\n",
    "    \n",
    "    R = np.zeros(days)\n",
    "    R[0] = R_0\n",
    "    \n",
    "    D = np.zeros(days)\n",
    "    D[0] = D_0\n",
    "\n",
    "    \n",
    "    for n in range(0, days - 1):\n",
    "        \n",
    "        ## calculate derivatives\n",
    "        dI = beta * I[n] * S[n] - gamma * I[n] - mu * D[n]\n",
    "        dS = -beta * I[n] * S [n]\n",
    "        dR = gamma * I[n]\n",
    "        dD = mu * D[n]\n",
    "        \n",
    "        ## calculate step forward\n",
    "        S[n+1] = S[n] + (dS * dt)\n",
    "        I[n+1] = I[n] + (dI * dt)\n",
    "        R[n+1] = R[n] + (dR * dt)\n",
    "        D[n+1] = D[n] + (dD * dt)\n",
    "        \n",
    "    return pd.DataFrame({\n",
    "        'susceptible': S, \n",
    "        'infected': I, \n",
    "        'recovered': R, \n",
    "        'deceased': D,\n",
    "        'days': t\n",
    "    })"
   ]
  },
  {
   "cell_type": "code",
   "execution_count": 80,
   "id": "f1d07e8e",
   "metadata": {},
   "outputs": [],
   "source": [
    "df = SIRD()"
   ]
  },
  {
   "cell_type": "code",
   "execution_count": 81,
   "id": "a4e47788",
   "metadata": {},
   "outputs": [
    {
     "data": {
      "text/html": [
       "<div>\n",
       "<style scoped>\n",
       "    .dataframe tbody tr th:only-of-type {\n",
       "        vertical-align: middle;\n",
       "    }\n",
       "\n",
       "    .dataframe tbody tr th {\n",
       "        vertical-align: top;\n",
       "    }\n",
       "\n",
       "    .dataframe thead th {\n",
       "        text-align: right;\n",
       "    }\n",
       "</style>\n",
       "<table border=\"1\" class=\"dataframe\">\n",
       "  <thead>\n",
       "    <tr style=\"text-align: right;\">\n",
       "      <th></th>\n",
       "      <th>susceptible</th>\n",
       "      <th>infected</th>\n",
       "      <th>recovered</th>\n",
       "      <th>deceased</th>\n",
       "      <th>days</th>\n",
       "    </tr>\n",
       "  </thead>\n",
       "  <tbody>\n",
       "    <tr>\n",
       "      <th>0</th>\n",
       "      <td>0.999000</td>\n",
       "      <td>0.001000</td>\n",
       "      <td>0.000000</td>\n",
       "      <td>0.010000</td>\n",
       "      <td>0.000000</td>\n",
       "    </tr>\n",
       "    <tr>\n",
       "      <th>1</th>\n",
       "      <td>0.998315</td>\n",
       "      <td>0.001310</td>\n",
       "      <td>0.000072</td>\n",
       "      <td>0.010303</td>\n",
       "      <td>1.010101</td>\n",
       "    </tr>\n",
       "    <tr>\n",
       "      <th>2</th>\n",
       "      <td>0.997419</td>\n",
       "      <td>0.001799</td>\n",
       "      <td>0.000167</td>\n",
       "      <td>0.010615</td>\n",
       "      <td>2.020202</td>\n",
       "    </tr>\n",
       "    <tr>\n",
       "      <th>3</th>\n",
       "      <td>0.996189</td>\n",
       "      <td>0.002577</td>\n",
       "      <td>0.000296</td>\n",
       "      <td>0.010937</td>\n",
       "      <td>3.030303</td>\n",
       "    </tr>\n",
       "    <tr>\n",
       "      <th>4</th>\n",
       "      <td>0.994429</td>\n",
       "      <td>0.003820</td>\n",
       "      <td>0.000482</td>\n",
       "      <td>0.011268</td>\n",
       "      <td>4.040404</td>\n",
       "    </tr>\n",
       "  </tbody>\n",
       "</table>\n",
       "</div>"
      ],
      "text/plain": [
       "   susceptible  infected  recovered  deceased      days\n",
       "0     0.999000  0.001000   0.000000  0.010000  0.000000\n",
       "1     0.998315  0.001310   0.000072  0.010303  1.010101\n",
       "2     0.997419  0.001799   0.000167  0.010615  2.020202\n",
       "3     0.996189  0.002577   0.000296  0.010937  3.030303\n",
       "4     0.994429  0.003820   0.000482  0.011268  4.040404"
      ]
     },
     "execution_count": 81,
     "metadata": {},
     "output_type": "execute_result"
    }
   ],
   "source": [
    "df.head()"
   ]
  },
  {
   "cell_type": "code",
   "execution_count": 82,
   "id": "c5650036",
   "metadata": {},
   "outputs": [
    {
     "data": {
      "image/png": "[encoded data removed]",
      "text/plain": [
       "<Figure size 848.75x504 with 1 Axes>"
      ]
     },
     "metadata": {
      "needs_background": "light"
     },
     "output_type": "display_data"
    }
   ],
   "source": [
    "line = sns.relplot(\n",
    "    data=pd.melt(df, id_vars=['days'], value_name='population', var_name='stage'),\n",
    "    x='days',\n",
    "    y='population',\n",
    "    hue='stage',\n",
    "    kind='line',\n",
    "    height=7,\n",
    "    aspect=1.5\n",
    ").set(\n",
    "    title=\"SIRD Model\"\n",
    ")"
   ]
  },
  {
   "cell_type": "code",
   "execution_count": null,
   "id": "86b1cd65",
   "metadata": {},
   "outputs": [],
   "source": []
  },
  {
   "cell_type": "code",
   "execution_count": null,
   "id": "1c29fa75",
   "metadata": {},
   "outputs": [],
   "source": []
  },
  {
   "cell_type": "code",
   "execution_count": null,
   "id": "cfd7613a",
   "metadata": {},
   "outputs": [],
   "source": []
  },
  {
   "cell_type": "markdown",
   "id": "3f09581d",
   "metadata": {},
   "source": [
    "# SIRV Model\n",
    "Another expansion on basic SIR, this includes _Vaccinations_.\n",
    "\n",
    "<br />\n",
    "\n",
    "$$\n",
    "\\begin{align}\n",
    "\\frac{\\partial S}{\\partial t} &= - \\beta \\cdot I \\cdot S - v(t) \\cdot S && S(0) = S_0 \\\\ \\\\\n",
    "\\frac{\\partial I}{\\partial t} &= \\beta \\cdot I \\cdot S - \\gamma \\cdot I && I(0) = I_0 \\\\ \\\\ \n",
    "\\frac{\\partial R}{\\partial t} &=  \\gamma \\cdot I && R(0) = R_0 \\\\ \\\\ \n",
    "\\frac{\\partial V}{\\partial t} &=  v(t) \\cdot S && V(0) = V_0 \\\\ \\\\ \n",
    "\\end{align}\n",
    "$$\n",
    "\n",
    "<br />"
   ]
  },
  {
   "cell_type": "code",
   "execution_count": null,
   "id": "0016581d",
   "metadata": {},
   "outputs": [],
   "source": []
  }
 ],
 "metadata": {
  "kernelspec": {
   "display_name": "Python 3 (ipykernel)",
   "language": "python",
   "name": "python3"
  },
  "language_info": {
   "codemirror_mode": {
    "name": "ipython",
    "version": 3
   },
   "file_extension": ".py",
   "mimetype": "text/x-python",
   "name": "python",
   "nbconvert_exporter": "python",
   "pygments_lexer": "ipython3",
   "version": "3.9.12"
  }
 },
 "nbformat": 4,
 "nbformat_minor": 5
}
