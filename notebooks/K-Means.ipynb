{
 "cells": [
  {
   "cell_type": "markdown",
   "id": "a7261cd4",
   "metadata": {},
   "source": [
    "# Clustering"
   ]
  },
  {
   "cell_type": "markdown",
   "id": "db63aba9",
   "metadata": {},
   "source": [
    "<img src=\"../images/kmeans.png\" alt=\"\" width=\"600\"/>"
   ]
  },
  {
   "cell_type": "markdown",
   "id": "c63859d3",
   "metadata": {},
   "source": [
    "Clustering is the process of examining a collection of \"points\" and grouping the points into \"clusters\" according to some **distance measure**. The goal is that the points in the same cluster have a small distance from one another, while points in different clusters are at a larger distance from one another.\n",
    "\n",
    "### Points, Spaces, and Distances\n",
    "A dataset suitable for clustering is a collection of _points_, which are just objects belonging to some _space_. In its most general sense, a space is just a universal set of points, from which the points in the dataset are drawn. All spaces for which we can perform a clustering have a distance measure, giving a distance between any two points in the space."
   ]
  },
  {
   "cell_type": "code",
   "execution_count": 1,
   "id": "ce93eeff",
   "metadata": {},
   "outputs": [],
   "source": [
    "# Import pandas\n",
    "import pandas as pd\n",
    "pd.set_option('display.max_columns', None)\n",
    "\n",
    "# Import seaborn\n",
    "import seaborn as sns\n",
    "%matplotlib inline\n",
    "\n",
    "# Apply the default theme\n",
    "sns.set_theme()"
   ]
  },
  {
   "cell_type": "markdown",
   "id": "39a95c9e",
   "metadata": {},
   "source": [
    "## K-Means Algorithm (Step-by-step)\n",
    "K-Means is the best known algorithm in a family of clustering algorithms known as _point-assignment algorithms_. K-Means requires a Euclidean space and assumes the number of clusters, _k_, is known in advance. It is, however, possible to deduce _k_ by trial and error. \n",
    "\n",
    "In order to explain the K-Means algorithm, we will start by creating a low dimension \"demo\" dataset that has a clear number of clusters (K=2)"
   ]
  },
  {
   "cell_type": "code",
   "execution_count": 2,
   "id": "dac7656c",
   "metadata": {},
   "outputs": [
    {
     "data": {
      "text/plain": [
       "[[2.5, 1.1], [1.5, 2], [2, 3], [4, 6], [4, 4], [4.5, 5], [3.5, 5.1]]"
      ]
     },
     "execution_count": 2,
     "metadata": {},
     "output_type": "execute_result"
    }
   ],
   "source": [
    "# create demo data\n",
    "points = [\n",
    "    [2.5, 1.1],\n",
    "    [1.5, 2],\n",
    "    [2, 3],\n",
    "    [4, 6],\n",
    "    [4, 4],\n",
    "    [4.5, 5],\n",
    "    [3.5, 5.1]\n",
    "]\n",
    "points"
   ]
  },
  {
   "cell_type": "code",
   "execution_count": 3,
   "id": "d7c36c35",
   "metadata": {},
   "outputs": [
    {
     "data": {
      "text/html": [
       "<div>\n",
       "<style scoped>\n",
       "    .dataframe tbody tr th:only-of-type {\n",
       "        vertical-align: middle;\n",
       "    }\n",
       "\n",
       "    .dataframe tbody tr th {\n",
       "        vertical-align: top;\n",
       "    }\n",
       "\n",
       "    .dataframe thead th {\n",
       "        text-align: right;\n",
       "    }\n",
       "</style>\n",
       "<table border=\"1\" class=\"dataframe\">\n",
       "  <thead>\n",
       "    <tr style=\"text-align: right;\">\n",
       "      <th></th>\n",
       "      <th>x</th>\n",
       "      <th>y</th>\n",
       "      <th>cluster</th>\n",
       "    </tr>\n",
       "  </thead>\n",
       "  <tbody>\n",
       "    <tr>\n",
       "      <th>P-0</th>\n",
       "      <td>2.5</td>\n",
       "      <td>1.1</td>\n",
       "      <td>N/A</td>\n",
       "    </tr>\n",
       "    <tr>\n",
       "      <th>P-1</th>\n",
       "      <td>1.5</td>\n",
       "      <td>2.0</td>\n",
       "      <td>N/A</td>\n",
       "    </tr>\n",
       "    <tr>\n",
       "      <th>P-2</th>\n",
       "      <td>2.0</td>\n",
       "      <td>3.0</td>\n",
       "      <td>N/A</td>\n",
       "    </tr>\n",
       "    <tr>\n",
       "      <th>P-3</th>\n",
       "      <td>4.0</td>\n",
       "      <td>6.0</td>\n",
       "      <td>N/A</td>\n",
       "    </tr>\n",
       "    <tr>\n",
       "      <th>P-4</th>\n",
       "      <td>4.0</td>\n",
       "      <td>4.0</td>\n",
       "      <td>N/A</td>\n",
       "    </tr>\n",
       "    <tr>\n",
       "      <th>P-5</th>\n",
       "      <td>4.5</td>\n",
       "      <td>5.0</td>\n",
       "      <td>N/A</td>\n",
       "    </tr>\n",
       "    <tr>\n",
       "      <th>P-6</th>\n",
       "      <td>3.5</td>\n",
       "      <td>5.1</td>\n",
       "      <td>N/A</td>\n",
       "    </tr>\n",
       "  </tbody>\n",
       "</table>\n",
       "</div>"
      ],
      "text/plain": [
       "       x    y cluster\n",
       "P-0  2.5  1.1     N/A\n",
       "P-1  1.5  2.0     N/A\n",
       "P-2  2.0  3.0     N/A\n",
       "P-3  4.0  6.0     N/A\n",
       "P-4  4.0  4.0     N/A\n",
       "P-5  4.5  5.0     N/A\n",
       "P-6  3.5  5.1     N/A"
      ]
     },
     "execution_count": 3,
     "metadata": {},
     "output_type": "execute_result"
    }
   ],
   "source": [
    "# identify columns and index\n",
    "columns = [\"x\", \"y\"]\n",
    "index = [f\"P-{i}\" for i in range(len(points))]\n",
    "\n",
    "# create data frame\n",
    "demodf = pd.DataFrame(\n",
    "    points, \n",
    "    columns=columns, \n",
    "    index=index\n",
    ")\n",
    "\n",
    "# add blank label column\n",
    "demodf['cluster'] = 'N/A'\n",
    "\n",
    "# display demo data\n",
    "demodf"
   ]
  },
  {
   "cell_type": "code",
   "execution_count": 4,
   "id": "289e1946",
   "metadata": {},
   "outputs": [
    {
     "data": {
      "image/png": "[encoded data removed]",
      "text/plain": [
       "<Figure size 822.35x504 with 1 Axes>"
      ]
     },
     "metadata": {},
     "output_type": "display_data"
    }
   ],
   "source": [
    "def kmeans_plot(df, cf=None):\n",
    "    \n",
    "    df_tmp = df.copy()\n",
    "    df_tmp['centriod'] = False\n",
    "    \n",
    "    if cf is not None:\n",
    "        cf_tmp = cf.copy()\n",
    "        cf_tmp['centriod'] = True\n",
    "    \n",
    "    vf = pd.concat([df_tmp, cf_tmp]) if cf is not None else df_tmp\n",
    "    \n",
    "    # visualize demo + centriod data\n",
    "    scatter = sns.relplot(\n",
    "        data=vf, \n",
    "        x=\"x\", \n",
    "        y=\"y\",\n",
    "        hue='cluster',\n",
    "        style='centriod',\n",
    "        kind=\"scatter\",\n",
    "        height=7,\n",
    "        aspect=1.5,\n",
    "        s=300\n",
    "    ).set(\n",
    "        title=\"Demo Data\"\n",
    "    )\n",
    "\n",
    "    # label points with index\n",
    "    for i, point in vf.iterrows():\n",
    "        scatter.ax.text(point['x']+.1, point['y'], i)\n",
    "        \n",
    "kmeans_plot(demodf)"
   ]
  },
  {
   "cell_type": "markdown",
   "id": "9b427da7",
   "metadata": {},
   "source": [
    "### Step 1\n",
    "* Pick K value (how many clusters you want)\n",
    "* Choose initial centriods from points (can be random for larger data. here we pick two obivous candidates)"
   ]
  },
  {
   "cell_type": "code",
   "execution_count": 5,
   "id": "0afb8824",
   "metadata": {},
   "outputs": [
    {
     "data": {
      "text/html": [
       "<div>\n",
       "<style scoped>\n",
       "    .dataframe tbody tr th:only-of-type {\n",
       "        vertical-align: middle;\n",
       "    }\n",
       "\n",
       "    .dataframe tbody tr th {\n",
       "        vertical-align: top;\n",
       "    }\n",
       "\n",
       "    .dataframe thead th {\n",
       "        text-align: right;\n",
       "    }\n",
       "</style>\n",
       "<table border=\"1\" class=\"dataframe\">\n",
       "  <thead>\n",
       "    <tr style=\"text-align: right;\">\n",
       "      <th></th>\n",
       "      <th>x</th>\n",
       "      <th>y</th>\n",
       "      <th>cluster</th>\n",
       "    </tr>\n",
       "  </thead>\n",
       "  <tbody>\n",
       "    <tr>\n",
       "      <th>C-1</th>\n",
       "      <td>2.5</td>\n",
       "      <td>1.1</td>\n",
       "      <td>C-1</td>\n",
       "    </tr>\n",
       "    <tr>\n",
       "      <th>C-2</th>\n",
       "      <td>3.5</td>\n",
       "      <td>5.1</td>\n",
       "      <td>C-2</td>\n",
       "    </tr>\n",
       "  </tbody>\n",
       "</table>\n",
       "</div>"
      ],
      "text/plain": [
       "       x    y cluster\n",
       "C-1  2.5  1.1     C-1\n",
       "C-2  3.5  5.1     C-2"
      ]
     },
     "execution_count": 5,
     "metadata": {},
     "output_type": "execute_result"
    }
   ],
   "source": [
    "k=2\n",
    "\n",
    "initial_centriods = [ \n",
    "    [2.5, 1.1, 'C-1'],  # P-0\n",
    "    [3.5, 5.1, 'C-2'],  # P-6\n",
    "]\n",
    "\n",
    "centriods = pd.DataFrame(\n",
    "    initial_centriods, \n",
    "    columns=['x', 'y', 'cluster'],\n",
    "    index=['C-1', 'C-2']\n",
    ")\n",
    "\n",
    "centriods"
   ]
  },
  {
   "cell_type": "code",
   "execution_count": 6,
   "id": "bc07d641",
   "metadata": {},
   "outputs": [
    {
     "data": {
      "image/png": "[encoded data removed]",
      "text/plain": [
       "<Figure size 822.35x504 with 1 Axes>"
      ]
     },
     "metadata": {},
     "output_type": "display_data"
    }
   ],
   "source": [
    "kmeans_plot(demodf, centriods)"
   ]
  },
  {
   "cell_type": "markdown",
   "id": "6c4c18ab",
   "metadata": {},
   "source": [
    "### Step 2\n",
    "* Determine the centriod closest to each point\n",
    "* Assign the point to a cluster"
   ]
  },
  {
   "cell_type": "markdown",
   "id": "5ade22d1",
   "metadata": {},
   "source": [
    "Let's use the $\\textit{L}_{1}\\textit{-norm}$, or $\\textit{Manhattan distance}$. \n",
    "\n",
    "<br />\n",
    "\n",
    "$$\n",
    "d([x_{1},x_{2},...,x_{n}], [y_{1},y_{2},...,y_{n}]) = \\sum_{i=1}^{n} |x_{i} - y_{i}|\n",
    "\\\\\n",
    "$$\n",
    "\n",
    "<br />"
   ]
  },
  {
   "cell_type": "code",
   "execution_count": 7,
   "id": "41e13471",
   "metadata": {},
   "outputs": [],
   "source": [
    "# 2D array of points\n",
    "points = demodf[['x', 'y']].values"
   ]
  },
  {
   "cell_type": "code",
   "execution_count": 8,
   "id": "1d440397",
   "metadata": {},
   "outputs": [],
   "source": [
    "# demodf[['x', 'y']].values"
   ]
  },
  {
   "cell_type": "code",
   "execution_count": 9,
   "id": "fec64837",
   "metadata": {},
   "outputs": [],
   "source": [
    "# point of C-1\n",
    "c_1 = centriods.loc['C-1'].values[:2]"
   ]
  },
  {
   "cell_type": "code",
   "execution_count": 10,
   "id": "0f1df85d",
   "metadata": {},
   "outputs": [],
   "source": [
    "# point of C-2\n",
    "c_2 = centriods.loc['C-2'].values[:2]"
   ]
  },
  {
   "cell_type": "code",
   "execution_count": 11,
   "id": "739e08b2",
   "metadata": {},
   "outputs": [],
   "source": [
    "def manhattan_distance(a, c):\n",
    "    dist = []\n",
    "    for row in a:\n",
    "        x_dist = abs(row[0] - c[0])\n",
    "        y_dist = abs(row[1] - c[1])\n",
    "        dist.append(x_dist + y_dist)\n",
    "        \n",
    "    return dist"
   ]
  },
  {
   "cell_type": "code",
   "execution_count": 12,
   "id": "dfdde3f4",
   "metadata": {},
   "outputs": [],
   "source": [
    "demodf['C-1'] = manhattan_distance(points, c_1)\n",
    "demodf['C-2'] = manhattan_distance(points, c_2)"
   ]
  },
  {
   "cell_type": "code",
   "execution_count": 13,
   "id": "b1cd5fca",
   "metadata": {},
   "outputs": [
    {
     "data": {
      "text/html": [
       "<div>\n",
       "<style scoped>\n",
       "    .dataframe tbody tr th:only-of-type {\n",
       "        vertical-align: middle;\n",
       "    }\n",
       "\n",
       "    .dataframe tbody tr th {\n",
       "        vertical-align: top;\n",
       "    }\n",
       "\n",
       "    .dataframe thead th {\n",
       "        text-align: right;\n",
       "    }\n",
       "</style>\n",
       "<table border=\"1\" class=\"dataframe\">\n",
       "  <thead>\n",
       "    <tr style=\"text-align: right;\">\n",
       "      <th></th>\n",
       "      <th>x</th>\n",
       "      <th>y</th>\n",
       "      <th>cluster</th>\n",
       "      <th>C-1</th>\n",
       "      <th>C-2</th>\n",
       "    </tr>\n",
       "  </thead>\n",
       "  <tbody>\n",
       "    <tr>\n",
       "      <th>P-0</th>\n",
       "      <td>2.5</td>\n",
       "      <td>1.1</td>\n",
       "      <td>N/A</td>\n",
       "      <td>0.0</td>\n",
       "      <td>5.0</td>\n",
       "    </tr>\n",
       "    <tr>\n",
       "      <th>P-1</th>\n",
       "      <td>1.5</td>\n",
       "      <td>2.0</td>\n",
       "      <td>N/A</td>\n",
       "      <td>1.9</td>\n",
       "      <td>5.1</td>\n",
       "    </tr>\n",
       "    <tr>\n",
       "      <th>P-2</th>\n",
       "      <td>2.0</td>\n",
       "      <td>3.0</td>\n",
       "      <td>N/A</td>\n",
       "      <td>2.4</td>\n",
       "      <td>3.6</td>\n",
       "    </tr>\n",
       "    <tr>\n",
       "      <th>P-3</th>\n",
       "      <td>4.0</td>\n",
       "      <td>6.0</td>\n",
       "      <td>N/A</td>\n",
       "      <td>6.4</td>\n",
       "      <td>1.4</td>\n",
       "    </tr>\n",
       "    <tr>\n",
       "      <th>P-4</th>\n",
       "      <td>4.0</td>\n",
       "      <td>4.0</td>\n",
       "      <td>N/A</td>\n",
       "      <td>4.4</td>\n",
       "      <td>1.6</td>\n",
       "    </tr>\n",
       "    <tr>\n",
       "      <th>P-5</th>\n",
       "      <td>4.5</td>\n",
       "      <td>5.0</td>\n",
       "      <td>N/A</td>\n",
       "      <td>5.9</td>\n",
       "      <td>1.1</td>\n",
       "    </tr>\n",
       "    <tr>\n",
       "      <th>P-6</th>\n",
       "      <td>3.5</td>\n",
       "      <td>5.1</td>\n",
       "      <td>N/A</td>\n",
       "      <td>5.0</td>\n",
       "      <td>0.0</td>\n",
       "    </tr>\n",
       "  </tbody>\n",
       "</table>\n",
       "</div>"
      ],
      "text/plain": [
       "       x    y cluster  C-1  C-2\n",
       "P-0  2.5  1.1     N/A  0.0  5.0\n",
       "P-1  1.5  2.0     N/A  1.9  5.1\n",
       "P-2  2.0  3.0     N/A  2.4  3.6\n",
       "P-3  4.0  6.0     N/A  6.4  1.4\n",
       "P-4  4.0  4.0     N/A  4.4  1.6\n",
       "P-5  4.5  5.0     N/A  5.9  1.1\n",
       "P-6  3.5  5.1     N/A  5.0  0.0"
      ]
     },
     "execution_count": 13,
     "metadata": {},
     "output_type": "execute_result"
    }
   ],
   "source": [
    "demodf"
   ]
  },
  {
   "cell_type": "code",
   "execution_count": 14,
   "id": "1a136cd1",
   "metadata": {},
   "outputs": [],
   "source": [
    "def label_cluster(row):\n",
    "    if row['C-1'] < row['C-2']:\n",
    "        return 'C-1'\n",
    "    return 'C-2'\n",
    "\n",
    "demodf['cluster'] = demodf.apply(label_cluster, axis=1)"
   ]
  },
  {
   "cell_type": "code",
   "execution_count": 15,
   "id": "e4b8ab35",
   "metadata": {},
   "outputs": [
    {
     "data": {
      "text/html": [
       "<div>\n",
       "<style scoped>\n",
       "    .dataframe tbody tr th:only-of-type {\n",
       "        vertical-align: middle;\n",
       "    }\n",
       "\n",
       "    .dataframe tbody tr th {\n",
       "        vertical-align: top;\n",
       "    }\n",
       "\n",
       "    .dataframe thead th {\n",
       "        text-align: right;\n",
       "    }\n",
       "</style>\n",
       "<table border=\"1\" class=\"dataframe\">\n",
       "  <thead>\n",
       "    <tr style=\"text-align: right;\">\n",
       "      <th></th>\n",
       "      <th>x</th>\n",
       "      <th>y</th>\n",
       "      <th>cluster</th>\n",
       "      <th>C-1</th>\n",
       "      <th>C-2</th>\n",
       "    </tr>\n",
       "  </thead>\n",
       "  <tbody>\n",
       "    <tr>\n",
       "      <th>P-0</th>\n",
       "      <td>2.5</td>\n",
       "      <td>1.1</td>\n",
       "      <td>C-1</td>\n",
       "      <td>0.0</td>\n",
       "      <td>5.0</td>\n",
       "    </tr>\n",
       "    <tr>\n",
       "      <th>P-1</th>\n",
       "      <td>1.5</td>\n",
       "      <td>2.0</td>\n",
       "      <td>C-1</td>\n",
       "      <td>1.9</td>\n",
       "      <td>5.1</td>\n",
       "    </tr>\n",
       "    <tr>\n",
       "      <th>P-2</th>\n",
       "      <td>2.0</td>\n",
       "      <td>3.0</td>\n",
       "      <td>C-1</td>\n",
       "      <td>2.4</td>\n",
       "      <td>3.6</td>\n",
       "    </tr>\n",
       "    <tr>\n",
       "      <th>P-3</th>\n",
       "      <td>4.0</td>\n",
       "      <td>6.0</td>\n",
       "      <td>C-2</td>\n",
       "      <td>6.4</td>\n",
       "      <td>1.4</td>\n",
       "    </tr>\n",
       "    <tr>\n",
       "      <th>P-4</th>\n",
       "      <td>4.0</td>\n",
       "      <td>4.0</td>\n",
       "      <td>C-2</td>\n",
       "      <td>4.4</td>\n",
       "      <td>1.6</td>\n",
       "    </tr>\n",
       "    <tr>\n",
       "      <th>P-5</th>\n",
       "      <td>4.5</td>\n",
       "      <td>5.0</td>\n",
       "      <td>C-2</td>\n",
       "      <td>5.9</td>\n",
       "      <td>1.1</td>\n",
       "    </tr>\n",
       "    <tr>\n",
       "      <th>P-6</th>\n",
       "      <td>3.5</td>\n",
       "      <td>5.1</td>\n",
       "      <td>C-2</td>\n",
       "      <td>5.0</td>\n",
       "      <td>0.0</td>\n",
       "    </tr>\n",
       "  </tbody>\n",
       "</table>\n",
       "</div>"
      ],
      "text/plain": [
       "       x    y cluster  C-1  C-2\n",
       "P-0  2.5  1.1     C-1  0.0  5.0\n",
       "P-1  1.5  2.0     C-1  1.9  5.1\n",
       "P-2  2.0  3.0     C-1  2.4  3.6\n",
       "P-3  4.0  6.0     C-2  6.4  1.4\n",
       "P-4  4.0  4.0     C-2  4.4  1.6\n",
       "P-5  4.5  5.0     C-2  5.9  1.1\n",
       "P-6  3.5  5.1     C-2  5.0  0.0"
      ]
     },
     "execution_count": 15,
     "metadata": {},
     "output_type": "execute_result"
    }
   ],
   "source": [
    "demodf"
   ]
  },
  {
   "cell_type": "code",
   "execution_count": null,
   "id": "084f7cdb",
   "metadata": {},
   "outputs": [],
   "source": []
  },
  {
   "cell_type": "markdown",
   "id": "d3dc27c1",
   "metadata": {},
   "source": [
    "### K-Means Algorithm Step 3\n",
    "* Update centriod position\n",
    "* Repeat procedure until convergence"
   ]
  },
  {
   "cell_type": "code",
   "execution_count": 16,
   "id": "af94a21c",
   "metadata": {},
   "outputs": [
    {
     "data": {
      "text/html": [
       "<div>\n",
       "<style scoped>\n",
       "    .dataframe tbody tr th:only-of-type {\n",
       "        vertical-align: middle;\n",
       "    }\n",
       "\n",
       "    .dataframe tbody tr th {\n",
       "        vertical-align: top;\n",
       "    }\n",
       "\n",
       "    .dataframe thead th {\n",
       "        text-align: right;\n",
       "    }\n",
       "</style>\n",
       "<table border=\"1\" class=\"dataframe\">\n",
       "  <thead>\n",
       "    <tr style=\"text-align: right;\">\n",
       "      <th></th>\n",
       "      <th>x</th>\n",
       "      <th>y</th>\n",
       "      <th>cluster</th>\n",
       "    </tr>\n",
       "  </thead>\n",
       "  <tbody>\n",
       "    <tr>\n",
       "      <th>C-1</th>\n",
       "      <td>2.5</td>\n",
       "      <td>1.1</td>\n",
       "      <td>C-1</td>\n",
       "    </tr>\n",
       "    <tr>\n",
       "      <th>C-2</th>\n",
       "      <td>3.5</td>\n",
       "      <td>5.1</td>\n",
       "      <td>C-2</td>\n",
       "    </tr>\n",
       "  </tbody>\n",
       "</table>\n",
       "</div>"
      ],
      "text/plain": [
       "       x    y cluster\n",
       "C-1  2.5  1.1     C-1\n",
       "C-2  3.5  5.1     C-2"
      ]
     },
     "execution_count": 16,
     "metadata": {},
     "output_type": "execute_result"
    }
   ],
   "source": [
    "centriods"
   ]
  },
  {
   "cell_type": "code",
   "execution_count": 17,
   "id": "21fb482b",
   "metadata": {},
   "outputs": [
    {
     "data": {
      "text/plain": [
       "x    2.000000\n",
       "y    2.033333\n",
       "dtype: float64"
      ]
     },
     "execution_count": 17,
     "metadata": {},
     "output_type": "execute_result"
    }
   ],
   "source": [
    "demodf[demodf['cluster'] == 'C-1'][['x', 'y']].mean()"
   ]
  },
  {
   "cell_type": "code",
   "execution_count": 18,
   "id": "9ba3633c",
   "metadata": {},
   "outputs": [
    {
     "data": {
      "text/plain": [
       "x    2.000000\n",
       "y    2.033333\n",
       "dtype: float64"
      ]
     },
     "execution_count": 18,
     "metadata": {},
     "output_type": "execute_result"
    }
   ],
   "source": [
    "new_center_1 = demodf[ demodf['cluster'] == 'C-1' ][['x', 'y']].mean()\n",
    "new_center_1"
   ]
  },
  {
   "cell_type": "code",
   "execution_count": 19,
   "id": "10bb6e46",
   "metadata": {},
   "outputs": [],
   "source": [
    "centriods.loc['C-1', 'x'] = new_center_1[0]\n",
    "centriods.loc['C-1', 'y'] = new_center_1[1]"
   ]
  },
  {
   "cell_type": "code",
   "execution_count": 20,
   "id": "aec7e1dd",
   "metadata": {},
   "outputs": [],
   "source": [
    "new_center_2 = demodf[ demodf['cluster'] == 'C-2' ][['x', 'y']].mean()\n",
    "centriods.loc['C-2', 'x'] = new_center_2[0]\n",
    "centriods.loc['C-2', 'y'] = new_center_2[1]"
   ]
  },
  {
   "cell_type": "code",
   "execution_count": 21,
   "id": "c00f7960",
   "metadata": {},
   "outputs": [
    {
     "data": {
      "text/html": [
       "<div>\n",
       "<style scoped>\n",
       "    .dataframe tbody tr th:only-of-type {\n",
       "        vertical-align: middle;\n",
       "    }\n",
       "\n",
       "    .dataframe tbody tr th {\n",
       "        vertical-align: top;\n",
       "    }\n",
       "\n",
       "    .dataframe thead th {\n",
       "        text-align: right;\n",
       "    }\n",
       "</style>\n",
       "<table border=\"1\" class=\"dataframe\">\n",
       "  <thead>\n",
       "    <tr style=\"text-align: right;\">\n",
       "      <th></th>\n",
       "      <th>x</th>\n",
       "      <th>y</th>\n",
       "      <th>cluster</th>\n",
       "    </tr>\n",
       "  </thead>\n",
       "  <tbody>\n",
       "    <tr>\n",
       "      <th>C-1</th>\n",
       "      <td>2.0</td>\n",
       "      <td>2.033333</td>\n",
       "      <td>C-1</td>\n",
       "    </tr>\n",
       "    <tr>\n",
       "      <th>C-2</th>\n",
       "      <td>4.0</td>\n",
       "      <td>5.025000</td>\n",
       "      <td>C-2</td>\n",
       "    </tr>\n",
       "  </tbody>\n",
       "</table>\n",
       "</div>"
      ],
      "text/plain": [
       "       x         y cluster\n",
       "C-1  2.0  2.033333     C-1\n",
       "C-2  4.0  5.025000     C-2"
      ]
     },
     "execution_count": 21,
     "metadata": {},
     "output_type": "execute_result"
    }
   ],
   "source": [
    "centriods"
   ]
  },
  {
   "cell_type": "code",
   "execution_count": null,
   "id": "a13dbf0a",
   "metadata": {},
   "outputs": [],
   "source": []
  },
  {
   "cell_type": "code",
   "execution_count": 22,
   "id": "e567d93b",
   "metadata": {},
   "outputs": [
    {
     "data": {
      "image/png": "[encoded data removed]",
      "text/plain": [
       "<Figure size 822.35x504 with 1 Axes>"
      ]
     },
     "metadata": {},
     "output_type": "display_data"
    }
   ],
   "source": [
    "kmeans_plot(demodf, centriods)"
   ]
  },
  {
   "cell_type": "code",
   "execution_count": null,
   "id": "0c2b0296",
   "metadata": {},
   "outputs": [],
   "source": []
  },
  {
   "cell_type": "markdown",
   "id": "f5cfd291",
   "metadata": {},
   "source": [
    "## K-Means Algorithm (scikit-learn)\n",
    "https://scikit-learn.org/stable/index.html"
   ]
  },
  {
   "cell_type": "code",
   "execution_count": 23,
   "id": "bcc90639",
   "metadata": {},
   "outputs": [
    {
     "data": {
      "text/plain": [
       "numpy.ndarray"
      ]
     },
     "execution_count": 23,
     "metadata": {},
     "output_type": "execute_result"
    }
   ],
   "source": [
    "from sklearn.datasets import make_blobs\n",
    "\n",
    "# create dataset https://scikit-learn.org/stable/modules/generated/sklearn.datasets.make_blobs.html\n",
    "blobs, _ = make_blobs(\n",
    "    n_samples=150, \n",
    "    n_features=2,\n",
    "    centers=3, \n",
    "    cluster_std=0.5,\n",
    "    shuffle=True, \n",
    "    random_state=0\n",
    ")\n",
    "\n",
    "type(blobs)"
   ]
  },
  {
   "cell_type": "code",
   "execution_count": 24,
   "id": "d5b71fbc",
   "metadata": {},
   "outputs": [
    {
     "data": {
      "text/plain": [
       "array([[2.60509732, 1.22529553],\n",
       "       [0.5323772 , 3.31338909],\n",
       "       [0.802314  , 4.38196181],\n",
       "       [0.5285368 , 4.49723858],\n",
       "       [2.61858548, 0.35769791]])"
      ]
     },
     "execution_count": 24,
     "metadata": {},
     "output_type": "execute_result"
    }
   ],
   "source": [
    "# print the first five points\n",
    "blobs[:5]"
   ]
  },
  {
   "cell_type": "markdown",
   "id": "7d272115",
   "metadata": {},
   "source": [
    "### Create DataFrame from 2d ndarray\n",
    "This step is not strictly necessary (in fact, we'll just use the 2D ndarray for fitting our model). Converting to a DataFrame allows us to use our pandas and seaborn knowledge."
   ]
  },
  {
   "cell_type": "code",
   "execution_count": 25,
   "id": "3f950eca",
   "metadata": {},
   "outputs": [],
   "source": [
    "blobs_df = pd.DataFrame(blobs, columns=['x', 'y'])"
   ]
  },
  {
   "cell_type": "code",
   "execution_count": 26,
   "id": "f233713a",
   "metadata": {},
   "outputs": [
    {
     "data": {
      "text/html": [
       "<div>\n",
       "<style scoped>\n",
       "    .dataframe tbody tr th:only-of-type {\n",
       "        vertical-align: middle;\n",
       "    }\n",
       "\n",
       "    .dataframe tbody tr th {\n",
       "        vertical-align: top;\n",
       "    }\n",
       "\n",
       "    .dataframe thead th {\n",
       "        text-align: right;\n",
       "    }\n",
       "</style>\n",
       "<table border=\"1\" class=\"dataframe\">\n",
       "  <thead>\n",
       "    <tr style=\"text-align: right;\">\n",
       "      <th></th>\n",
       "      <th>x</th>\n",
       "      <th>y</th>\n",
       "    </tr>\n",
       "  </thead>\n",
       "  <tbody>\n",
       "    <tr>\n",
       "      <th>0</th>\n",
       "      <td>2.605097</td>\n",
       "      <td>1.225296</td>\n",
       "    </tr>\n",
       "    <tr>\n",
       "      <th>1</th>\n",
       "      <td>0.532377</td>\n",
       "      <td>3.313389</td>\n",
       "    </tr>\n",
       "    <tr>\n",
       "      <th>2</th>\n",
       "      <td>0.802314</td>\n",
       "      <td>4.381962</td>\n",
       "    </tr>\n",
       "    <tr>\n",
       "      <th>3</th>\n",
       "      <td>0.528537</td>\n",
       "      <td>4.497239</td>\n",
       "    </tr>\n",
       "    <tr>\n",
       "      <th>4</th>\n",
       "      <td>2.618585</td>\n",
       "      <td>0.357698</td>\n",
       "    </tr>\n",
       "  </tbody>\n",
       "</table>\n",
       "</div>"
      ],
      "text/plain": [
       "          x         y\n",
       "0  2.605097  1.225296\n",
       "1  0.532377  3.313389\n",
       "2  0.802314  4.381962\n",
       "3  0.528537  4.497239\n",
       "4  2.618585  0.357698"
      ]
     },
     "execution_count": 26,
     "metadata": {},
     "output_type": "execute_result"
    }
   ],
   "source": [
    "blobs_df.head()"
   ]
  },
  {
   "cell_type": "code",
   "execution_count": 27,
   "id": "832c53e3",
   "metadata": {},
   "outputs": [
    {
     "data": {
      "image/png": "[encoded data removed]",
      "text/plain": [
       "<Figure size 756x504 with 1 Axes>"
      ]
     },
     "metadata": {},
     "output_type": "display_data"
    }
   ],
   "source": [
    "scatter = sns.relplot(\n",
    "    data=blobs_df, \n",
    "        x=\"x\", \n",
    "        y=\"y\",\n",
    "        kind=\"scatter\",\n",
    "        height=7,\n",
    "        aspect=1.5,\n",
    "        s=300\n",
    "    ).set(\n",
    "        title=\"Blob Data\"\n",
    "    )"
   ]
  },
  {
   "cell_type": "code",
   "execution_count": null,
   "id": "bdcec041",
   "metadata": {},
   "outputs": [],
   "source": []
  },
  {
   "cell_type": "markdown",
   "id": "f160bdc3",
   "metadata": {},
   "source": [
    "### Working with sklearn.cluster.KMeans"
   ]
  },
  {
   "cell_type": "code",
   "execution_count": 28,
   "id": "1a5e8329",
   "metadata": {},
   "outputs": [],
   "source": [
    "# https://scikit-learn.org/stable/modules/generated/sklearn.cluster.KMeans.html\n",
    "from sklearn.cluster import KMeans"
   ]
  },
  {
   "cell_type": "code",
   "execution_count": 29,
   "id": "b99d6e69",
   "metadata": {},
   "outputs": [
    {
     "data": {
      "text/plain": [
       "KMeans(n_clusters=3)"
      ]
     },
     "execution_count": 29,
     "metadata": {},
     "output_type": "execute_result"
    }
   ],
   "source": [
    "km = KMeans(\n",
    "    n_clusters = 3, \n",
    ")\n",
    "\n",
    "km"
   ]
  },
  {
   "cell_type": "code",
   "execution_count": 30,
   "id": "c254869a",
   "metadata": {},
   "outputs": [],
   "source": [
    "result = km.fit(blobs)"
   ]
  },
  {
   "cell_type": "code",
   "execution_count": 31,
   "id": "2dcf29bd",
   "metadata": {},
   "outputs": [
    {
     "data": {
      "text/plain": [
       "array([[ 2.06521743,  0.96137409],\n",
       "       [-1.5947298 ,  2.92236966],\n",
       "       [ 0.9329651 ,  4.35420712]])"
      ]
     },
     "execution_count": 31,
     "metadata": {},
     "output_type": "execute_result"
    }
   ],
   "source": [
    "result.cluster_centers_"
   ]
  },
  {
   "cell_type": "code",
   "execution_count": 32,
   "id": "59848896",
   "metadata": {},
   "outputs": [
    {
     "data": {
      "text/plain": [
       "array([0, 2, 2, 2, 0, 2, 2, 0, 1, 2, 0, 1, 1, 2, 2, 1, 1, 0, 1, 0, 2, 0,\n",
       "       2, 2, 1, 0, 0, 2, 1, 0, 1, 1, 1, 1, 2, 0, 0, 0, 2, 2, 1, 1, 2, 0,\n",
       "       0, 0, 1, 2, 1, 2, 0, 2, 2, 0, 0, 1, 2, 0, 1, 2, 1, 1, 1, 1, 2, 1,\n",
       "       2, 0, 2, 2, 2, 0, 0, 2, 0, 2, 2, 1, 1, 2, 0, 0, 2, 2, 0, 0, 0, 1,\n",
       "       1, 0, 0, 2, 0, 2, 0, 2, 1, 1, 0, 0, 0, 0, 1, 0, 0, 2, 1, 2, 2, 2,\n",
       "       1, 2, 0, 1, 2, 1, 2, 2, 1, 1, 2, 0, 2, 2, 0, 0, 1, 0, 1, 1, 1, 1,\n",
       "       0, 1, 1, 1, 2, 1, 0, 1, 2, 2, 0, 0, 1, 1, 1, 1, 0, 0], dtype=int32)"
      ]
     },
     "execution_count": 32,
     "metadata": {},
     "output_type": "execute_result"
    }
   ],
   "source": [
    "result.labels_"
   ]
  },
  {
   "cell_type": "code",
   "execution_count": 33,
   "id": "e440f53c",
   "metadata": {},
   "outputs": [],
   "source": [
    "# assign the newly minted cluster labels to the DataFrame we creaed earlier\n",
    "blobs_df[\"cluster\"] = pd.Series(result.labels_).astype(\"str\")"
   ]
  },
  {
   "cell_type": "code",
   "execution_count": 34,
   "id": "fdc26894",
   "metadata": {},
   "outputs": [
    {
     "data": {
      "text/html": [
       "<div>\n",
       "<style scoped>\n",
       "    .dataframe tbody tr th:only-of-type {\n",
       "        vertical-align: middle;\n",
       "    }\n",
       "\n",
       "    .dataframe tbody tr th {\n",
       "        vertical-align: top;\n",
       "    }\n",
       "\n",
       "    .dataframe thead th {\n",
       "        text-align: right;\n",
       "    }\n",
       "</style>\n",
       "<table border=\"1\" class=\"dataframe\">\n",
       "  <thead>\n",
       "    <tr style=\"text-align: right;\">\n",
       "      <th></th>\n",
       "      <th>x</th>\n",
       "      <th>y</th>\n",
       "      <th>cluster</th>\n",
       "    </tr>\n",
       "  </thead>\n",
       "  <tbody>\n",
       "    <tr>\n",
       "      <th>0</th>\n",
       "      <td>2.605097</td>\n",
       "      <td>1.225296</td>\n",
       "      <td>0</td>\n",
       "    </tr>\n",
       "    <tr>\n",
       "      <th>1</th>\n",
       "      <td>0.532377</td>\n",
       "      <td>3.313389</td>\n",
       "      <td>2</td>\n",
       "    </tr>\n",
       "    <tr>\n",
       "      <th>2</th>\n",
       "      <td>0.802314</td>\n",
       "      <td>4.381962</td>\n",
       "      <td>2</td>\n",
       "    </tr>\n",
       "    <tr>\n",
       "      <th>3</th>\n",
       "      <td>0.528537</td>\n",
       "      <td>4.497239</td>\n",
       "      <td>2</td>\n",
       "    </tr>\n",
       "    <tr>\n",
       "      <th>4</th>\n",
       "      <td>2.618585</td>\n",
       "      <td>0.357698</td>\n",
       "      <td>0</td>\n",
       "    </tr>\n",
       "  </tbody>\n",
       "</table>\n",
       "</div>"
      ],
      "text/plain": [
       "          x         y cluster\n",
       "0  2.605097  1.225296       0\n",
       "1  0.532377  3.313389       2\n",
       "2  0.802314  4.381962       2\n",
       "3  0.528537  4.497239       2\n",
       "4  2.618585  0.357698       0"
      ]
     },
     "execution_count": 34,
     "metadata": {},
     "output_type": "execute_result"
    }
   ],
   "source": [
    "blobs_df.head()"
   ]
  },
  {
   "cell_type": "code",
   "execution_count": 35,
   "id": "d7460892",
   "metadata": {},
   "outputs": [
    {
     "data": {
      "image/png": "[encoded data removed]",
      "text/plain": [
       "<Figure size 801.725x504 with 1 Axes>"
      ]
     },
     "metadata": {},
     "output_type": "display_data"
    }
   ],
   "source": [
    "scatter = sns.relplot(\n",
    "    data=blobs_df, \n",
    "    x=\"x\", \n",
    "    y=\"y\",\n",
    "    hue=\"cluster\",   # color by cluster\n",
    "    kind=\"scatter\",\n",
    "    height=7,\n",
    "    aspect=1.5,\n",
    "    s=300\n",
    ").set(\n",
    "    title=\"Blob Data\"\n",
    ")"
   ]
  },
  {
   "cell_type": "markdown",
   "id": "148cf6cb",
   "metadata": {},
   "source": [
    "## Picking the Right Value of _k_\n",
    "We may not know the correct value of _k_ to use in a k-means clustering. However, if we can measure the quality of the clustering for variouss values of _k_, we can usually guess what the right value of _k_ is. If we take a measure of appropriateness for clusters, such as average radius or diameter, we expect that value will grow slowly as long as the number of clusters remains at or above the true number of clusters. However, as soon as we try to form fewer clusters than there really are, the measure will rise precipitously. \n",
    "\n",
    "The K-Means algorithm aims to choose centroids that minimize the _inertia_, or within-cluster sum-of-squares. We want to choose a value of _k_ that also minimizes _inertia_, but not at the expense of choosing an unnaturally large number of clusters. _Inertia_ can be recognized as a measure of how internally coherent clusters are. It suffers from various drawbacks:\n",
    "\n",
    "* Inertia makes the assumption that clusters are convex and isotropic, which is not always the case. It responds poorly to elongated clusters, or manifolds with irregular shapes.\n",
    "\n",
    "* Inertia is not a normalized metric: we just know that lower values are better and zero is optimal. But in very high-dimensional spaces, Euclidean distances tend to become inflated (this is an instance of the so-called “curse of dimensionality”)."
   ]
  },
  {
   "cell_type": "code",
   "execution_count": 36,
   "id": "35aa6c02",
   "metadata": {},
   "outputs": [
    {
     "data": {
      "text/plain": [
       "72.47601670996697"
      ]
     },
     "execution_count": 36,
     "metadata": {},
     "output_type": "execute_result"
    }
   ],
   "source": [
    "result.inertia_"
   ]
  },
  {
   "cell_type": "code",
   "execution_count": 37,
   "id": "0a88d05a",
   "metadata": {},
   "outputs": [],
   "source": [
    "dist = []\n",
    "dfs = []\n",
    "for i in range(1, 8):\n",
    "    km = KMeans(n_clusters = i, init=\"random\",\n",
    "           n_init = 10, max_iter=300,\n",
    "           tol=1e-04, random_state=0)\n",
    "    result = km.fit(blobs)\n",
    "    \n",
    "    dist.append(result.inertia_)\n",
    "    \n",
    "    blobs_df[\"cluster\"] = pd.Series(result.labels_).astype(\"str\")\n",
    "    dfs.append(blobs_df.copy())"
   ]
  },
  {
   "cell_type": "code",
   "execution_count": 38,
   "id": "5ff645f6",
   "metadata": {},
   "outputs": [],
   "source": [
    "idf = pd.DataFrame({\n",
    "    \"k\":range(1, 8),\n",
    "    \"distortion\":dist\n",
    "})"
   ]
  },
  {
   "cell_type": "code",
   "execution_count": 39,
   "id": "55351797",
   "metadata": {},
   "outputs": [
    {
     "data": {
      "image/png": "[encoded data removed]",
      "text/plain": [
       "<Figure size 504x504 with 1 Axes>"
      ]
     },
     "metadata": {},
     "output_type": "display_data"
    }
   ],
   "source": [
    "scatter = sns.relplot(\n",
    "    data=idf, \n",
    "    x=\"k\", \n",
    "    y=\"distortion\",\n",
    "    kind=\"line\",\n",
    "    height=7,\n",
    ").set(\n",
    "    title=\"Distortion\"\n",
    ")"
   ]
  },
  {
   "cell_type": "code",
   "execution_count": 40,
   "id": "632d426b",
   "metadata": {},
   "outputs": [
    {
     "data": {
      "application/javascript": [
       "IPython.OutputArea.auto_scroll_threshold = 9999;\n"
      ],
      "text/plain": [
       "<IPython.core.display.Javascript object>"
      ]
     },
     "metadata": {},
     "output_type": "display_data"
    }
   ],
   "source": [
    "%%javascript\n",
    "IPython.OutputArea.auto_scroll_threshold = 9999;"
   ]
  },
  {
   "cell_type": "code",
   "execution_count": null,
   "id": "79a1f2b7",
   "metadata": {},
   "outputs": [],
   "source": [
    "for idx, df in enumerate(dfs, 1):\n",
    "\n",
    "    scatter = sns.relplot(\n",
    "        data=df, \n",
    "        x=\"x\", \n",
    "        y=\"y\",\n",
    "        hue=\"cluster\",   # color by cluster\n",
    "        kind=\"scatter\",\n",
    "        height=7,\n",
    "        aspect=1.5,\n",
    "        s=300\n",
    "    ).set(\n",
    "        title=f\"Blob Data ({idx})\"\n",
    "    )"
   ]
  },
  {
   "cell_type": "code",
   "execution_count": null,
   "id": "5f35b01f",
   "metadata": {},
   "outputs": [],
   "source": []
  },
  {
   "cell_type": "code",
   "execution_count": null,
   "id": "ce79a261",
   "metadata": {},
   "outputs": [],
   "source": []
  },
  {
   "cell_type": "code",
   "execution_count": null,
   "id": "12b68f7e",
   "metadata": {},
   "outputs": [],
   "source": []
  }
 ],
 "metadata": {
  "kernelspec": {
   "display_name": "Python 3 (ipykernel)",
   "language": "python",
   "name": "python3"
  },
  "language_info": {
   "codemirror_mode": {
    "name": "ipython",
    "version": 3
   },
   "file_extension": ".py",
   "mimetype": "text/x-python",
   "name": "python",
   "nbconvert_exporter": "python",
   "pygments_lexer": "ipython3",
   "version": "3.9.12"
  }
 },
 "nbformat": 4,
 "nbformat_minor": 5
}
