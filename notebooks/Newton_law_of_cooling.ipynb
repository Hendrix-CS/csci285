{
 "cells": [
  {
   "cell_type": "markdown",
   "id": "7f9b8bb4",
   "metadata": {},
   "source": [
    "# CSCI CSI"
   ]
  },
  {
   "cell_type": "code",
   "execution_count": 1,
   "id": "0a528edf",
   "metadata": {},
   "outputs": [],
   "source": [
    "import numpy as np\n",
    "import pandas as pd\n",
    "import seaborn as sns"
   ]
  },
  {
   "cell_type": "markdown",
   "id": "3af1cbc7",
   "metadata": {},
   "source": [
    "### Newton’s law of cooling\n",
    "* u is temperature\n",
    "* s is outside temperature\n",
    "* h is a constant measured from experiments\n",
    "\n",
    "<br />\n",
    "$$\n",
    "\\frac{dT}{dt}= −h ∗ (T − s)\n",
    "$$\n",
    "<br />\n",
    "\n",
    "### Question\n",
    "Detectives find a body at 6:30pm. Temperature is 82. ½ hour later, body temperature is 79. The room temperature is 73. When did the person die?"
   ]
  },
  {
   "cell_type": "code",
   "execution_count": 12,
   "id": "9688bae7",
   "metadata": {},
   "outputs": [],
   "source": [
    "T_0 = 82.0\n",
    "T_F = 79.0\n",
    "s = 73.0"
   ]
  },
  {
   "cell_type": "code",
   "execution_count": 13,
   "id": "41fbdfab",
   "metadata": {},
   "outputs": [],
   "source": [
    "minutes = 60 * 2"
   ]
  },
  {
   "cell_type": "code",
   "execution_count": 50,
   "id": "d304b018",
   "metadata": {},
   "outputs": [],
   "source": [
    "h = 0.0135"
   ]
  },
  {
   "cell_type": "code",
   "execution_count": 51,
   "id": "9940c0a1",
   "metadata": {},
   "outputs": [
    {
     "data": {
      "text/plain": [
       "array([2., 2.])"
      ]
     },
     "execution_count": 51,
     "metadata": {},
     "output_type": "execute_result"
    }
   ],
   "source": [
    "np.ones(2) *2"
   ]
  },
  {
   "cell_type": "code",
   "execution_count": 52,
   "id": "0fd0ef92",
   "metadata": {},
   "outputs": [],
   "source": [
    "def csi():\n",
    "    ### time domain\n",
    "    t = np.linspace(0, minutes, minutes)\n",
    "    dt = t[1] - t[0]\n",
    "    \n",
    "    ### initial conditions\n",
    "    T = np.zeros(minutes)\n",
    "    T[0] = T_0\n",
    "    \n",
    "    for n in range(0, minutes -1):\n",
    "        \n",
    "        # calculate derivates\n",
    "        dT = -h * (T[n] - s)\n",
    "        T[n+1] = T[n] + (dT * dt)\n",
    "        \n",
    "    return pd.DataFrame({\n",
    "        'temp': T,\n",
    "        'minutes': t\n",
    "    })"
   ]
  },
  {
   "cell_type": "code",
   "execution_count": 53,
   "id": "e99ae547",
   "metadata": {},
   "outputs": [],
   "source": [
    "df = csi()"
   ]
  },
  {
   "cell_type": "code",
   "execution_count": null,
   "id": "c7158dd8",
   "metadata": {},
   "outputs": [],
   "source": []
  },
  {
   "cell_type": "code",
   "execution_count": null,
   "id": "10c87ad2",
   "metadata": {},
   "outputs": [],
   "source": []
  },
  {
   "cell_type": "code",
   "execution_count": 54,
   "id": "4c9f4448",
   "metadata": {},
   "outputs": [
    {
     "data": {
      "text/html": [
       "<div>\n",
       "<style scoped>\n",
       "    .dataframe tbody tr th:only-of-type {\n",
       "        vertical-align: middle;\n",
       "    }\n",
       "\n",
       "    .dataframe tbody tr th {\n",
       "        vertical-align: top;\n",
       "    }\n",
       "\n",
       "    .dataframe thead th {\n",
       "        text-align: right;\n",
       "    }\n",
       "</style>\n",
       "<table border=\"1\" class=\"dataframe\">\n",
       "  <thead>\n",
       "    <tr style=\"text-align: right;\">\n",
       "      <th></th>\n",
       "      <th>temp</th>\n",
       "      <th>minutes</th>\n",
       "    </tr>\n",
       "  </thead>\n",
       "  <tbody>\n",
       "    <tr>\n",
       "      <th>30</th>\n",
       "      <td>78.965637</td>\n",
       "      <td>30.252101</td>\n",
       "    </tr>\n",
       "    <tr>\n",
       "      <th>31</th>\n",
       "      <td>78.884424</td>\n",
       "      <td>31.260504</td>\n",
       "    </tr>\n",
       "  </tbody>\n",
       "</table>\n",
       "</div>"
      ],
      "text/plain": [
       "         temp    minutes\n",
       "30  78.965637  30.252101\n",
       "31  78.884424  31.260504"
      ]
     },
     "execution_count": 54,
     "metadata": {},
     "output_type": "execute_result"
    }
   ],
   "source": [
    "df[df['temp'] < T_F].head(2)"
   ]
  },
  {
   "cell_type": "code",
   "execution_count": 18,
   "id": "bfadf388",
   "metadata": {},
   "outputs": [
    {
     "data": {
      "image/png": "[encoded data removed]",
      "text/plain": [
       "<Figure size 756x504 with 1 Axes>"
      ]
     },
     "metadata": {
      "needs_background": "light"
     },
     "output_type": "display_data"
    }
   ],
   "source": [
    "line = sns.relplot(\n",
    "    data=df,\n",
    "    x='minutes',\n",
    "    y='temp',\n",
    "    kind='line',\n",
    "    height=7,\n",
    "    aspect=1.5\n",
    ").set(\n",
    "    title=\"T(t)\"\n",
    ")"
   ]
  },
  {
   "cell_type": "code",
   "execution_count": null,
   "id": "e94e6905",
   "metadata": {},
   "outputs": [],
   "source": []
  },
  {
   "cell_type": "code",
   "execution_count": null,
   "id": "d2cb0a28",
   "metadata": {},
   "outputs": [],
   "source": []
  },
  {
   "cell_type": "code",
   "execution_count": null,
   "id": "22e2c54f",
   "metadata": {},
   "outputs": [],
   "source": []
  },
  {
   "cell_type": "code",
   "execution_count": null,
   "id": "410fa9a1",
   "metadata": {},
   "outputs": [],
   "source": []
  },
  {
   "cell_type": "code",
   "execution_count": 55,
   "id": "4a9b03dc",
   "metadata": {},
   "outputs": [],
   "source": [
    "T_0 = 98.6\n",
    "T_F = 82.0"
   ]
  },
  {
   "cell_type": "code",
   "execution_count": 56,
   "id": "9fd3d8a9",
   "metadata": {},
   "outputs": [],
   "source": [
    "df = csi()"
   ]
  },
  {
   "cell_type": "code",
   "execution_count": 57,
   "id": "6a06c2d9",
   "metadata": {},
   "outputs": [
    {
     "data": {
      "text/html": [
       "<div>\n",
       "<style scoped>\n",
       "    .dataframe tbody tr th:only-of-type {\n",
       "        vertical-align: middle;\n",
       "    }\n",
       "\n",
       "    .dataframe tbody tr th {\n",
       "        vertical-align: top;\n",
       "    }\n",
       "\n",
       "    .dataframe thead th {\n",
       "        text-align: right;\n",
       "    }\n",
       "</style>\n",
       "<table border=\"1\" class=\"dataframe\">\n",
       "  <thead>\n",
       "    <tr style=\"text-align: right;\">\n",
       "      <th></th>\n",
       "      <th>temp</th>\n",
       "      <th>minutes</th>\n",
       "    </tr>\n",
       "  </thead>\n",
       "  <tbody>\n",
       "    <tr>\n",
       "      <th>77</th>\n",
       "      <td>81.909843</td>\n",
       "      <td>77.647059</td>\n",
       "    </tr>\n",
       "    <tr>\n",
       "      <th>78</th>\n",
       "      <td>81.788549</td>\n",
       "      <td>78.655462</td>\n",
       "    </tr>\n",
       "  </tbody>\n",
       "</table>\n",
       "</div>"
      ],
      "text/plain": [
       "         temp    minutes\n",
       "77  81.909843  77.647059\n",
       "78  81.788549  78.655462"
      ]
     },
     "execution_count": 57,
     "metadata": {},
     "output_type": "execute_result"
    }
   ],
   "source": [
    "df[df['temp'] < T_F].head(2)"
   ]
  },
  {
   "cell_type": "code",
   "execution_count": 58,
   "id": "63cba716",
   "metadata": {},
   "outputs": [
    {
     "data": {
      "image/png": "[encoded data removed]",
      "text/plain": [
       "<Figure size 756x504 with 1 Axes>"
      ]
     },
     "metadata": {
      "needs_background": "light"
     },
     "output_type": "display_data"
    }
   ],
   "source": [
    "line = sns.relplot(\n",
    "    data=df,\n",
    "    x='minutes',\n",
    "    y='temp',\n",
    "    kind='line',\n",
    "    height=7,\n",
    "    aspect=1.5\n",
    ").set(\n",
    "    title=\"T(t)\"\n",
    ")"
   ]
  },
  {
   "cell_type": "code",
   "execution_count": null,
   "id": "6f280363",
   "metadata": {},
   "outputs": [],
   "source": []
  }
 ],
 "metadata": {
  "kernelspec": {
   "display_name": "Python 3 (ipykernel)",
   "language": "python",
   "name": "python3"
  },
  "language_info": {
   "codemirror_mode": {
    "name": "ipython",
    "version": 3
   },
   "file_extension": ".py",
   "mimetype": "text/x-python",
   "name": "python",
   "nbconvert_exporter": "python",
   "pygments_lexer": "ipython3",
   "version": "3.9.12"
  }
 },
 "nbformat": 4,
 "nbformat_minor": 5
}
