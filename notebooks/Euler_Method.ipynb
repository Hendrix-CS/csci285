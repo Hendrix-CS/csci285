{
 "cells": [
  {
   "cell_type": "markdown",
   "id": "f2f96aee",
   "metadata": {},
   "source": [
    "# Finite-Difference Methods\n",
    "Computers are not designed to solve differential equations directly. Although computers can perform algebraic operations with ease, it does not have any intrinsic ability to differentiate or integrate. \n",
    "\n",
    "Every numerical technique is designed to convert the original differential equation into a set of solvable algebraic equations. As part of this task the continuous functions associated with the original problem must be represented by a finite set of numbers that can be stored in a computer's memory or on disk. \n",
    "\n",
    "\n",
    "### Two problems that must be addressed\n",
    "* How to represent a continuous solution with a finite data set? \n",
    "* How to compute derivates and integrals? \n",
    "\n",
    "\n",
    "### Initial-Value Problem\n",
    "To describe various numerical methods, we begin by defining an **initial-value problem**, which is a combination of a differential equation (or set of equations) and boundary conditions.\n",
    "\n",
    "<br />\n",
    "\n",
    "$$\n",
    "\\begin{align}\n",
    "\\frac{\\partial y}{\\partial x} = f(x, y) && y(x_0) = y_0 && x_{min} \\leq x \\leq x_{max}\n",
    "\\end{align}\n",
    "$$\n",
    "\n",
    "<br />\n"
   ]
  },
  {
   "cell_type": "code",
   "execution_count": 106,
   "id": "7dd4c05b",
   "metadata": {},
   "outputs": [],
   "source": [
    "import numpy as np\n",
    "\n",
    "import pandas as pd\n",
    "\n",
    "import seaborn as sns\n",
    "\n",
    "from tqdm import trange # progress bars for long running cells"
   ]
  },
  {
   "cell_type": "markdown",
   "id": "5e644f43",
   "metadata": {},
   "source": [
    "# Discretization\n",
    "[Discretization](https://en.wikipedia.org/wiki/Discretization) is the process of representing a continuous function as a series of discrete values and is one of the first steps we need to take in order to perform numerical analysis. We choose a small **step size** $\\Delta x$. The size of $\\Delta x$ determines the accuracy of the approximate solution as well as the number of computations that are necessary to obtain the approxmiation.\n",
    "\n",
    "\n",
    "<br />\n",
    "\n",
    "$$\n",
    "\\Delta x = \\frac{x_{max} - x_{min}}{N}\n",
    "$$\n",
    "\n",
    "<br />\n",
    "\n",
    "where _N_ is the number of steps (i.e. computations) we want to perform. With this definition in hand, we can compute $x_{n+1}$ quite easily, \n",
    "\n",
    "<br />\n",
    "\n",
    "$$\n",
    "x_{n+1} = \\Delta x + x_{n}\n",
    "$$\n",
    "\n",
    "<br />\n",
    "\n",
    "To obtain $y_{n+1}$ from $x_{n}$ and $y_{n}$, we use the differential equation (see Euler's Method below). "
   ]
  },
  {
   "cell_type": "code",
   "execution_count": null,
   "id": "5b33e6db",
   "metadata": {},
   "outputs": [],
   "source": []
  },
  {
   "cell_type": "markdown",
   "id": "86b18c5c",
   "metadata": {},
   "source": [
    "###  Experimenting with  `np.linspace` & $\\Delta x$"
   ]
  },
  {
   "cell_type": "code",
   "execution_count": 107,
   "id": "67ea1bf2",
   "metadata": {},
   "outputs": [],
   "source": [
    "def calc_dx(xmax, xmin, size):\n",
    "    return (xmax - xmin) / size\n",
    "\n",
    "def gen_all_x_values(x0, dx, size):\n",
    "    x = []\n",
    "    x.append(x0)\n",
    "    for _ in trange(size):\n",
    "        x.append(dx + x[-1])\n",
    "        \n",
    "x_max = 1\n",
    "x_min = -1"
   ]
  },
  {
   "cell_type": "code",
   "execution_count": 110,
   "id": "5c828b68",
   "metadata": {},
   "outputs": [
    {
     "name": "stderr",
     "output_type": "stream",
     "text": [
      "100%|██████████████████████████████| 100000/100000 [00:00<00:00, 1525550.94it/s]\n"
     ]
    }
   ],
   "source": [
    "N = 100_000\n",
    "\n",
    "dx = calc_dx(x_max, x_min, N)\n",
    "\n",
    "gen_all_x_values(x_min, dx, N)"
   ]
  },
  {
   "cell_type": "code",
   "execution_count": 112,
   "id": "ba15b912",
   "metadata": {},
   "outputs": [
    {
     "name": "stderr",
     "output_type": "stream",
     "text": [
      "100%|████████████████████████████| 1000000/1000000 [00:00<00:00, 2376997.05it/s]\n"
     ]
    }
   ],
   "source": [
    "N = 1_000_000\n",
    "\n",
    "dx = calc_dx(x_max, x_min, N)\n",
    "\n",
    "gen_all_x_values(x_min, dx, N)"
   ]
  },
  {
   "cell_type": "markdown",
   "id": "87a8143c",
   "metadata": {},
   "source": [
    "[np.linspace](https://numpy.org/doc/stable/reference/generated/numpy.linspace.html) is much more performant than our hand rolled function, "
   ]
  },
  {
   "cell_type": "code",
   "execution_count": 114,
   "id": "794a84ab",
   "metadata": {},
   "outputs": [
    {
     "data": {
      "text/plain": [
       "array([-1.      , -0.999998, -0.999996, ...,  0.999996,  0.999998,\n",
       "        1.      ])"
      ]
     },
     "execution_count": 114,
     "metadata": {},
     "output_type": "execute_result"
    }
   ],
   "source": [
    "np.linspace(x_min, x_max, N)"
   ]
  },
  {
   "cell_type": "code",
   "execution_count": 115,
   "id": "4fa06ec5",
   "metadata": {},
   "outputs": [
    {
     "name": "stderr",
     "output_type": "stream",
     "text": [
      "100%|██████████████████████████| 10000000/10000000 [00:03<00:00, 3089876.93it/s]\n"
     ]
    }
   ],
   "source": [
    "N = 10_000_000\n",
    "\n",
    "dx = calc_dx(x_max, x_min, N)\n",
    "\n",
    "gen_all_x_values(x_min, dx, N)"
   ]
  },
  {
   "cell_type": "markdown",
   "id": "07599e09",
   "metadata": {},
   "source": [
    "Using `np.linspace`, "
   ]
  },
  {
   "cell_type": "code",
   "execution_count": 116,
   "id": "b576ca6d",
   "metadata": {},
   "outputs": [
    {
     "data": {
      "text/plain": [
       "array([-1.       , -0.9999998, -0.9999996, ...,  0.9999996,  0.9999998,\n",
       "        1.       ])"
      ]
     },
     "execution_count": 116,
     "metadata": {},
     "output_type": "execute_result"
    }
   ],
   "source": [
    "np.linspace(x_min, x_max, N)"
   ]
  },
  {
   "cell_type": "code",
   "execution_count": 117,
   "id": "076e0217",
   "metadata": {},
   "outputs": [
    {
     "name": "stderr",
     "output_type": "stream",
     "text": [
      "100%|████████████████████████| 100000000/100000000 [00:31<00:00, 3143200.10it/s]\n"
     ]
    }
   ],
   "source": [
    "N = 100_000_000\n",
    "\n",
    "dx = calc_dx(x_max, x_min, N)\n",
    "\n",
    "gen_all_x_values(x_min, dx, N)"
   ]
  },
  {
   "cell_type": "markdown",
   "id": "4b6d54fb",
   "metadata": {},
   "source": [
    "Using `np.linspace`, "
   ]
  },
  {
   "cell_type": "code",
   "execution_count": 118,
   "id": "49f1bfad",
   "metadata": {},
   "outputs": [
    {
     "data": {
      "text/plain": [
       "array([-1.        , -0.99999998, -0.99999996, ...,  0.99999996,\n",
       "        0.99999998,  1.        ])"
      ]
     },
     "execution_count": 118,
     "metadata": {},
     "output_type": "execute_result"
    }
   ],
   "source": [
    "np.linspace(x_min, x_max, N)"
   ]
  },
  {
   "cell_type": "markdown",
   "id": "827f193e",
   "metadata": {},
   "source": [
    "1 Billion steps seems to be the breaking point. `np.linspace` starts to take quite a while to complete, "
   ]
  },
  {
   "cell_type": "code",
   "execution_count": 10,
   "id": "33902434",
   "metadata": {},
   "outputs": [],
   "source": [
    "# N = 1_000_000_000\n",
    "# np.linspace(x_min, x_max, N)"
   ]
  },
  {
   "cell_type": "code",
   "execution_count": null,
   "id": "bcd1cc24",
   "metadata": {},
   "outputs": [],
   "source": []
  },
  {
   "cell_type": "markdown",
   "id": "e23a92ce",
   "metadata": {},
   "source": [
    "### `np.linspace` vs. `calc_dx`"
   ]
  },
  {
   "cell_type": "code",
   "execution_count": 119,
   "id": "19316d3b",
   "metadata": {},
   "outputs": [
    {
     "name": "stdout",
     "output_type": "stream",
     "text": [
      "dx: 2e-06\n",
      "np.linspace: 2.000002000013268e-06\n",
      "diff: -2.000013267979293e-12\n"
     ]
    }
   ],
   "source": [
    "N = 1_000_000\n",
    "\n",
    "x = np.linspace(x_min, x_max, N)\n",
    "dx = calc_dx(x_max, x_min, N)\n",
    "\n",
    "print(f\"dx: {dx}\")\n",
    "print(f\"np.linspace: {(x[1] - x[0])}\")\n",
    "print(f\"diff: {dx - (x[1] - x[0])}\")"
   ]
  },
  {
   "cell_type": "code",
   "execution_count": null,
   "id": "64f91ffb",
   "metadata": {},
   "outputs": [],
   "source": []
  },
  {
   "cell_type": "code",
   "execution_count": null,
   "id": "671cf5f1",
   "metadata": {},
   "outputs": [],
   "source": []
  },
  {
   "cell_type": "markdown",
   "id": "a51411a6",
   "metadata": {},
   "source": [
    "# Euler's Method\n",
    "[Euler's method](https://en.wikipedia.org/wiki/Euler_method) is a **first-order numerical technique** for solving initial-value problems. It is a type of [finite difference method](https://en.wikipedia.org/wiki/Finite_difference_method). Euler's method uses the slope to determine $y_{n+1}$. Specifically, the method assumes that $(x_{n+1}, y_{n+1})$ lies on the line through $(x_{n}, y_{n})$ with slope $f(x_{n}, y_{n})$\n",
    "\n",
    "<br />\n",
    "\n",
    "<img src=\"../images/eulerdiagram.png\" alt=\"\" width=\"400\"/>\n",
    "\n",
    "<br />\n",
    "\n",
    "Using our knowledge of slopes,\n",
    "\n",
    "$$\n",
    "\\frac{y_{n+1} - y_{n}}{x_{n+1} - x_{n}} = \\frac{y_{n+1} - y_{n}}{\\Delta x} = \\frac{\\partial y}{\\partial x} = f(x_{n}, y_{n}) \\\\\n",
    "$$\n",
    "\n",
    "<br />\n",
    "\n",
    "$$\n",
    "y_{n+1} = y_{n} + f(x_{n}, y_{n}) \\cdot \\Delta x \\\\\n",
    "$$\n",
    "\n",
    "<br />"
   ]
  },
  {
   "cell_type": "markdown",
   "id": "52e80d92",
   "metadata": {},
   "source": [
    "### Analytic Solution\n",
    "Let $f(x,y) = 2x$,  $x_{0} = -1$, and $y_{0} = 0$,\n",
    "\n",
    "<br />\n",
    "\n",
    "$$\n",
    "\\begin{align}\n",
    "y(x)  &= x^{2} + C \\\\\n",
    "y(-1) &= y_{0} = 1 + C = 0\n",
    "\\end{align}\n",
    "$$\n",
    "\n",
    "then,\n",
    "\n",
    "$$\n",
    "y(x) = x^{2} - 1\n",
    "$$\n",
    "\n",
    "<br />"
   ]
  },
  {
   "cell_type": "markdown",
   "id": "4dd3164f",
   "metadata": {},
   "source": [
    "### Numerical Solution"
   ]
  },
  {
   "cell_type": "code",
   "execution_count": 139,
   "id": "a4e35181",
   "metadata": {},
   "outputs": [
    {
     "data": {
      "text/plain": [
       "array([-1.     , -0.99998, -0.99996, ...,  0.99996,  0.99998,  1.     ])"
      ]
     },
     "execution_count": 139,
     "metadata": {},
     "output_type": "execute_result"
    }
   ],
   "source": [
    "N = 100000\n",
    "\n",
    "x = np.linspace(-1, 1, N)\n",
    "x"
   ]
  },
  {
   "cell_type": "code",
   "execution_count": 140,
   "id": "a4e6d388",
   "metadata": {},
   "outputs": [
    {
     "data": {
      "text/plain": [
       "array([0., 0., 0., ..., 0., 0., 0.])"
      ]
     },
     "execution_count": 140,
     "metadata": {},
     "output_type": "execute_result"
    }
   ],
   "source": [
    "y = np.zeros(N)\n",
    "y"
   ]
  },
  {
   "cell_type": "code",
   "execution_count": 141,
   "id": "6a296cf4",
   "metadata": {},
   "outputs": [],
   "source": [
    "f = 2 * x\n",
    "\n",
    "dx = x[1] - x[0]\n",
    "\n",
    "for n in range(0, N-1):\n",
    "    y[n+1] = y[n] + (f[n] * dx)"
   ]
  },
  {
   "cell_type": "code",
   "execution_count": 142,
   "id": "7ab53616",
   "metadata": {},
   "outputs": [
    {
     "data": {
      "text/plain": [
       "array([ 0.000000e+00, -4.000040e-05, -8.000000e-05, ..., -1.199988e-04,\n",
       "       -8.000000e-05, -4.000040e-05])"
      ]
     },
     "execution_count": 142,
     "metadata": {},
     "output_type": "execute_result"
    }
   ],
   "source": [
    "y"
   ]
  },
  {
   "cell_type": "code",
   "execution_count": 143,
   "id": "f1a688ee",
   "metadata": {},
   "outputs": [
    {
     "data": {
      "text/html": [
       "<div>\n",
       "<style scoped>\n",
       "    .dataframe tbody tr th:only-of-type {\n",
       "        vertical-align: middle;\n",
       "    }\n",
       "\n",
       "    .dataframe tbody tr th {\n",
       "        vertical-align: top;\n",
       "    }\n",
       "\n",
       "    .dataframe thead th {\n",
       "        text-align: right;\n",
       "    }\n",
       "</style>\n",
       "<table border=\"1\" class=\"dataframe\">\n",
       "  <thead>\n",
       "    <tr style=\"text-align: right;\">\n",
       "      <th></th>\n",
       "      <th>x</th>\n",
       "      <th>y</th>\n",
       "      <th>y_n</th>\n",
       "    </tr>\n",
       "  </thead>\n",
       "  <tbody>\n",
       "    <tr>\n",
       "      <th>0</th>\n",
       "      <td>-1.00000</td>\n",
       "      <td>0.00000</td>\n",
       "      <td>0.00000</td>\n",
       "    </tr>\n",
       "    <tr>\n",
       "      <th>1</th>\n",
       "      <td>-0.99998</td>\n",
       "      <td>-0.00004</td>\n",
       "      <td>-0.00004</td>\n",
       "    </tr>\n",
       "    <tr>\n",
       "      <th>2</th>\n",
       "      <td>-0.99996</td>\n",
       "      <td>-0.00008</td>\n",
       "      <td>-0.00008</td>\n",
       "    </tr>\n",
       "    <tr>\n",
       "      <th>3</th>\n",
       "      <td>-0.99994</td>\n",
       "      <td>-0.00012</td>\n",
       "      <td>-0.00012</td>\n",
       "    </tr>\n",
       "    <tr>\n",
       "      <th>4</th>\n",
       "      <td>-0.99992</td>\n",
       "      <td>-0.00016</td>\n",
       "      <td>-0.00016</td>\n",
       "    </tr>\n",
       "  </tbody>\n",
       "</table>\n",
       "</div>"
      ],
      "text/plain": [
       "         x        y      y_n\n",
       "0 -1.00000  0.00000  0.00000\n",
       "1 -0.99998 -0.00004 -0.00004\n",
       "2 -0.99996 -0.00008 -0.00008\n",
       "3 -0.99994 -0.00012 -0.00012\n",
       "4 -0.99992 -0.00016 -0.00016"
      ]
     },
     "execution_count": 143,
     "metadata": {},
     "output_type": "execute_result"
    }
   ],
   "source": [
    "# reshape for plotting\n",
    "df = pd.DataFrame({\n",
    "    'x': x,\n",
    "    'y': x**2 - 1,\n",
    "    'y_n': y\n",
    "})\n",
    "df.head()"
   ]
  },
  {
   "cell_type": "code",
   "execution_count": 144,
   "id": "05df44be",
   "metadata": {},
   "outputs": [
    {
     "data": {
      "text/html": [
       "<div>\n",
       "<style scoped>\n",
       "    .dataframe tbody tr th:only-of-type {\n",
       "        vertical-align: middle;\n",
       "    }\n",
       "\n",
       "    .dataframe tbody tr th {\n",
       "        vertical-align: top;\n",
       "    }\n",
       "\n",
       "    .dataframe thead th {\n",
       "        text-align: right;\n",
       "    }\n",
       "</style>\n",
       "<table border=\"1\" class=\"dataframe\">\n",
       "  <thead>\n",
       "    <tr style=\"text-align: right;\">\n",
       "      <th></th>\n",
       "      <th>x</th>\n",
       "      <th>variable</th>\n",
       "      <th>value</th>\n",
       "    </tr>\n",
       "  </thead>\n",
       "  <tbody>\n",
       "    <tr>\n",
       "      <th>0</th>\n",
       "      <td>-1.00000</td>\n",
       "      <td>y</td>\n",
       "      <td>0.00000</td>\n",
       "    </tr>\n",
       "    <tr>\n",
       "      <th>1</th>\n",
       "      <td>-0.99998</td>\n",
       "      <td>y</td>\n",
       "      <td>-0.00004</td>\n",
       "    </tr>\n",
       "    <tr>\n",
       "      <th>2</th>\n",
       "      <td>-0.99996</td>\n",
       "      <td>y</td>\n",
       "      <td>-0.00008</td>\n",
       "    </tr>\n",
       "    <tr>\n",
       "      <th>3</th>\n",
       "      <td>-0.99994</td>\n",
       "      <td>y</td>\n",
       "      <td>-0.00012</td>\n",
       "    </tr>\n",
       "    <tr>\n",
       "      <th>4</th>\n",
       "      <td>-0.99992</td>\n",
       "      <td>y</td>\n",
       "      <td>-0.00016</td>\n",
       "    </tr>\n",
       "    <tr>\n",
       "      <th>...</th>\n",
       "      <td>...</td>\n",
       "      <td>...</td>\n",
       "      <td>...</td>\n",
       "    </tr>\n",
       "    <tr>\n",
       "      <th>199995</th>\n",
       "      <td>0.99992</td>\n",
       "      <td>y_n</td>\n",
       "      <td>-0.00020</td>\n",
       "    </tr>\n",
       "    <tr>\n",
       "      <th>199996</th>\n",
       "      <td>0.99994</td>\n",
       "      <td>y_n</td>\n",
       "      <td>-0.00016</td>\n",
       "    </tr>\n",
       "    <tr>\n",
       "      <th>199997</th>\n",
       "      <td>0.99996</td>\n",
       "      <td>y_n</td>\n",
       "      <td>-0.00012</td>\n",
       "    </tr>\n",
       "    <tr>\n",
       "      <th>199998</th>\n",
       "      <td>0.99998</td>\n",
       "      <td>y_n</td>\n",
       "      <td>-0.00008</td>\n",
       "    </tr>\n",
       "    <tr>\n",
       "      <th>199999</th>\n",
       "      <td>1.00000</td>\n",
       "      <td>y_n</td>\n",
       "      <td>-0.00004</td>\n",
       "    </tr>\n",
       "  </tbody>\n",
       "</table>\n",
       "<p>200000 rows × 3 columns</p>\n",
       "</div>"
      ],
      "text/plain": [
       "              x variable    value\n",
       "0      -1.00000        y  0.00000\n",
       "1      -0.99998        y -0.00004\n",
       "2      -0.99996        y -0.00008\n",
       "3      -0.99994        y -0.00012\n",
       "4      -0.99992        y -0.00016\n",
       "...         ...      ...      ...\n",
       "199995  0.99992      y_n -0.00020\n",
       "199996  0.99994      y_n -0.00016\n",
       "199997  0.99996      y_n -0.00012\n",
       "199998  0.99998      y_n -0.00008\n",
       "199999  1.00000      y_n -0.00004\n",
       "\n",
       "[200000 rows x 3 columns]"
      ]
     },
     "execution_count": 144,
     "metadata": {},
     "output_type": "execute_result"
    }
   ],
   "source": [
    "# https://tidyr.tidyverse.org/articles/tidy-data.html\n",
    "df_melted = pd.melt(df, ['x'])\n",
    "df_melted"
   ]
  },
  {
   "cell_type": "code",
   "execution_count": 145,
   "id": "ddb20707",
   "metadata": {},
   "outputs": [
    {
     "data": {
      "image/png": "[encoded data removed]",
      "text/plain": [
       "<Figure size 809.25x504 with 1 Axes>"
      ]
     },
     "metadata": {
      "needs_background": "light"
     },
     "output_type": "display_data"
    }
   ],
   "source": [
    "_ = sns.relplot(\n",
    "    data=df_melted,\n",
    "    x='x',\n",
    "    y='value',\n",
    "    hue='variable',\n",
    "    kind='line',\n",
    "    height=7,\n",
    "    aspect=1.5\n",
    "    \n",
    ")"
   ]
  },
  {
   "cell_type": "code",
   "execution_count": null,
   "id": "e1aa48ac",
   "metadata": {},
   "outputs": [],
   "source": []
  },
  {
   "cell_type": "code",
   "execution_count": null,
   "id": "ac5303e1",
   "metadata": {},
   "outputs": [],
   "source": []
  },
  {
   "cell_type": "markdown",
   "id": "967a26f5",
   "metadata": {},
   "source": [
    "# Accuracy\n",
    "The derivative of a function $y(x)$ at the point $x_{0}$ could be defined in any of the following three ways, \n",
    "\n",
    "<br />\n",
    "\n",
    "$$\n",
    "\\begin{align}\n",
    "\\frac{\\partial y}{\\partial x}(x_{0}) &= \\lim_{\\Delta x \\to 0} \\frac{y(x_{0}+\\Delta x) - y(x_{0})}{\\Delta x} \\\\ \\\\\n",
    "\\frac{\\partial y}{\\partial x}(x_{0}) &= \\lim_{\\Delta x \\to 0} \\frac{y(x_{0}) - y(x_{0} - \\Delta x)}{\\Delta x} \\\\ \\\\\n",
    "\\frac{\\partial y}{\\partial x}(x_{0}) &= \\lim_{\\Delta x \\to 0} \\frac{y(x_{0} + \\Delta x) - y(x_{0} - \\Delta x)}{2 \\Delta x} \\\\ \\\\\n",
    "\\end{align}\n",
    "$$\n",
    "<br />\n",
    "If the derivative of $y(x)$ is continuous at $x_{0}$, then all three expressions produce the same unique answer. However, if $y$ is an approximation on a discrete grid, then these need to evaluted using $\\Delta x$. This is known as [finite difference method](https://en.wikipedia.org/wiki/Finite_difference_method). Euler's method looks at the first of these expressions and is therefore referred to as **Forward euler's method**. "
   ]
  },
  {
   "cell_type": "markdown",
   "id": "70625d50",
   "metadata": {},
   "source": [
    "### Taylor Expansion\n",
    "We can evaluate the accuracy of euler's method using a taylor series where $x \\approx x_{0}$, \n",
    "\n",
    "<br />\n",
    "\n",
    "$$\n",
    "\\begin{align}\n",
    "y(x) &= \\sum\\limits_{n=0}^\\infty  \\frac{(x - x_{0})^{n}}{n!} \\cdot y^{n}(x_{0}) \\\\\n",
    "\\end{align}\n",
    "$$\n",
    "\n",
    "<br />\n",
    "\n",
    "Substituting $x$ for $x_{0} + \\Delta x$ we have, \n",
    "\n",
    "<br />\n",
    "\n",
    "$$\n",
    "\\begin{align}\n",
    "y(x_{0} + \\Delta x) &= y(x_{0}) + \\Delta x \\cdot y'(x_{0}) + \\frac{\\Delta x^{2}}{2!} \\cdot y''(x_{0}) + \\epsilon\n",
    "\\end{align}\n",
    "$$\n",
    "\n",
    "<br />\n",
    "\n",
    "Re-arranging the LHS this looks like our definition of a derivative using forward euler's method, \n",
    "\n",
    "<br />\n",
    "\n",
    "\n",
    "$$\n",
    "\\begin{align}\n",
    "\\frac{y(x_{0}+\\Delta x) - y(x_{0})}{\\Delta x} &= y'(x_{0}) + \\frac{\\Delta x}{2!} \\cdot y''(x_{0}) + \\epsilon \\\\\n",
    "\\end{align}\n",
    "$$\n",
    "\n",
    "<br />\n",
    "\n",
    "Subtracting our discrete derivative from the actual yields **truncation error**,\n",
    "\n",
    "<br />\n",
    "\n",
    "\n",
    "$$\n",
    "\\begin{align}\n",
    "error = \\frac{y(x_{0}+\\Delta x) - y(x_{0})}{\\Delta x} - y'(x_{0}) = \\frac{\\Delta x}{2!} \\cdot y''(x_{0}) + \\epsilon \\\\\n",
    "\\end{align}\n",
    "$$\n",
    "\n",
    "<br />\n",
    "\n",
    "This tells us that euler's method is a **first-order numerical technique** because its error term is dominated by $\\Delta x$ to the first order (i.e. not $\\Delta x^{2}, \\Delta x^{3}$). Ignoring the error term, we can finally write down forward euler's method by re-arranging the terms and recognizing that $x_{0} = x_{n}$ and  $x_{n+1} = \\Delta x + x_{n}$\n",
    "\n",
    "\n",
    "<br />\n",
    "\n",
    "\n",
    "$$\n",
    "\\begin{align}\n",
    "y(x_{n+1}) &=  y(x_{n}) + y'(x_{n}) \\cdot \\Delta x \\\\ \\\\\n",
    "y_{n+1} &= y_{n} + f(x_{n}, y_{n}) \\cdot \\Delta x \\\\ \n",
    "\\end{align}\n",
    "$$\n",
    "\n",
    "<br />"
   ]
  },
  {
   "cell_type": "markdown",
   "id": "24a30002",
   "metadata": {},
   "source": [
    "### Error in numerical solution"
   ]
  },
  {
   "cell_type": "code",
   "execution_count": 61,
   "id": "5d60cc51",
   "metadata": {},
   "outputs": [],
   "source": [
    "fprime = 2\n",
    "\n",
    "dx = x[1] - x[0]\n",
    "\n",
    "err_term = (fprime * dx) / 2\n",
    "\n",
    "y_err = np.zeros(N)\n",
    "y_err[0] = err_term\n",
    "\n",
    "for n in range(1, N):\n",
    "    y_err[n] = y_err[n-1] + err_term"
   ]
  },
  {
   "cell_type": "code",
   "execution_count": 62,
   "id": "9a49f3db",
   "metadata": {},
   "outputs": [
    {
     "data": {
      "text/html": [
       "<div>\n",
       "<style scoped>\n",
       "    .dataframe tbody tr th:only-of-type {\n",
       "        vertical-align: middle;\n",
       "    }\n",
       "\n",
       "    .dataframe tbody tr th {\n",
       "        vertical-align: top;\n",
       "    }\n",
       "\n",
       "    .dataframe thead th {\n",
       "        text-align: right;\n",
       "    }\n",
       "</style>\n",
       "<table border=\"1\" class=\"dataframe\">\n",
       "  <thead>\n",
       "    <tr style=\"text-align: right;\">\n",
       "      <th></th>\n",
       "      <th>x</th>\n",
       "      <th>y_err</th>\n",
       "    </tr>\n",
       "  </thead>\n",
       "  <tbody>\n",
       "    <tr>\n",
       "      <th>0</th>\n",
       "      <td>-1.000000</td>\n",
       "      <td>0.020202</td>\n",
       "    </tr>\n",
       "    <tr>\n",
       "      <th>1</th>\n",
       "      <td>-0.979798</td>\n",
       "      <td>0.040404</td>\n",
       "    </tr>\n",
       "    <tr>\n",
       "      <th>2</th>\n",
       "      <td>-0.959596</td>\n",
       "      <td>0.060606</td>\n",
       "    </tr>\n",
       "    <tr>\n",
       "      <th>3</th>\n",
       "      <td>-0.939394</td>\n",
       "      <td>0.080808</td>\n",
       "    </tr>\n",
       "    <tr>\n",
       "      <th>4</th>\n",
       "      <td>-0.919192</td>\n",
       "      <td>0.101010</td>\n",
       "    </tr>\n",
       "  </tbody>\n",
       "</table>\n",
       "</div>"
      ],
      "text/plain": [
       "          x     y_err\n",
       "0 -1.000000  0.020202\n",
       "1 -0.979798  0.040404\n",
       "2 -0.959596  0.060606\n",
       "3 -0.939394  0.080808\n",
       "4 -0.919192  0.101010"
      ]
     },
     "execution_count": 62,
     "metadata": {},
     "output_type": "execute_result"
    }
   ],
   "source": [
    "# reshape for plotting\n",
    "df = pd.DataFrame({\n",
    "    'x': x,\n",
    "    'y_err': y_err\n",
    "})\n",
    "df.head()"
   ]
  },
  {
   "cell_type": "code",
   "execution_count": 63,
   "id": "df3b5547",
   "metadata": {},
   "outputs": [
    {
     "data": {
      "image/png": "[encoded data removed]",
      "text/plain": [
       "<Figure size 756x504 with 1 Axes>"
      ]
     },
     "metadata": {
      "needs_background": "light"
     },
     "output_type": "display_data"
    }
   ],
   "source": [
    "_ = sns.relplot(\n",
    "    data=df,\n",
    "    x='x',\n",
    "    y='y_err',\n",
    "    kind='line',\n",
    "    height=7,\n",
    "    aspect=1.5\n",
    "    \n",
    ")"
   ]
  },
  {
   "cell_type": "code",
   "execution_count": null,
   "id": "165a6efd",
   "metadata": {},
   "outputs": [],
   "source": []
  },
  {
   "cell_type": "code",
   "execution_count": null,
   "id": "9e436670",
   "metadata": {},
   "outputs": [],
   "source": []
  },
  {
   "cell_type": "code",
   "execution_count": null,
   "id": "ab66e292",
   "metadata": {},
   "outputs": [],
   "source": []
  }
 ],
 "metadata": {
  "kernelspec": {
   "display_name": "Python 3 (ipykernel)",
   "language": "python",
   "name": "python3"
  },
  "language_info": {
   "codemirror_mode": {
    "name": "ipython",
    "version": 3
   },
   "file_extension": ".py",
   "mimetype": "text/x-python",
   "name": "python",
   "nbconvert_exporter": "python",
   "pygments_lexer": "ipython3",
   "version": "3.9.12"
  }
 },
 "nbformat": 4,
 "nbformat_minor": 5
}
