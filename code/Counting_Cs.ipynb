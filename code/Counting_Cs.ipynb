{
 "cells": [
  {
   "cell_type": "markdown",
   "metadata": {},
   "source": [
    "# Opening the ecoli file"
   ]
  },
  {
   "cell_type": "code",
   "execution_count": 1,
   "metadata": {},
   "outputs": [],
   "source": [
    "dna = \"\"\n",
    "file = open(\"data/ecoli_uti89.txt\")\n",
    "for line in file.readlines():\n",
    "    dna += line.strip()"
   ]
  },
  {
   "cell_type": "code",
   "execution_count": 2,
   "metadata": {},
   "outputs": [
    {
     "data": {
      "text/plain": [
       "'AGCTTTTCAT'"
      ]
     },
     "execution_count": 2,
     "metadata": {},
     "output_type": "execute_result"
    }
   ],
   "source": [
    "dna[:10]"
   ]
  },
  {
   "cell_type": "code",
   "execution_count": 3,
   "metadata": {},
   "outputs": [
    {
     "data": {
      "text/plain": [
       "5065741"
      ]
     },
     "execution_count": 3,
     "metadata": {},
     "output_type": "execute_result"
    }
   ],
   "source": [
    "len(dna)"
   ]
  },
  {
   "cell_type": "markdown",
   "metadata": {},
   "source": [
    "# Defining the functions to test"
   ]
  },
  {
   "cell_type": "code",
   "execution_count": 4,
   "metadata": {},
   "outputs": [],
   "source": [
    "def count_builtin(dna):\n",
    "    return dna.count(\"C\")"
   ]
  },
  {
   "cell_type": "code",
   "execution_count": 5,
   "metadata": {},
   "outputs": [],
   "source": [
    "def count_loop(dna):\n",
    "    count = 0\n",
    "    for let in dna:\n",
    "        if let == \"C\":\n",
    "            count += 1\n",
    "    return count"
   ]
  },
  {
   "cell_type": "code",
   "execution_count": 6,
   "metadata": {},
   "outputs": [],
   "source": [
    "def count_other_chars(dna): \n",
    "    count = 0 \n",
    "    for let in dna: \n",
    "        if let != \"c\": \n",
    "            count += 1 \n",
    "    return len(dna) - count "
   ]
  },
  {
   "cell_type": "code",
   "execution_count": 21,
   "metadata": {},
   "outputs": [],
   "source": [
    "def count_what_it_is_not(dna): \n",
    "    A = dna.count(\"A\") \n",
    "    T = dna.count(\"T\") \n",
    "    G = dna.count(\"G\") \n",
    "    Length = len(dna) \n",
    "    Total = Length - A - T - G \n",
    "    return Total "
   ]
  },
  {
   "cell_type": "code",
   "execution_count": 8,
   "metadata": {},
   "outputs": [],
   "source": [
    "def count_back(str) -> int: \n",
    "    c = 0 \n",
    "    count = len(str) \n",
    "    while not count < 0: \n",
    "        if str[count - 1] == \"C\": \n",
    "            c += 1 \n",
    "        count -= 1 \n",
    "    return c "
   ]
  },
  {
   "cell_type": "code",
   "execution_count": 9,
   "metadata": {},
   "outputs": [],
   "source": [
    "def count_backwards(dna): \n",
    "    count = len(dna) \n",
    "    for let in dna: \n",
    "        if let != \"C\":  \n",
    "            count = count - 1 \n",
    "    return count "
   ]
  },
  {
   "cell_type": "code",
   "execution_count": 10,
   "metadata": {},
   "outputs": [],
   "source": [
    "def count_see(dna) :\n",
    "    Count = 0 \n",
    "    for let in dna: \n",
    "        if let != \"C\" :\n",
    "            dna.replace(let, \"\") \n",
    "    for lett in dna: \n",
    "        Count +=1 \n",
    "    return Count "
   ]
  },
  {
   "cell_type": "code",
   "execution_count": 26,
   "metadata": {},
   "outputs": [],
   "source": [
    "def count_list(dna: str): \n",
    "    Empty = [] \n",
    "    for x in dna: \n",
    "        if x == \"C\": \n",
    "            Empty.append(x) \n",
    "    return len(Empty) "
   ]
  },
  {
   "cell_type": "code",
   "execution_count": 50,
   "metadata": {},
   "outputs": [],
   "source": [
    "def count_recursive(dna): \n",
    "    if len(dna) == 0: \n",
    "        return 0 \n",
    "    if len(dna) == 1 :\n",
    "        if dna == 'C' :\n",
    "            return 1 \n",
    "        else: \n",
    "            return 0 \n",
    "    else: \n",
    "        return count_recursive(dna[0:len(dna)//2]) + count_recursive(dna[len(dna)//2:]) "
   ]
  },
  {
   "cell_type": "code",
   "execution_count": 60,
   "metadata": {},
   "outputs": [],
   "source": [
    "def count_c(dna: str):\n",
    "    C = 0 \n",
    "    N = 0 \n",
    "    while True : \n",
    "        if C == len(dna) :\n",
    "            return N \n",
    "        if dna[C] == \"C\": \n",
    "            N += 1 \n",
    "        C += 1 \n",
    "    return C"
   ]
  },
  {
   "cell_type": "code",
   "execution_count": 64,
   "metadata": {},
   "outputs": [],
   "source": [
    "def count_base(strand): \n",
    "    bases = {\"A\":0,\"T\":0,\"C\":0,\"G\":0} \n",
    "    for base in strand:\n",
    "        for i in bases: \n",
    "            if base == i: \n",
    "                bases[i] = bases[i]+1 \n",
    "    return bases[base] "
   ]
  },
  {
   "cell_type": "code",
   "execution_count": 65,
   "metadata": {},
   "outputs": [],
   "source": [
    "funcs = []\n",
    "funcs.append(count_builtin)\n",
    "funcs.append(count_loop)\n",
    "funcs.append(count_other_chars)\n",
    "funcs.append(count_what_it_is_not)\n",
    "funcs.append(count_back)\n",
    "funcs.append(count_backwards)\n",
    "#funcs.append(count_see)\n",
    "funcs.append(count_list)\n",
    "funcs.append(count_recursive)\n",
    "funcs.append(count_c)\n",
    "funcs.append(count_base)"
   ]
  },
  {
   "cell_type": "markdown",
   "metadata": {},
   "source": [
    "# Running the timing experiment"
   ]
  },
  {
   "cell_type": "code",
   "execution_count": 66,
   "metadata": {},
   "outputs": [],
   "source": [
    "names = []\n",
    "timings = []\n",
    "results = []\n",
    "import time\n",
    "\n",
    "for f in funcs:\n",
    "    t0 = time.process_time()\n",
    "    results.append(f(dna))\n",
    "    t1 = time.process_time()\n",
    "    cpu_time = t1 - t0\n",
    "    timings.append(cpu_time)\n",
    "    names.append(f.__name__[6:])"
   ]
  },
  {
   "cell_type": "code",
   "execution_count": 67,
   "metadata": {},
   "outputs": [
    {
     "data": {
      "text/plain": [
       "['builtin',\n",
       " 'loop',\n",
       " 'other_chars',\n",
       " 'what_it_is_not',\n",
       " 'back',\n",
       " 'backwards',\n",
       " 'list',\n",
       " 'recursive',\n",
       " 'c',\n",
       " 'base']"
      ]
     },
     "execution_count": 67,
     "metadata": {},
     "output_type": "execute_result"
    }
   ],
   "source": [
    "names"
   ]
  },
  {
   "cell_type": "code",
   "execution_count": 68,
   "metadata": {},
   "outputs": [
    {
     "data": {
      "text/plain": [
       "[1284322,\n",
       " 1284322,\n",
       " 0,\n",
       " 1284322,\n",
       " 1284323,\n",
       " 1284322,\n",
       " 1284322,\n",
       " 1284322,\n",
       " 1284322,\n",
       " 1284322]"
      ]
     },
     "execution_count": 68,
     "metadata": {},
     "output_type": "execute_result"
    }
   ],
   "source": [
    "results"
   ]
  },
  {
   "cell_type": "code",
   "execution_count": 69,
   "metadata": {},
   "outputs": [
    {
     "data": {
      "text/plain": [
       "[0.01853199999999333,\n",
       " 0.2634690000000006,\n",
       " 0.39790699999998935,\n",
       " 0.05138300000000129,\n",
       " 0.825679000000008,\n",
       " 0.339343999999997,\n",
       " 0.27201900000000023,\n",
       " 3.3927300000000002,\n",
       " 0.972132000000002,\n",
       " 1.5633260000000035]"
      ]
     },
     "execution_count": 69,
     "metadata": {},
     "output_type": "execute_result"
    }
   ],
   "source": [
    "timings"
   ]
  },
  {
   "cell_type": "markdown",
   "metadata": {},
   "source": [
    "# Plotting the results"
   ]
  },
  {
   "cell_type": "code",
   "execution_count": 70,
   "metadata": {},
   "outputs": [],
   "source": [
    "%matplotlib inline\n",
    "import pandas as pd\n",
    "from plotnine import *"
   ]
  },
  {
   "cell_type": "code",
   "execution_count": 71,
   "metadata": {},
   "outputs": [],
   "source": [
    "df = pd.DataFrame({\"names\":names,\n",
    "                  \"timings\":timings,\n",
    "                  \"results\":results})"
   ]
  },
  {
   "cell_type": "code",
   "execution_count": 72,
   "metadata": {},
   "outputs": [
    {
     "data": {
      "text/html": [
       "<div>\n",
       "<style scoped>\n",
       "    .dataframe tbody tr th:only-of-type {\n",
       "        vertical-align: middle;\n",
       "    }\n",
       "\n",
       "    .dataframe tbody tr th {\n",
       "        vertical-align: top;\n",
       "    }\n",
       "\n",
       "    .dataframe thead th {\n",
       "        text-align: right;\n",
       "    }\n",
       "</style>\n",
       "<table border=\"1\" class=\"dataframe\">\n",
       "  <thead>\n",
       "    <tr style=\"text-align: right;\">\n",
       "      <th></th>\n",
       "      <th>names</th>\n",
       "      <th>timings</th>\n",
       "      <th>results</th>\n",
       "    </tr>\n",
       "  </thead>\n",
       "  <tbody>\n",
       "    <tr>\n",
       "      <th>0</th>\n",
       "      <td>builtin</td>\n",
       "      <td>0.018532</td>\n",
       "      <td>1284322</td>\n",
       "    </tr>\n",
       "    <tr>\n",
       "      <th>1</th>\n",
       "      <td>loop</td>\n",
       "      <td>0.263469</td>\n",
       "      <td>1284322</td>\n",
       "    </tr>\n",
       "    <tr>\n",
       "      <th>2</th>\n",
       "      <td>other_chars</td>\n",
       "      <td>0.397907</td>\n",
       "      <td>0</td>\n",
       "    </tr>\n",
       "    <tr>\n",
       "      <th>3</th>\n",
       "      <td>what_it_is_not</td>\n",
       "      <td>0.051383</td>\n",
       "      <td>1284322</td>\n",
       "    </tr>\n",
       "    <tr>\n",
       "      <th>4</th>\n",
       "      <td>back</td>\n",
       "      <td>0.825679</td>\n",
       "      <td>1284323</td>\n",
       "    </tr>\n",
       "    <tr>\n",
       "      <th>5</th>\n",
       "      <td>backwards</td>\n",
       "      <td>0.339344</td>\n",
       "      <td>1284322</td>\n",
       "    </tr>\n",
       "    <tr>\n",
       "      <th>6</th>\n",
       "      <td>list</td>\n",
       "      <td>0.272019</td>\n",
       "      <td>1284322</td>\n",
       "    </tr>\n",
       "    <tr>\n",
       "      <th>7</th>\n",
       "      <td>recursive</td>\n",
       "      <td>3.392730</td>\n",
       "      <td>1284322</td>\n",
       "    </tr>\n",
       "    <tr>\n",
       "      <th>8</th>\n",
       "      <td>c</td>\n",
       "      <td>0.972132</td>\n",
       "      <td>1284322</td>\n",
       "    </tr>\n",
       "    <tr>\n",
       "      <th>9</th>\n",
       "      <td>base</td>\n",
       "      <td>1.563326</td>\n",
       "      <td>1284322</td>\n",
       "    </tr>\n",
       "  </tbody>\n",
       "</table>\n",
       "</div>"
      ],
      "text/plain": [
       "            names   timings  results\n",
       "0         builtin  0.018532  1284322\n",
       "1            loop  0.263469  1284322\n",
       "2     other_chars  0.397907        0\n",
       "3  what_it_is_not  0.051383  1284322\n",
       "4            back  0.825679  1284323\n",
       "5       backwards  0.339344  1284322\n",
       "6            list  0.272019  1284322\n",
       "7       recursive  3.392730  1284322\n",
       "8               c  0.972132  1284322\n",
       "9            base  1.563326  1284322"
      ]
     },
     "execution_count": 72,
     "metadata": {},
     "output_type": "execute_result"
    }
   ],
   "source": [
    "df"
   ]
  },
  {
   "cell_type": "code",
   "execution_count": 76,
   "metadata": {},
   "outputs": [
    {
     "data": {
      "image/png": "[encoded data removed]",
      "text/plain": [
       "<Figure size 640x480 with 1 Axes>"
      ]
     },
     "metadata": {},
     "output_type": "display_data"
    },
    {
     "data": {
      "text/plain": [
       "<ggplot: (288790760)>"
      ]
     },
     "execution_count": 76,
     "metadata": {},
     "output_type": "execute_result"
    }
   ],
   "source": [
    "ggplot(df, aes(x=\"names\", y=\"timings\")) + geom_col() + theme(axis_text_x=element_text(rotation=90))"
   ]
  },
  {
   "cell_type": "code",
   "execution_count": null,
   "metadata": {},
   "outputs": [],
   "source": []
  }
 ],
 "metadata": {
  "kernelspec": {
   "display_name": "Python 3",
   "language": "python",
   "name": "python3"
  },
  "language_info": {
   "codemirror_mode": {
    "name": "ipython",
    "version": 3
   },
   "file_extension": ".py",
   "mimetype": "text/x-python",
   "name": "python",
   "nbconvert_exporter": "python",
   "pygments_lexer": "ipython3",
   "version": "3.8.3"
  }
 },
 "nbformat": 4,
 "nbformat_minor": 2
}
