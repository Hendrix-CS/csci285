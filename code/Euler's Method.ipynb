{
 "cells": [
  {
   "cell_type": "code",
   "execution_count": 1,
   "metadata": {},
   "outputs": [],
   "source": [
    "%matplotlib inline\n",
    "import pandas as pd\n",
    "from plotnine import *\n",
    "import numpy as np"
   ]
  },
  {
   "cell_type": "markdown",
   "metadata": {},
   "source": [
    "# Basic For Loop"
   ]
  },
  {
   "cell_type": "code",
   "execution_count": 2,
   "metadata": {},
   "outputs": [
    {
     "data": {
      "text/plain": [
       "121.09499908786083"
      ]
     },
     "execution_count": 2,
     "metadata": {},
     "output_type": "execute_result"
    }
   ],
   "source": [
    "p = 18\n",
    "r = 0.1\n",
    "sim_length = 20\n",
    "\n",
    "for i in range(sim_length):\n",
    "    p += r * p\n",
    "    \n",
    "p"
   ]
  },
  {
   "cell_type": "markdown",
   "metadata": {},
   "source": [
    "# Saving Data Over Time for Plotting"
   ]
  },
  {
   "cell_type": "code",
   "execution_count": 3,
   "metadata": {},
   "outputs": [
    {
     "data": {
      "text/plain": [
       "121.09499908786083"
      ]
     },
     "execution_count": 3,
     "metadata": {},
     "output_type": "execute_result"
    }
   ],
   "source": [
    "p = 18\n",
    "r = 0.1\n",
    "sim_length = 20\n",
    "\n",
    "time = []\n",
    "pop = []\n",
    "\n",
    "for i in range(sim_length + 1):\n",
    "    time.append(i)\n",
    "    pop.append(p)\n",
    "    p += r * p\n",
    "    \n",
    "pop[-1]"
   ]
  },
  {
   "cell_type": "code",
   "execution_count": 4,
   "metadata": {},
   "outputs": [],
   "source": [
    "df = pd.DataFrame({\"time\":time, \"population\":pop})"
   ]
  },
  {
   "cell_type": "code",
   "execution_count": 5,
   "metadata": {},
   "outputs": [
    {
     "data": {
      "text/html": [
       "<div>\n",
       "<style scoped>\n",
       "    .dataframe tbody tr th:only-of-type {\n",
       "        vertical-align: middle;\n",
       "    }\n",
       "\n",
       "    .dataframe tbody tr th {\n",
       "        vertical-align: top;\n",
       "    }\n",
       "\n",
       "    .dataframe thead th {\n",
       "        text-align: right;\n",
       "    }\n",
       "</style>\n",
       "<table border=\"1\" class=\"dataframe\">\n",
       "  <thead>\n",
       "    <tr style=\"text-align: right;\">\n",
       "      <th></th>\n",
       "      <th>time</th>\n",
       "      <th>population</th>\n",
       "    </tr>\n",
       "  </thead>\n",
       "  <tbody>\n",
       "    <tr>\n",
       "      <th>0</th>\n",
       "      <td>0</td>\n",
       "      <td>18.000000</td>\n",
       "    </tr>\n",
       "    <tr>\n",
       "      <th>1</th>\n",
       "      <td>1</td>\n",
       "      <td>19.800000</td>\n",
       "    </tr>\n",
       "    <tr>\n",
       "      <th>2</th>\n",
       "      <td>2</td>\n",
       "      <td>21.780000</td>\n",
       "    </tr>\n",
       "    <tr>\n",
       "      <th>3</th>\n",
       "      <td>3</td>\n",
       "      <td>23.958000</td>\n",
       "    </tr>\n",
       "    <tr>\n",
       "      <th>4</th>\n",
       "      <td>4</td>\n",
       "      <td>26.353800</td>\n",
       "    </tr>\n",
       "    <tr>\n",
       "      <th>5</th>\n",
       "      <td>5</td>\n",
       "      <td>28.989180</td>\n",
       "    </tr>\n",
       "    <tr>\n",
       "      <th>6</th>\n",
       "      <td>6</td>\n",
       "      <td>31.888098</td>\n",
       "    </tr>\n",
       "    <tr>\n",
       "      <th>7</th>\n",
       "      <td>7</td>\n",
       "      <td>35.076908</td>\n",
       "    </tr>\n",
       "    <tr>\n",
       "      <th>8</th>\n",
       "      <td>8</td>\n",
       "      <td>38.584599</td>\n",
       "    </tr>\n",
       "    <tr>\n",
       "      <th>9</th>\n",
       "      <td>9</td>\n",
       "      <td>42.443058</td>\n",
       "    </tr>\n",
       "    <tr>\n",
       "      <th>10</th>\n",
       "      <td>10</td>\n",
       "      <td>46.687364</td>\n",
       "    </tr>\n",
       "    <tr>\n",
       "      <th>11</th>\n",
       "      <td>11</td>\n",
       "      <td>51.356101</td>\n",
       "    </tr>\n",
       "    <tr>\n",
       "      <th>12</th>\n",
       "      <td>12</td>\n",
       "      <td>56.491711</td>\n",
       "    </tr>\n",
       "    <tr>\n",
       "      <th>13</th>\n",
       "      <td>13</td>\n",
       "      <td>62.140882</td>\n",
       "    </tr>\n",
       "    <tr>\n",
       "      <th>14</th>\n",
       "      <td>14</td>\n",
       "      <td>68.354970</td>\n",
       "    </tr>\n",
       "    <tr>\n",
       "      <th>15</th>\n",
       "      <td>15</td>\n",
       "      <td>75.190467</td>\n",
       "    </tr>\n",
       "    <tr>\n",
       "      <th>16</th>\n",
       "      <td>16</td>\n",
       "      <td>82.709514</td>\n",
       "    </tr>\n",
       "    <tr>\n",
       "      <th>17</th>\n",
       "      <td>17</td>\n",
       "      <td>90.980465</td>\n",
       "    </tr>\n",
       "    <tr>\n",
       "      <th>18</th>\n",
       "      <td>18</td>\n",
       "      <td>100.078512</td>\n",
       "    </tr>\n",
       "    <tr>\n",
       "      <th>19</th>\n",
       "      <td>19</td>\n",
       "      <td>110.086363</td>\n",
       "    </tr>\n",
       "    <tr>\n",
       "      <th>20</th>\n",
       "      <td>20</td>\n",
       "      <td>121.094999</td>\n",
       "    </tr>\n",
       "  </tbody>\n",
       "</table>\n",
       "</div>"
      ],
      "text/plain": [
       "    time  population\n",
       "0      0   18.000000\n",
       "1      1   19.800000\n",
       "2      2   21.780000\n",
       "3      3   23.958000\n",
       "4      4   26.353800\n",
       "5      5   28.989180\n",
       "6      6   31.888098\n",
       "7      7   35.076908\n",
       "8      8   38.584599\n",
       "9      9   42.443058\n",
       "10    10   46.687364\n",
       "11    11   51.356101\n",
       "12    12   56.491711\n",
       "13    13   62.140882\n",
       "14    14   68.354970\n",
       "15    15   75.190467\n",
       "16    16   82.709514\n",
       "17    17   90.980465\n",
       "18    18  100.078512\n",
       "19    19  110.086363\n",
       "20    20  121.094999"
      ]
     },
     "execution_count": 5,
     "metadata": {},
     "output_type": "execute_result"
    }
   ],
   "source": [
    "df"
   ]
  },
  {
   "cell_type": "code",
   "execution_count": 6,
   "metadata": {},
   "outputs": [
    {
     "data": {
      "image/png": "[encoded data removed]",
      "text/plain": [
       "<Figure size 640x480 with 1 Axes>"
      ]
     },
     "metadata": {},
     "output_type": "display_data"
    },
    {
     "data": {
      "text/plain": [
       "<ggplot: (8766617142655)>"
      ]
     },
     "execution_count": 6,
     "metadata": {},
     "output_type": "execute_result"
    }
   ],
   "source": [
    "ggplot(df, aes(x=\"time\", y=\"population\")) + geom_line()"
   ]
  },
  {
   "cell_type": "markdown",
   "metadata": {},
   "source": [
    "# Adding dt\n",
    "Now we can further subdivide the time in regular intervals"
   ]
  },
  {
   "cell_type": "code",
   "execution_count": 7,
   "metadata": {},
   "outputs": [],
   "source": [
    "p = 18\n",
    "r = 0.1\n",
    "\n",
    "sim_length = 20\n",
    "dt = 0.01\n",
    "\n",
    "time = []\n",
    "pop = []\n",
    "\n",
    "num_iter = int(sim_length / dt) + 1\n",
    "for i in range(num_iter):\n",
    "    time.append(i * dt)\n",
    "    pop.append(p)\n",
    "    p += r * p * dt"
   ]
  },
  {
   "cell_type": "markdown",
   "metadata": {},
   "source": [
    "# Making dt be derived from the sequence of time"
   ]
  },
  {
   "cell_type": "code",
   "execution_count": 8,
   "metadata": {},
   "outputs": [],
   "source": [
    "p = 18\n",
    "r = 0.1\n",
    "\n",
    "sim_length = 20\n",
    "\n",
    "time = np.linspace(0, sim_length, sim_length * 10)\n",
    "pop = [p]\n",
    "\n",
    "for i in range(1, len(time)):\n",
    "    dt = time[i] - time[i - 1]\n",
    "    pop.append(p)\n",
    "    p += r * p * dt"
   ]
  },
  {
   "cell_type": "markdown",
   "metadata": {},
   "source": [
    "# Extracting the differential equation into a function"
   ]
  },
  {
   "cell_type": "code",
   "execution_count": 9,
   "metadata": {},
   "outputs": [],
   "source": [
    "p = 18\n",
    "r = 0.1\n",
    "\n",
    "sim_length = 20\n",
    "\n",
    "def growth(u, dt):\n",
    "    return u * r * dt\n",
    "\n",
    "time = np.linspace(0, sim_length, sim_length * 10)\n",
    "pop = [p]\n",
    "\n",
    "for i in range(1, len(time)):\n",
    "    dt = time[i] - time[i - 1]\n",
    "    pop.append(p)\n",
    "    p += growth(p, dt)"
   ]
  },
  {
   "cell_type": "markdown",
   "metadata": {},
   "source": [
    "# Easily replace with new logistic diff eq\n"
   ]
  },
  {
   "cell_type": "code",
   "execution_count": 10,
   "metadata": {},
   "outputs": [],
   "source": [
    "p = 18\n",
    "r = 0.1\n",
    "M = 50\n",
    "\n",
    "sim_length = 60\n",
    "\n",
    "def logistic(u, dt):\n",
    "    return u * r * (1 - u / M) * dt\n",
    "\n",
    "time = np.linspace(0, sim_length, sim_length * 10)\n",
    "pop = [p]\n",
    "\n",
    "for i in range(1, len(time)):\n",
    "    dt = time[i] - time[i - 1]\n",
    "    pop.append(p)\n",
    "    p += logistic(p, dt)"
   ]
  },
  {
   "cell_type": "code",
   "execution_count": 11,
   "metadata": {},
   "outputs": [],
   "source": [
    "df = pd.DataFrame({\"time\":time, \"population\":pop})"
   ]
  },
  {
   "cell_type": "code",
   "execution_count": 12,
   "metadata": {},
   "outputs": [
    {
     "data": {
      "image/png": "[encoded data removed]",
      "text/plain": [
       "<Figure size 640x480 with 1 Axes>"
      ]
     },
     "metadata": {},
     "output_type": "display_data"
    },
    {
     "data": {
      "text/plain": [
       "<ggplot: (8766617142571)>"
      ]
     },
     "execution_count": 12,
     "metadata": {},
     "output_type": "execute_result"
    }
   ],
   "source": [
    "ggplot(df, aes(x=\"time\", y=\"population\")) + geom_line()"
   ]
  },
  {
   "cell_type": "markdown",
   "metadata": {},
   "source": [
    "# Abstract the for loop into Euler function \n",
    "euler brings in function, initial value, and time sequence\n"
   ]
  },
  {
   "cell_type": "code",
   "execution_count": 13,
   "metadata": {},
   "outputs": [],
   "source": [
    "p = 18\n",
    "r = 0.1\n",
    "M = 50\n",
    "\n",
    "sim_length = 100\n",
    "\n",
    "def euler(func, initial, deltas):\n",
    "    vals = [initial]\n",
    "    for i in range(1, len(deltas)):\n",
    "        dt = deltas[i] - deltas[i - 1]\n",
    "        initial += func(initial, dt)\n",
    "        vals.append(initial)\n",
    "    return vals\n",
    "    \n",
    "\n",
    "def logistic(u, dt):\n",
    "    return u * r * (1 - u / M) * dt\n",
    "\n",
    "time = np.linspace(0, sim_length, sim_length * 10)\n",
    "pop = euler(logistic, p, time)"
   ]
  },
  {
   "cell_type": "markdown",
   "metadata": {},
   "source": [
    "# Abstracting for multiple variables, using cur"
   ]
  },
  {
   "cell_type": "code",
   "execution_count": 14,
   "metadata": {},
   "outputs": [],
   "source": [
    "x = 10.0\n",
    "y = 5.0\n",
    "a = 1.5\n",
    "b = 1.0\n",
    "c = 3.0\n",
    "d = 1.0\n",
    "\n",
    "sim_length = 24\n",
    "\n",
    "def euler(func, initial, deltas):\n",
    "    vals = [initial]\n",
    "    for i in range(1, len(deltas)):\n",
    "        cur = np.array(vals[-1][:])\n",
    "        dt = deltas[i] - deltas[i - 1]\n",
    "        cur += func(cur, dt)\n",
    "        vals.append(cur)\n",
    "    return np.array(vals)\n",
    "    \n",
    "\n",
    "def predprey(u, dt):\n",
    "    x, y = u\n",
    "    dx = (a * x - b * x * y) * dt\n",
    "    dy = (-c * y  + d * x * y) * dt\n",
    "    return [dx, dy]\n",
    "\n",
    "time = np.linspace(0, sim_length, sim_length * 3000)\n",
    "pop = euler(predprey, [x, y], time)"
   ]
  },
  {
   "cell_type": "markdown",
   "metadata": {},
   "source": [
    "# Our results are now in a different form, changing up the DataFrame creation"
   ]
  },
  {
   "cell_type": "code",
   "execution_count": 15,
   "metadata": {},
   "outputs": [
    {
     "data": {
      "text/plain": [
       "array([[10.        ,  5.        ],\n",
       "       [ 9.98833317,  5.01166683],\n",
       "       [ 9.97664111,  5.02334139],\n",
       "       ...,\n",
       "       [ 1.05744159,  0.03795485],\n",
       "       [ 1.05795694,  0.03793028],\n",
       "       [ 1.05847255,  0.03790572]])"
      ]
     },
     "execution_count": 15,
     "metadata": {},
     "output_type": "execute_result"
    }
   ],
   "source": [
    "pop"
   ]
  },
  {
   "cell_type": "code",
   "execution_count": 16,
   "metadata": {},
   "outputs": [],
   "source": [
    "df = pd.DataFrame(pop, columns=[\"wolf\", \"sheep\"])\n",
    "df[\"time\"] = time"
   ]
  },
  {
   "cell_type": "code",
   "execution_count": 17,
   "metadata": {},
   "outputs": [
    {
     "data": {
      "text/html": [
       "<div>\n",
       "<style scoped>\n",
       "    .dataframe tbody tr th:only-of-type {\n",
       "        vertical-align: middle;\n",
       "    }\n",
       "\n",
       "    .dataframe tbody tr th {\n",
       "        vertical-align: top;\n",
       "    }\n",
       "\n",
       "    .dataframe thead th {\n",
       "        text-align: right;\n",
       "    }\n",
       "</style>\n",
       "<table border=\"1\" class=\"dataframe\">\n",
       "  <thead>\n",
       "    <tr style=\"text-align: right;\">\n",
       "      <th></th>\n",
       "      <th>wolf</th>\n",
       "      <th>sheep</th>\n",
       "      <th>time</th>\n",
       "    </tr>\n",
       "  </thead>\n",
       "  <tbody>\n",
       "    <tr>\n",
       "      <th>0</th>\n",
       "      <td>10.000000</td>\n",
       "      <td>5.000000</td>\n",
       "      <td>0.000000</td>\n",
       "    </tr>\n",
       "    <tr>\n",
       "      <th>1</th>\n",
       "      <td>9.988333</td>\n",
       "      <td>5.011667</td>\n",
       "      <td>0.000333</td>\n",
       "    </tr>\n",
       "    <tr>\n",
       "      <th>2</th>\n",
       "      <td>9.976641</td>\n",
       "      <td>5.023341</td>\n",
       "      <td>0.000667</td>\n",
       "    </tr>\n",
       "    <tr>\n",
       "      <th>3</th>\n",
       "      <td>9.964924</td>\n",
       "      <td>5.035024</td>\n",
       "      <td>0.001000</td>\n",
       "    </tr>\n",
       "    <tr>\n",
       "      <th>4</th>\n",
       "      <td>9.953182</td>\n",
       "      <td>5.046713</td>\n",
       "      <td>0.001333</td>\n",
       "    </tr>\n",
       "    <tr>\n",
       "      <th>...</th>\n",
       "      <td>...</td>\n",
       "      <td>...</td>\n",
       "      <td>...</td>\n",
       "    </tr>\n",
       "    <tr>\n",
       "      <th>71995</th>\n",
       "      <td>1.056412</td>\n",
       "      <td>0.038004</td>\n",
       "      <td>23.998667</td>\n",
       "    </tr>\n",
       "    <tr>\n",
       "      <th>71996</th>\n",
       "      <td>1.056926</td>\n",
       "      <td>0.037979</td>\n",
       "      <td>23.999000</td>\n",
       "    </tr>\n",
       "    <tr>\n",
       "      <th>71997</th>\n",
       "      <td>1.057442</td>\n",
       "      <td>0.037955</td>\n",
       "      <td>23.999333</td>\n",
       "    </tr>\n",
       "    <tr>\n",
       "      <th>71998</th>\n",
       "      <td>1.057957</td>\n",
       "      <td>0.037930</td>\n",
       "      <td>23.999667</td>\n",
       "    </tr>\n",
       "    <tr>\n",
       "      <th>71999</th>\n",
       "      <td>1.058473</td>\n",
       "      <td>0.037906</td>\n",
       "      <td>24.000000</td>\n",
       "    </tr>\n",
       "  </tbody>\n",
       "</table>\n",
       "<p>72000 rows × 3 columns</p>\n",
       "</div>"
      ],
      "text/plain": [
       "            wolf     sheep       time\n",
       "0      10.000000  5.000000   0.000000\n",
       "1       9.988333  5.011667   0.000333\n",
       "2       9.976641  5.023341   0.000667\n",
       "3       9.964924  5.035024   0.001000\n",
       "4       9.953182  5.046713   0.001333\n",
       "...          ...       ...        ...\n",
       "71995   1.056412  0.038004  23.998667\n",
       "71996   1.056926  0.037979  23.999000\n",
       "71997   1.057442  0.037955  23.999333\n",
       "71998   1.057957  0.037930  23.999667\n",
       "71999   1.058473  0.037906  24.000000\n",
       "\n",
       "[72000 rows x 3 columns]"
      ]
     },
     "execution_count": 17,
     "metadata": {},
     "output_type": "execute_result"
    }
   ],
   "source": [
    "df"
   ]
  },
  {
   "cell_type": "code",
   "execution_count": 18,
   "metadata": {},
   "outputs": [
    {
     "data": {
      "image/png": "[encoded data removed]",
      "text/plain": [
       "<Figure size 640x480 with 1 Axes>"
      ]
     },
     "metadata": {},
     "output_type": "display_data"
    },
    {
     "data": {
      "text/plain": [
       "<ggplot: (8766617304839)>"
      ]
     },
     "execution_count": 18,
     "metadata": {},
     "output_type": "execute_result"
    }
   ],
   "source": [
    "ggplot(df, aes(x=\"wolf\", y=\"sheep\")) + geom_path()"
   ]
  },
  {
   "cell_type": "markdown",
   "metadata": {},
   "source": [
    "# We need to melt the DataFrame to plot over time"
   ]
  },
  {
   "cell_type": "code",
   "execution_count": 19,
   "metadata": {},
   "outputs": [
    {
     "data": {
      "text/html": [
       "<div>\n",
       "<style scoped>\n",
       "    .dataframe tbody tr th:only-of-type {\n",
       "        vertical-align: middle;\n",
       "    }\n",
       "\n",
       "    .dataframe tbody tr th {\n",
       "        vertical-align: top;\n",
       "    }\n",
       "\n",
       "    .dataframe thead th {\n",
       "        text-align: right;\n",
       "    }\n",
       "</style>\n",
       "<table border=\"1\" class=\"dataframe\">\n",
       "  <thead>\n",
       "    <tr style=\"text-align: right;\">\n",
       "      <th></th>\n",
       "      <th>time</th>\n",
       "      <th>species</th>\n",
       "      <th>population</th>\n",
       "    </tr>\n",
       "  </thead>\n",
       "  <tbody>\n",
       "    <tr>\n",
       "      <th>0</th>\n",
       "      <td>0.000000</td>\n",
       "      <td>wolf</td>\n",
       "      <td>10.000000</td>\n",
       "    </tr>\n",
       "    <tr>\n",
       "      <th>1</th>\n",
       "      <td>0.000333</td>\n",
       "      <td>wolf</td>\n",
       "      <td>9.988333</td>\n",
       "    </tr>\n",
       "    <tr>\n",
       "      <th>2</th>\n",
       "      <td>0.000667</td>\n",
       "      <td>wolf</td>\n",
       "      <td>9.976641</td>\n",
       "    </tr>\n",
       "    <tr>\n",
       "      <th>3</th>\n",
       "      <td>0.001000</td>\n",
       "      <td>wolf</td>\n",
       "      <td>9.964924</td>\n",
       "    </tr>\n",
       "    <tr>\n",
       "      <th>4</th>\n",
       "      <td>0.001333</td>\n",
       "      <td>wolf</td>\n",
       "      <td>9.953182</td>\n",
       "    </tr>\n",
       "    <tr>\n",
       "      <th>...</th>\n",
       "      <td>...</td>\n",
       "      <td>...</td>\n",
       "      <td>...</td>\n",
       "    </tr>\n",
       "    <tr>\n",
       "      <th>143995</th>\n",
       "      <td>23.998667</td>\n",
       "      <td>sheep</td>\n",
       "      <td>0.038004</td>\n",
       "    </tr>\n",
       "    <tr>\n",
       "      <th>143996</th>\n",
       "      <td>23.999000</td>\n",
       "      <td>sheep</td>\n",
       "      <td>0.037979</td>\n",
       "    </tr>\n",
       "    <tr>\n",
       "      <th>143997</th>\n",
       "      <td>23.999333</td>\n",
       "      <td>sheep</td>\n",
       "      <td>0.037955</td>\n",
       "    </tr>\n",
       "    <tr>\n",
       "      <th>143998</th>\n",
       "      <td>23.999667</td>\n",
       "      <td>sheep</td>\n",
       "      <td>0.037930</td>\n",
       "    </tr>\n",
       "    <tr>\n",
       "      <th>143999</th>\n",
       "      <td>24.000000</td>\n",
       "      <td>sheep</td>\n",
       "      <td>0.037906</td>\n",
       "    </tr>\n",
       "  </tbody>\n",
       "</table>\n",
       "<p>144000 rows × 3 columns</p>\n",
       "</div>"
      ],
      "text/plain": [
       "             time species  population\n",
       "0        0.000000    wolf   10.000000\n",
       "1        0.000333    wolf    9.988333\n",
       "2        0.000667    wolf    9.976641\n",
       "3        0.001000    wolf    9.964924\n",
       "4        0.001333    wolf    9.953182\n",
       "...           ...     ...         ...\n",
       "143995  23.998667   sheep    0.038004\n",
       "143996  23.999000   sheep    0.037979\n",
       "143997  23.999333   sheep    0.037955\n",
       "143998  23.999667   sheep    0.037930\n",
       "143999  24.000000   sheep    0.037906\n",
       "\n",
       "[144000 rows x 3 columns]"
      ]
     },
     "execution_count": 19,
     "metadata": {},
     "output_type": "execute_result"
    }
   ],
   "source": [
    "dfmelt=pd.melt(df, id_vars=['time'], value_vars=[\"wolf\", \"sheep\"], \n",
    "               var_name='species', value_name='population')\n",
    "dfmelt"
   ]
  },
  {
   "cell_type": "code",
   "execution_count": 20,
   "metadata": {},
   "outputs": [
    {
     "data": {
      "image/png": "[encoded data removed]",
      "text/plain": [
       "<Figure size 640x480 with 1 Axes>"
      ]
     },
     "metadata": {},
     "output_type": "display_data"
    },
    {
     "data": {
      "text/plain": [
       "<ggplot: (8766617305064)>"
      ]
     },
     "execution_count": 20,
     "metadata": {},
     "output_type": "execute_result"
    }
   ],
   "source": [
    "ggplot(dfmelt, aes(x=\"time\", y=\"population\", color=\"species\")) + geom_line()"
   ]
  }
 ],
 "metadata": {
  "kernelspec": {
   "display_name": "Python 3",
   "language": "python",
   "name": "python3"
  },
  "language_info": {
   "codemirror_mode": {
    "name": "ipython",
    "version": 3
   },
   "file_extension": ".py",
   "mimetype": "text/x-python",
   "name": "python",
   "nbconvert_exporter": "python",
   "pygments_lexer": "ipython3",
   "version": "3.8.3"
  }
 },
 "nbformat": 4,
 "nbformat_minor": 2
}
